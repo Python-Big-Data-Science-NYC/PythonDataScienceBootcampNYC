{
 "cells": [
  {
   "cell_type": "markdown",
   "metadata": {},
   "source": [
    "http://www.quantatrisk.com/2017/03/31/cryptocurrency-portfolio-correlation-pca-python/"
   ]
  },
  {
   "cell_type": "code",
   "execution_count": 1,
   "metadata": {},
   "outputs": [],
   "source": [
    "# N-CryptoAsset Portfolios: Identifying Highly Correlated \n",
    "# Cryptocurrencies using PCA\n",
    "#\n",
    "# (c) 2017 QuantAtRisk.com, by Pawel Lachowicz\n",
    " \n",
    " \n",
    "import numpy as np\n",
    "import pandas as pd\n",
    "from scipy import stats\n",
    "from matplotlib import pyplot as plt\n",
    "from matplotlib.ticker import MaxNLocator\n",
    "from datetime import datetime\n",
    "import json\n",
    "from bs4 import BeautifulSoup\n",
    "import requests\n",
    " \n",
    "# define some custom colours\n",
    "grey = .6, .6, .6\n",
    " \n",
    " \n",
    "def timestamp2date(timestamp):\n",
    "    # function converts a Unix timestamp into Gregorian date\n",
    "    return datetime.fromtimestamp(int(timestamp)).strftime('%Y-%m-%d')\n",
    " \n",
    "def date2timestamp(date):\n",
    "    # function coverts Gregorian date in a given format to timestamp\n",
    "    return datetime.strptime(date_today, '%Y-%m-%d').timestamp()\n",
    " \n",
    "def fetchCryptoClose(fsym, tsym):\n",
    "    # function fetches the close-price time-series from cryptocompare.com\n",
    "    # it may ignore USDT coin (due to near-zero pricing)\n",
    "    # daily sampled\n",
    "    cols = ['date', 'timestamp', fsym]\n",
    "    lst = ['time', 'open', 'high', 'low', 'close']\n",
    "    timestamp_today = datetime.today().timestamp()\n",
    "    curr_timestamp = timestamp_today\n",
    " \n",
    "    for j in range(2):\n",
    "        df = pd.DataFrame(columns=cols)\n",
    "        url = \"https://min-api.cryptocompare.com/data/histoday?fsym=\" + fsym + \\\n",
    "              \"&tsym=\" + tsym + \"&toTs=\" + str(int(curr_timestamp)) + \"&limit=2000\"\n",
    "        response = requests.get(url)\n",
    "        soup = BeautifulSoup(response.content, \"html.parser\")\n",
    "        dic = json.loads(soup.prettify())\n",
    "        for i in range(1, 2001):\n",
    "            tmp = []\n",
    "            for e in enumerate(lst):\n",
    "                x = e[0]\n",
    "                y = dic['Data'][i][e[1]]\n",
    "                if(x == 0):\n",
    "                    tmp.append(str(timestamp2date(y)))\n",
    "                tmp.append(y)\n",
    "            if(np.sum(tmp[-4::]) > 0):  # remove for USDT\n",
    "                tmp = np.array(tmp)\n",
    "                tmp = tmp[[0,1,4]]  # filter solely for close prices\n",
    "                df.loc[len(df)] = np.array(tmp)\n",
    "        # ensure a correct date format\n",
    "        df.index = pd.to_datetime(df.date, format=\"%Y-%m-%d\")\n",
    "        df.drop('date', axis=1, inplace=True)\n",
    "        curr_timestamp = int(df.ix[0][0])\n",
    "        if(j == 0):\n",
    "            df0 = df.copy()\n",
    "        else:\n",
    "            data = pd.concat([df, df0], axis=0)\n",
    "    data.drop(\"timestamp\", axis=1, inplace=True)\n",
    " \n",
    "    return data  # DataFrame"
   ]
  },
  {
   "cell_type": "code",
   "execution_count": 2,
   "metadata": {},
   "outputs": [],
   "source": [
    "# N-Cryptocurrency Portfolio (tickers)\n",
    "fsym = ['BTC', 'ETH', 'DASH', 'XMR', 'XRP', 'LTC', 'ETC', 'XEM', 'REP', \n",
    "        'MAID', 'ZEC', 'STEEM', 'GNT', 'FCT', 'ICN', 'DGD', \n",
    "        'WAVES', 'DCR', 'LSK', 'DOGE', 'PIVX']\n",
    "# vs. \n",
    "tsym = 'USD'"
   ]
  },
  {
   "cell_type": "code",
   "execution_count": 3,
   "metadata": {},
   "outputs": [
    {
     "name": "stdout",
     "output_type": "stream",
     "text": [
      "0 BTC\n"
     ]
    },
    {
     "name": "stderr",
     "output_type": "stream",
     "text": [
      "D:\\ProgramData\\Anaconda3\\lib\\site-packages\\ipykernel_launcher.py:59: DeprecationWarning: \n",
      ".ix is deprecated. Please use\n",
      ".loc for label based indexing or\n",
      ".iloc for positional indexing\n",
      "\n",
      "See the documentation here:\n",
      "http://pandas.pydata.org/pandas-docs/stable/indexing.html#ix-indexer-is-deprecated\n"
     ]
    },
    {
     "name": "stdout",
     "output_type": "stream",
     "text": [
      "1 ETH\n",
      "2 DASH\n",
      "3 XMR\n",
      "4 XRP\n",
      "5 LTC\n",
      "6 ETC\n",
      "7 XEM\n",
      "8 REP\n",
      "9 MAID\n",
      "10 ZEC\n",
      "11 STEEM\n",
      "12 GNT\n",
      "13 FCT\n",
      "14 ICN\n",
      "15 DGD\n",
      "16 WAVES\n",
      "17 DCR\n",
      "18 LSK\n",
      "19 DOGE\n",
      "20 PIVX\n",
      "                   BTC     ETH    DASH     XMR     XRP     LTC    ETC     XEM  \\\n",
      "date                                                                            \n",
      "2010-07-16     0.04951     NaN     NaN     NaN     NaN     NaN    NaN     NaN   \n",
      "2010-07-17     0.05941     NaN     NaN     NaN     NaN     NaN    NaN     NaN   \n",
      "2010-07-18     0.07723     NaN     NaN     NaN     NaN     NaN    NaN     NaN   \n",
      "2010-07-19     0.07426     NaN     NaN     NaN     NaN     NaN    NaN     NaN   \n",
      "2010-07-20     0.06634     NaN     NaN     NaN     NaN     NaN    NaN     NaN   \n",
      "2010-07-21     0.05050     NaN     NaN     NaN     NaN     NaN    NaN     NaN   \n",
      "2010-07-22     0.05050     NaN     NaN     NaN     NaN     NaN    NaN     NaN   \n",
      "2010-07-23     0.05049     NaN     NaN     NaN     NaN     NaN    NaN     NaN   \n",
      "2010-07-24     0.05050     NaN     NaN     NaN     NaN     NaN    NaN     NaN   \n",
      "2010-07-25     0.05000     NaN     NaN     NaN     NaN     NaN    NaN     NaN   \n",
      "2010-07-26     0.05300     NaN     NaN     NaN     NaN     NaN    NaN     NaN   \n",
      "2010-07-27     0.05400     NaN     NaN     NaN     NaN     NaN    NaN     NaN   \n",
      "2010-07-28     0.05710     NaN     NaN     NaN     NaN     NaN    NaN     NaN   \n",
      "2010-07-29     0.05820     NaN     NaN     NaN     NaN     NaN    NaN     NaN   \n",
      "2010-07-30     0.05600     NaN     NaN     NaN     NaN     NaN    NaN     NaN   \n",
      "2010-07-31     0.06000     NaN     NaN     NaN     NaN     NaN    NaN     NaN   \n",
      "2010-08-01     0.06000     NaN     NaN     NaN     NaN     NaN    NaN     NaN   \n",
      "2010-08-02     0.05900     NaN     NaN     NaN     NaN     NaN    NaN     NaN   \n",
      "2010-08-03     0.05700     NaN     NaN     NaN     NaN     NaN    NaN     NaN   \n",
      "2010-08-04     0.05800     NaN     NaN     NaN     NaN     NaN    NaN     NaN   \n",
      "2010-08-05     0.06070     NaN     NaN     NaN     NaN     NaN    NaN     NaN   \n",
      "2010-08-06     0.05900     NaN     NaN     NaN     NaN     NaN    NaN     NaN   \n",
      "2010-08-07     0.05900     NaN     NaN     NaN     NaN     NaN    NaN     NaN   \n",
      "2010-08-08     0.05930     NaN     NaN     NaN     NaN     NaN    NaN     NaN   \n",
      "2010-08-09     0.06651     NaN     NaN     NaN     NaN     NaN    NaN     NaN   \n",
      "2010-08-10     0.06000     NaN     NaN     NaN     NaN     NaN    NaN     NaN   \n",
      "2010-08-11     0.06141     NaN     NaN     NaN     NaN     NaN    NaN     NaN   \n",
      "2010-08-12     0.06450     NaN     NaN     NaN     NaN     NaN    NaN     NaN   \n",
      "2010-08-13     0.06450     NaN     NaN     NaN     NaN     NaN    NaN     NaN   \n",
      "2010-08-14     0.06500     NaN     NaN     NaN     NaN     NaN    NaN     NaN   \n",
      "...                ...     ...     ...     ...     ...     ...    ...     ...   \n",
      "2018-05-09  9017.13000  722.65  417.61  216.62  0.7464  147.86  19.52  0.3533   \n",
      "2018-05-10  8363.50000  665.49  387.23  196.37  0.6487  133.56  16.83  0.3053   \n",
      "2018-05-11  8225.97000  638.47  377.65  190.93  0.6291  131.53  16.35  0.3064   \n",
      "2018-05-12  8350.91000  669.96  393.43  201.27  0.6646  136.96  17.64  0.3270   \n",
      "2018-05-13  8312.72000  685.75  388.85  196.32  0.6888  134.53  17.38  0.3319   \n",
      "2018-05-14  8441.25000  695.30  421.92  201.07  0.6819  137.92  18.07  0.3316   \n",
      "2018-05-15  8119.17000  676.60  395.33  192.37  0.6595  134.68  16.82  0.3077   \n",
      "2018-05-16  8015.77000  661.81  385.94  190.90  0.6510  131.48  16.58  0.3000   \n",
      "2018-05-17  7940.35000  657.70  373.95  186.30  0.6469  129.13  16.56  0.2926   \n",
      "2018-05-18  8160.80000  683.00  383.44  196.48  0.6607  133.13  17.43  0.3026   \n",
      "2018-05-19  8181.46000  687.86  383.32  196.15  0.6681  132.63  17.48  0.3047   \n",
      "2018-05-20  8347.88000  687.06  382.74  194.54  0.6695  133.73  17.40  0.3063   \n",
      "2018-05-21  7962.43000  638.35  356.72  175.13  0.6360  127.63  16.24  0.2862   \n",
      "2018-05-22  7460.66000  564.32  331.84  165.94  0.5755  116.37  14.46  0.2551   \n",
      "2018-05-23  7283.77000  544.19  326.35  160.88  0.5773  115.02  14.26  0.2543   \n",
      "2018-05-24  7347.96000  568.65  329.26  162.46  0.5941  117.18  14.73  0.2597   \n",
      "2018-05-25  7314.71000  578.43  322.39  163.09  0.5980  117.54  15.01  0.2566   \n",
      "2018-05-26  7256.67000  555.20  313.38  161.24  0.5982  116.72  14.94  0.2537   \n",
      "2018-05-27  7092.91000  500.81  285.19  149.25  0.5470  110.50  14.14  0.2285   \n",
      "2018-05-28  7069.01000  510.91  284.47  146.99  0.5447  109.90  14.09  0.2281   \n",
      "2018-05-29  7295.78000  542.08  296.42  152.74  0.5831  115.02  14.72  0.2346   \n",
      "2018-05-30  7349.52000  553.42  300.07  154.22  0.5900  116.44  15.01  0.2388   \n",
      "2018-05-31  7370.27000  564.46  301.84  153.16  0.6047  116.90  15.10  0.2444   \n",
      "2018-06-01  7467.79000  574.36  310.29  156.36  0.6147  118.82  15.32  0.2523   \n",
      "2018-06-02  7606.76000  590.30  321.79  162.18  0.6381  122.30  15.80  0.2617   \n",
      "2018-06-03  7469.21000  580.07  311.79  157.64  0.6357  118.38  15.08  0.2432   \n",
      "2018-06-04  7394.97000  576.47  307.67  157.40  0.6337  116.31  14.74  0.2398   \n",
      "2018-06-05  7504.98000  593.10  307.90  161.66  0.6556  118.53  14.91  0.2453   \n",
      "2018-06-06  7651.13000  598.60  313.56  162.99  0.6705  119.67  15.09  0.2503   \n",
      "2018-06-07  7559.50000  592.84  302.35  157.02  0.6583  118.58  15.08  0.2486   \n",
      "\n",
      "              REP    MAID  ...   STEEM     GNT    FCT     ICN     DGD  WAVES  \\\n",
      "date                       ...                                                 \n",
      "2010-07-16    NaN     NaN  ...     NaN     NaN    NaN     NaN     NaN    NaN   \n",
      "2010-07-17    NaN     NaN  ...     NaN     NaN    NaN     NaN     NaN    NaN   \n",
      "2010-07-18    NaN     NaN  ...     NaN     NaN    NaN     NaN     NaN    NaN   \n",
      "2010-07-19    NaN     NaN  ...     NaN     NaN    NaN     NaN     NaN    NaN   \n",
      "2010-07-20    NaN     NaN  ...     NaN     NaN    NaN     NaN     NaN    NaN   \n",
      "2010-07-21    NaN     NaN  ...     NaN     NaN    NaN     NaN     NaN    NaN   \n",
      "2010-07-22    NaN     NaN  ...     NaN     NaN    NaN     NaN     NaN    NaN   \n",
      "2010-07-23    NaN     NaN  ...     NaN     NaN    NaN     NaN     NaN    NaN   \n",
      "2010-07-24    NaN     NaN  ...     NaN     NaN    NaN     NaN     NaN    NaN   \n",
      "2010-07-25    NaN     NaN  ...     NaN     NaN    NaN     NaN     NaN    NaN   \n",
      "2010-07-26    NaN     NaN  ...     NaN     NaN    NaN     NaN     NaN    NaN   \n",
      "2010-07-27    NaN     NaN  ...     NaN     NaN    NaN     NaN     NaN    NaN   \n",
      "2010-07-28    NaN     NaN  ...     NaN     NaN    NaN     NaN     NaN    NaN   \n",
      "2010-07-29    NaN     NaN  ...     NaN     NaN    NaN     NaN     NaN    NaN   \n",
      "2010-07-30    NaN     NaN  ...     NaN     NaN    NaN     NaN     NaN    NaN   \n",
      "2010-07-31    NaN     NaN  ...     NaN     NaN    NaN     NaN     NaN    NaN   \n",
      "2010-08-01    NaN     NaN  ...     NaN     NaN    NaN     NaN     NaN    NaN   \n",
      "2010-08-02    NaN     NaN  ...     NaN     NaN    NaN     NaN     NaN    NaN   \n",
      "2010-08-03    NaN     NaN  ...     NaN     NaN    NaN     NaN     NaN    NaN   \n",
      "2010-08-04    NaN     NaN  ...     NaN     NaN    NaN     NaN     NaN    NaN   \n",
      "2010-08-05    NaN     NaN  ...     NaN     NaN    NaN     NaN     NaN    NaN   \n",
      "2010-08-06    NaN     NaN  ...     NaN     NaN    NaN     NaN     NaN    NaN   \n",
      "2010-08-07    NaN     NaN  ...     NaN     NaN    NaN     NaN     NaN    NaN   \n",
      "2010-08-08    NaN     NaN  ...     NaN     NaN    NaN     NaN     NaN    NaN   \n",
      "2010-08-09    NaN     NaN  ...     NaN     NaN    NaN     NaN     NaN    NaN   \n",
      "2010-08-10    NaN     NaN  ...     NaN     NaN    NaN     NaN     NaN    NaN   \n",
      "2010-08-11    NaN     NaN  ...     NaN     NaN    NaN     NaN     NaN    NaN   \n",
      "2010-08-12    NaN     NaN  ...     NaN     NaN    NaN     NaN     NaN    NaN   \n",
      "2010-08-13    NaN     NaN  ...     NaN     NaN    NaN     NaN     NaN    NaN   \n",
      "2010-08-14    NaN     NaN  ...     NaN     NaN    NaN     NaN     NaN    NaN   \n",
      "...           ...     ...  ...     ...     ...    ...     ...     ...    ...   \n",
      "2018-05-09  43.90  0.3438  ...    3.19  0.6400  23.48  1.0900  217.50   6.52   \n",
      "2018-05-10  43.26  0.3328  ...    2.48  0.5600  21.09  0.9229  195.20   5.85   \n",
      "2018-05-11  45.91  0.3400  ...    2.59  0.5270  20.83  1.0900  187.22   5.95   \n",
      "2018-05-12  49.12  0.3570  ...    2.79  0.5599  21.66  1.1000  195.44   6.04   \n",
      "2018-05-13  48.52  0.3553  ...    2.94  0.5801  20.97  1.2300  196.35   6.14   \n",
      "2018-05-14  52.46  0.3762  ...    2.90  0.5741  20.54  1.1900  192.67   6.02   \n",
      "2018-05-15  47.85  0.3152  ...    2.73  0.5351  18.85  1.1400  186.01   5.93   \n",
      "2018-05-16  49.32  0.3211  ...    2.72  0.5222  18.51  1.1000  180.15   5.90   \n",
      "2018-05-17  51.73  0.3115  ...    2.75  0.5092  18.34  1.0900  194.98   5.60   \n",
      "2018-05-18  52.25  0.3423  ...    2.97  0.5150  18.51  1.1300  192.37   5.94   \n",
      "2018-05-19  52.79  0.3444  ...    3.04  0.5179  19.69  1.1800  193.27   5.91   \n",
      "2018-05-20  50.26  0.3657  ...    2.87  0.5201  21.04  1.1400  189.19   5.71   \n",
      "2018-05-21  44.70  0.3687  ...    2.77  0.4925  19.21  1.0700  167.85   5.39   \n",
      "2018-05-22  39.19  0.3573  ...    2.63  0.4561  14.69  0.9172  143.96   4.62   \n",
      "2018-05-23  38.30  0.3618  ...    2.81  0.4520  16.75  0.9360  145.85   4.59   \n",
      "2018-05-24  39.00  0.4080  ...    2.64  0.4577  16.65  0.9374  144.27   4.65   \n",
      "2018-05-25  38.10  0.4341  ...    2.55  0.4543  16.41  0.9113  140.78   4.61   \n",
      "2018-05-26  37.86  0.4233  ...    2.46  0.4487  16.40  0.8798  137.08   4.42   \n",
      "2018-05-27  32.90  0.3989  ...    2.12  0.4401  14.30  0.8059  119.81   3.90   \n",
      "2018-05-28  32.64  0.3942  ...    2.16  0.4533  13.82  0.8544  126.17   3.91   \n",
      "2018-05-29  35.19  0.4120  ...    2.24  0.5253  14.63  0.8665  130.41   4.06   \n",
      "2018-05-30  35.59  0.4217  ...    2.29  0.5921  15.30  0.8868  132.41   4.05   \n",
      "2018-05-31  37.21  0.4374  ...    2.35  0.5887  15.27  0.9443  129.90   4.13   \n",
      "2018-06-01  38.57  0.4321  ...    2.40  0.6020  15.58  0.9623  133.91   4.16   \n",
      "2018-06-02  40.17  0.4546  ...    2.50  0.6051  16.20  0.9711  138.34   4.38   \n",
      "2018-06-03  37.21  0.4755  ...    2.28  0.5632  16.07  0.9161  136.56   4.21   \n",
      "2018-06-04  36.45  0.4546  ...    2.22  0.5501  15.05  0.9117  153.20   4.20   \n",
      "2018-06-05  37.01  0.4496  ...    2.28  0.5597  15.67  0.9240  152.09   4.28   \n",
      "2018-06-06  38.13  0.4612  ...    2.26  0.5595  15.89  0.9063  154.70   4.31   \n",
      "2018-06-07  37.47  0.4443  ...    2.20  0.5315  13.87  0.8747  157.59   4.55   \n",
      "\n",
      "               DCR    LSK      DOGE  PIVX  \n",
      "date                                       \n",
      "2010-07-16     NaN    NaN       NaN   NaN  \n",
      "2010-07-17     NaN    NaN       NaN   NaN  \n",
      "2010-07-18     NaN    NaN       NaN   NaN  \n",
      "2010-07-19     NaN    NaN       NaN   NaN  \n",
      "2010-07-20     NaN    NaN       NaN   NaN  \n",
      "2010-07-21     NaN    NaN       NaN   NaN  \n",
      "2010-07-22     NaN    NaN       NaN   NaN  \n",
      "2010-07-23     NaN    NaN       NaN   NaN  \n",
      "2010-07-24     NaN    NaN       NaN   NaN  \n",
      "2010-07-25     NaN    NaN       NaN   NaN  \n",
      "2010-07-26     NaN    NaN       NaN   NaN  \n",
      "2010-07-27     NaN    NaN       NaN   NaN  \n",
      "2010-07-28     NaN    NaN       NaN   NaN  \n",
      "2010-07-29     NaN    NaN       NaN   NaN  \n",
      "2010-07-30     NaN    NaN       NaN   NaN  \n",
      "2010-07-31     NaN    NaN       NaN   NaN  \n",
      "2010-08-01     NaN    NaN       NaN   NaN  \n",
      "2010-08-02     NaN    NaN       NaN   NaN  \n",
      "2010-08-03     NaN    NaN       NaN   NaN  \n",
      "2010-08-04     NaN    NaN       NaN   NaN  \n",
      "2010-08-05     NaN    NaN       NaN   NaN  \n",
      "2010-08-06     NaN    NaN       NaN   NaN  \n",
      "2010-08-07     NaN    NaN       NaN   NaN  \n",
      "2010-08-08     NaN    NaN       NaN   NaN  \n",
      "2010-08-09     NaN    NaN       NaN   NaN  \n",
      "2010-08-10     NaN    NaN       NaN   NaN  \n",
      "2010-08-11     NaN    NaN       NaN   NaN  \n",
      "2010-08-12     NaN    NaN       NaN   NaN  \n",
      "2010-08-13     NaN    NaN       NaN   NaN  \n",
      "2010-08-14     NaN    NaN       NaN   NaN  \n",
      "...            ...    ...       ...   ...  \n",
      "2018-05-09   81.75  11.06  0.004773  5.17  \n",
      "2018-05-10   78.33   9.75  0.004227  4.22  \n",
      "2018-05-11   82.23   9.72  0.004091  5.08  \n",
      "2018-05-12   86.22  10.00  0.004231  5.39  \n",
      "2018-05-13   89.42  10.45  0.004289  5.40  \n",
      "2018-05-14   93.79  10.53  0.004398  5.11  \n",
      "2018-05-15   88.29   9.97  0.004223  4.78  \n",
      "2018-05-16   89.43  10.23  0.004154  4.64  \n",
      "2018-05-17   91.22  10.01  0.004017  4.70  \n",
      "2018-05-18  101.55  10.52  0.004171  4.65  \n",
      "2018-05-19  108.03  10.65  0.004188  4.81  \n",
      "2018-05-20  105.84  10.79  0.004205  4.46  \n",
      "2018-05-21  103.91   9.80  0.003800  4.15  \n",
      "2018-05-22  100.05   8.66  0.003343  3.59  \n",
      "2018-05-23   99.28   8.76  0.003289  3.63  \n",
      "2018-05-24   99.05   8.93  0.003441  3.72  \n",
      "2018-05-25   91.86   8.94  0.003409  3.70  \n",
      "2018-05-26   86.58   8.80  0.003353  3.71  \n",
      "2018-05-27   83.86   8.00  0.003175  3.51  \n",
      "2018-05-28   89.32   7.95  0.003136  3.72  \n",
      "2018-05-29   89.09   8.27  0.003309  3.75  \n",
      "2018-05-30   90.85   8.31  0.003330  3.84  \n",
      "2018-05-31   93.15   8.45  0.003235  3.82  \n",
      "2018-06-01   97.53   8.63  0.003390  3.89  \n",
      "2018-06-02   97.50   9.22  0.003530  3.91  \n",
      "2018-06-03   93.56   8.97  0.003454  3.68  \n",
      "2018-06-04   97.43   8.88  0.003479  3.71  \n",
      "2018-06-05   98.76   8.72  0.003608  3.68  \n",
      "2018-06-06   99.10   8.64  0.003694  3.67  \n",
      "2018-06-07  100.98   8.38  0.003487  3.51  \n",
      "\n",
      "[2907 rows x 21 columns]\n"
     ]
    }
   ],
   "source": [
    "for e in enumerate(fsym):\n",
    "    print(e[0], e[1])\n",
    "    if(e[0] == 0):\n",
    "        try:\n",
    "            data = fetchCryptoClose(e[1], tsym)\n",
    "        except:\n",
    "            pass\n",
    "    else:\n",
    "        try:\n",
    "            data = data.join(fetchCryptoClose(e[1], tsym))\n",
    "        except:\n",
    "            pass\n",
    " \n",
    "data = data.astype(float)  # ensure values to be floats\n",
    " \n",
    "# save portfolio to a file (HDF5 file format)\n",
    "store = pd.HDFStore('portfolio.h5')\n",
    "store['data'] = data\n",
    "store.close()\n",
    " \n",
    "# read in your portfolio from a file\n",
    "df = pd.read_hdf('portfolio.h5', 'data')\n",
    "print(df)"
   ]
  },
  {
   "cell_type": "code",
   "execution_count": 4,
   "metadata": {},
   "outputs": [
    {
     "name": "stdout",
     "output_type": "stream",
     "text": [
      "Index(['BTC', 'ETH', 'DASH', 'XMR', 'XRP', 'LTC', 'ETC', 'XEM', 'REP', 'MAID',\n",
      "       'ZEC', 'STEEM', 'GNT', 'FCT', 'ICN', 'DGD', 'WAVES', 'DCR', 'LSK',\n",
      "       'DOGE', 'PIVX'],\n",
      "      dtype='object')\n"
     ]
    }
   ],
   "source": [
    "print(df.columns)"
   ]
  },
  {
   "cell_type": "code",
   "execution_count": 5,
   "metadata": {},
   "outputs": [
    {
     "name": "stdout",
     "output_type": "stream",
     "text": [
      "                BTC  DASH  XMR\n",
      "date                          \n",
      "2010-07-16  0.04951   NaN  NaN\n",
      "2010-07-17  0.05941   NaN  NaN\n",
      "2010-07-18  0.07723   NaN  NaN\n",
      "2010-07-19  0.07426   NaN  NaN\n",
      "2010-07-20  0.06634   NaN  NaN\n"
     ]
    }
   ],
   "source": [
    "df1 = df[['BTC', 'DASH', 'XMR']]\n",
    "print(df1.head())"
   ]
  },
  {
   "cell_type": "code",
   "execution_count": 6,
   "metadata": {},
   "outputs": [
    {
     "name": "stdout",
     "output_type": "stream",
     "text": [
      "               BTC  DASH     XMR\n",
      "date                            \n",
      "2015-01-28  220.36  1.90  0.3107\n",
      "2015-01-29  227.19  1.33  0.3027\n",
      "2015-01-30  216.46  1.90  0.2896\n",
      "2015-01-31  209.71  1.90  0.2896\n",
      "2015-02-01  220.53  1.90  0.2867\n"
     ]
    }
   ],
   "source": [
    "df1 = df1.dropna().drop_duplicates()\n",
    "print(df1.head())"
   ]
  },
  {
   "cell_type": "code",
   "execution_count": 7,
   "metadata": {},
   "outputs": [],
   "source": [
    "# portfolio pre-processing\n",
    "dfP = df[(df.index >= \"2017-03-01\") & (df.index <= \"2017-03-31\")]\n",
    "dfP = dfP.dropna(axis=1, how='any')"
   ]
  },
  {
   "cell_type": "code",
   "execution_count": 8,
   "metadata": {},
   "outputs": [
    {
     "data": {
      "image/png": "[encoded data removed]",
      "text/plain": [
       "<matplotlib.figure.Figure at 0x2d4e1ebd828>"
      ]
     },
     "metadata": {},
     "output_type": "display_data"
    },
    {
     "data": {
      "image/png": "[encoded data removed]",
      "text/plain": [
       "<matplotlib.figure.Figure at 0x2d4e3007358>"
      ]
     },
     "metadata": {},
     "output_type": "display_data"
    }
   ],
   "source": [
    "m = dfP.mean(axis=0)\n",
    "s = dfP.std(ddof=1, axis=0)\n",
    " \n",
    "# normalised time-series as an input for PCA\n",
    "dfPort = (dfP - m)/s\n",
    " \n",
    "c = np.cov(dfPort.values.T)     # covariance matrix\n",
    "co = np.corrcoef(dfP.values.T)  # correlation matrix\n",
    " \n",
    "tickers = list(dfP.columns)\n",
    " \n",
    "plt.figure(figsize=(8,8))\n",
    "plt.imshow(co, cmap=\"RdGy\", interpolation=\"nearest\")\n",
    "cb = plt.colorbar()\n",
    "cb.set_label(\"Correlation Matrix Coefficients\")\n",
    "plt.title(\"Correlation Matrix\", fontsize=14)\n",
    "plt.xticks(np.arange(len(tickers)), tickers, rotation=90)\n",
    "plt.yticks(np.arange(len(tickers)), tickers)\n",
    " \n",
    "# perform PCA\n",
    "w, v = np.linalg.eig(c)  \n",
    " \n",
    "ax = plt.figure(figsize=(8,8)).gca()\n",
    "plt.imshow(v, cmap=\"bwr\", interpolation=\"nearest\")\n",
    "cb = plt.colorbar()\n",
    "plt.yticks(np.arange(len(tickers)), tickers)\n",
    "plt.xlabel(\"PC Number\")\n",
    "plt.title(\"PCA\", fontsize=14)\n",
    "# force x-tickers to be displayed as integers (not floats)\n",
    "ax.xaxis.set_major_locator(MaxNLocator(integer=True))"
   ]
  },
  {
   "cell_type": "code",
   "execution_count": 9,
   "metadata": {},
   "outputs": [
    {
     "data": {
      "image/png": "[encoded data removed]",
      "text/plain": [
       "<matplotlib.figure.Figure at 0x2d4e1ec5780>"
      ]
     },
     "metadata": {},
     "output_type": "display_data"
    }
   ],
   "source": [
    "# choose PC-k numbers\n",
    "k1 = -1  # the last PC column in 'v' PCA matrix\n",
    "k2 = -2  # the second last PC column\n",
    " \n",
    "# begin constructing bi-plot for PC(k1) and PC(k2)\n",
    "# loadings\n",
    "plt.figure(figsize=(7,7))\n",
    "plt.grid()\n",
    " \n",
    "# compute the distance from (0,0) point\n",
    "dist = []\n",
    "for i in range(v.shape[0]):\n",
    "    x = v[i,k1]\n",
    "    y = v[i,k2]\n",
    "    plt.plot(x, y, '.k')\n",
    "    plt.plot([0,x], [0,y], '-', color=grey)\n",
    "    d = np.sqrt(x**2 + y**2)\n",
    "    dist.append(d)"
   ]
  },
  {
   "cell_type": "code",
   "execution_count": 10,
   "metadata": {},
   "outputs": [
    {
     "data": {
      "text/plain": [
       "Text(0,0.5,'PC-16')"
      ]
     },
     "execution_count": 10,
     "metadata": {},
     "output_type": "execute_result"
    },
    {
     "data": {
      "image/png": "[encoded data removed]",
      "text/plain": [
       "<matplotlib.figure.Figure at 0x2d4e325a4a8>"
      ]
     },
     "metadata": {},
     "output_type": "display_data"
    }
   ],
   "source": [
    "# check and save membership of a coin to\n",
    "# a quarter number 1, 2, 3 or 4 on the plane\n",
    "quar = []\n",
    "for i in range(v.shape[0]):\n",
    "    x = v[i,k1]\n",
    "    y = v[i,k2]\n",
    "    d = np.sqrt(x**2 + y**2)\n",
    "    if(d > np.mean(dist) + np.std(dist, ddof=1)):\n",
    "        plt.plot(x, y, '.r', markersize=10)\n",
    "        plt.plot([0,x], [0,y], '-', color=grey)\n",
    "        if((x > 0) and (y > 0)):\n",
    "            quar.append((i, 1))\n",
    "        elif((x < 0) and (y > 0)):\n",
    "            quar.append((i, 2))\n",
    "        elif((x < 0) and (y < 0)):\n",
    "            quar.append((i, 3))\n",
    "        elif((x > 0) and (y < 0)):\n",
    "            quar.append((i, 4))\n",
    "        plt.text(x, y, tickers[i], color='k')\n",
    " \n",
    "plt.xlabel(\"PC-\" + str(len(tickers)+k1+1))\n",
    "plt.ylabel(\"PC-\" + str(len(tickers)+k2+1))"
   ]
  },
  {
   "cell_type": "code",
   "execution_count": 11,
   "metadata": {},
   "outputs": [
    {
     "name": "stdout",
     "output_type": "stream",
     "text": [
      "DCR ETH\n",
      "0.9110143057547325 1.1171587075311803e-12\n",
      "0.7978494623655915 2.8694855941660096e-10\n"
     ]
    },
    {
     "data": {
      "image/png": "[encoded data removed]",
      "text/plain": [
       "<matplotlib.figure.Figure at 0x2d4e32ec3c8>"
      ]
     },
     "metadata": {},
     "output_type": "display_data"
    }
   ],
   "source": [
    "for i in range(len(quar)):\n",
    "    # Q1 vs Q3\n",
    "    if(quar[i][1] == 1):\n",
    "        for j in range(len(quar)):\n",
    "            if(quar[j][1] == 3):\n",
    "                plt.figure(figsize=(7,4))\n",
    " \n",
    "                # highly correlated coins according to the PC analysis\n",
    "                print(tickers[quar[i][0]], tickers[quar[j][0]])\n",
    " \n",
    "                ts1 = dfP[tickers[quar[i][0]]]  # time-series\n",
    "                ts2 = dfP[tickers[quar[j][0]]]\n",
    " \n",
    "                # correlation metrics and their p_values\n",
    "                slope, intercept, r2, pvalue, _ = stats.linregress(ts1, ts2)\n",
    "                ktau, kpvalue = stats.kendalltau(ts1, ts2)\n",
    "                print(r2, pvalue)\n",
    "                print(ktau, kpvalue)\n",
    " \n",
    "                plt.plot(ts1, ts2, '.k')\n",
    "                xline = np.linspace(np.min(ts1), np.max(ts1), 100)\n",
    "                yline = slope*xline + intercept\n",
    "                plt.plot(xline, yline,'--', color='b')  # linear model fit\n",
    "                plt.xlabel(tickers[quar[i][0]])\n",
    "                plt.ylabel(tickers[quar[j][0]])\n",
    "                plt.show()\n",
    "    # Q2 vs Q4\n",
    "    if(quar[i][1] == 2):\n",
    "        for j in range(len(quar)):\n",
    "            if(quar[j][1] == 4):\n",
    "                plt.figure(figsize=(7,4))\n",
    "                print(tickers[quar[i][0]], tickers[quar[j][0]])\n",
    "                ts1 = dfP[tickers[quar[i][0]]]\n",
    "                ts2 = dfP[tickers[quar[j][0]]]\n",
    "                slope, intercept, r2, pvalue, _ = stats.linregress(ts1, ts2)\n",
    "                ktau, kpvalue = stats.kendalltau(ts1, ts2)\n",
    "                print(r2, pvalue)\n",
    "                print(ktau, kpvalue)\n",
    "                plt.plot(ts1, ts2, '.k')\n",
    "                xline = np.linspace(np.min(ts1), np.max(ts1), 100)\n",
    "                yline = slope*xline + intercept\n",
    "                plt.plot(xline, yline,'--', color='b')\n",
    "                plt.xlabel(tickers[quar[i][0]])\n",
    "                plt.ylabel(tickers[quar[j][0]])\n",
    "                plt.show()"
   ]
  },
  {
   "cell_type": "code",
   "execution_count": null,
   "metadata": {},
   "outputs": [],
   "source": []
  }
 ],
 "metadata": {
  "kernelspec": {
   "display_name": "Python [default]",
   "language": "python",
   "name": "python3"
  },
  "language_info": {
   "codemirror_mode": {
    "name": "ipython",
    "version": 3
   },
   "file_extension": ".py",
   "mimetype": "text/x-python",
   "name": "python",
   "nbconvert_exporter": "python",
   "pygments_lexer": "ipython3",
   "version": "3.6.4"
  }
 },
 "nbformat": 4,
 "nbformat_minor": 2
}
