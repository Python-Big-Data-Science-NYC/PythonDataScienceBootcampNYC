{
  "cells": [
    {
      "metadata": {
        "trusted": false
      },
      "cell_type": "code",
      "source": "#Request for Survey \n#https://docs.google.com/forms/d/e/1FAIpQLScv8JFBpMEYg4k03_ZEXPcrfMkrwGhQLdLr5y4uD7WT9tl9Xw/viewform\n# PPT: https://docs.google.com/presentation/d/1LmBC6uq2iZPDSnqjdaZqILkDJjl4SB-97ARgPFEejHE/edit?usp=sharing",
      "execution_count": 1,
      "outputs": []
    },
    {
      "metadata": {
        "trusted": true
      },
      "cell_type": "code",
      "source": "x=\"hi\"",
      "execution_count": 4,
      "outputs": []
    },
    {
      "metadata": {
        "trusted": true
      },
      "cell_type": "code",
      "source": "x",
      "execution_count": 6,
      "outputs": [
        {
          "output_type": "stream",
          "text": "hi\n",
          "name": "stdout"
        }
      ]
    },
    {
      "metadata": {
        "trusted": true
      },
      "cell_type": "code",
      "source": "x=10",
      "execution_count": 15,
      "outputs": []
    },
    {
      "metadata": {
        "trusted": true
      },
      "cell_type": "code",
      "source": "x",
      "execution_count": 8,
      "outputs": [
        {
          "output_type": "execute_result",
          "execution_count": 8,
          "data": {
            "text/plain": "10"
          },
          "metadata": {}
        }
      ]
    },
    {
      "metadata": {
        "trusted": false
      },
      "cell_type": "code",
      "source": "print(\"Hello World!\")\nprint(\"Hello Again\")\nprint(\"I like typing this.\")\nprint(\"This is fun.\")\nprint(\"Yay! 'Printing.\")\nprint(\"I'd much rather you 'not'.\")\nprint('I \"said\" do not touch this.')",
      "execution_count": 3,
      "outputs": [
        {
          "name": "stdout",
          "output_type": "stream",
          "text": "Hello World!\nHello Again\nI like typing this.\nThis is fun.\nYay! 'Printing.\nI'd much rather you 'not'.\nI \"said\" do not touch this.\n"
        }
      ]
    },
    {
      "metadata": {
        "trusted": false
      },
      "cell_type": "code",
      "source": "# A comment, this is so you can read your program later.\n# Anything after the # is ignored by pyhton.\n\nprint(\"I could have code like this.\")  # and the comment after is ignored\n\n# You can also use a comment to \"disable\" or comment out a piece of code:\n# print (\"This won't run.\")\n\nprint(\"This will run.\")",
      "execution_count": null,
      "outputs": []
    },
    {
      "metadata": {
        "trusted": false
      },
      "cell_type": "code",
      "source": "print(\"I will now count my chickens:\")\n\nprint(\"Hens\", 25 + 30 / 6)\nprint(\"Rosters\", 100 - 25 * 3 % 4)\n\nprint(\"Now I will count the eggs:\")\n\nprint(round(3 + 2 + 1 - 5 + 4 % 2 - 1 / 4 + 6))\n\nprint(\"Is it true that 3 + 2 < 5 - 7?\")\n\nprint(3 + 2 < 5 - 7)\n\nprint(\"What is 3 + 2?\", 3 + 2)\nprint(\"What is 5 - 7?\", 5 - 7)\n\nprint(\"Oh, that's why it's False.\")\n\nprint(\"How about some more.\")\n\nprint(\"It is greater?\", 5 > -2)\nprint(\"It is greater or equal?\", 5 >= -2)\nprint(\"It is less or equal?\", 5 <= -2)",
      "execution_count": null,
      "outputs": []
    },
    {
      "metadata": {
        "trusted": true
      },
      "cell_type": "code",
      "source": " 25 + 30 / 6",
      "execution_count": 11,
      "outputs": [
        {
          "output_type": "execute_result",
          "execution_count": 11,
          "data": {
            "text/plain": "30.0"
          },
          "metadata": {}
        }
      ]
    },
    {
      "metadata": {
        "trusted": false
      },
      "cell_type": "code",
      "source": "print(\"Hens\", 25 + 30 / 6)",
      "execution_count": null,
      "outputs": []
    },
    {
      "metadata": {
        "trusted": true
      },
      "cell_type": "code",
      "source": "print(3 + 2 < 5 - 7)\n",
      "execution_count": 12,
      "outputs": [
        {
          "output_type": "stream",
          "text": "False\n",
          "name": "stdout"
        }
      ]
    },
    {
      "metadata": {
        "trusted": true
      },
      "cell_type": "code",
      "source": "x==10",
      "execution_count": 16,
      "outputs": [
        {
          "output_type": "execute_result",
          "execution_count": 16,
          "data": {
            "text/plain": "True"
          },
          "metadata": {}
        }
      ]
    },
    {
      "metadata": {
        "trusted": true
      },
      "cell_type": "code",
      "source": "cars = 100\nspace_in_a_car = 4.0\ndrivers = 30\npassengers = 90\ncars_not_driven = cars - drivers\ncars_driven = drivers\ncarpool_capacity = cars_driven * space_in_a_car\naverage_passengers_per_car = passengers / cars_driven\n\nprint(\"There are \"+ str(cars)+ \" cars available.\")\nprint(\"There are only\", drivers, \"drivers available.\")\nprint(\"There will be\", cars_not_driven, \"empty cars today\")\nprint(\"We can transport\", carpool_capacity, \"people today.\")\nprint(\"We have\", passengers, \"to carpool today.\")\nprint(\"We need to put about\", average_passengers_per_car, \"in each car.\")",
      "execution_count": 20,
      "outputs": [
        {
          "output_type": "stream",
          "text": "There are 100 cars available.\nThere are only 30 drivers available.\nThere will be 70 empty cars today\nWe can transport 120.0 people today.\nWe have 90 to carpool today.\nWe need to put about 3.0 in each car.\n",
          "name": "stdout"
        }
      ]
    },
    {
      "metadata": {
        "trusted": false
      },
      "cell_type": "code",
      "source": "# this one is like your scripts with argv\ndef print_two(*args):\n    arg1, arg2, arg3 = args\n    print(f\"arg1: {arg1}, arg2: {arg2}\",arg3)\n\n\n# ok, that *args is actually pointless, we can just do this\ndef print_two_again(arg1, arg2):\n    print(f\"arg1: {arg1}, arg2: {arg2}\")\n\n\n# this just takes one argument\ndef print_one(arg1):\n    print(f\"arg1: {arg1}\")\n\n\n# this one takes no arguments\ndef print_none():\n    print(\"I got nothin'.\")\n\n\nprint_two(\"Zed\", \"Shaw\")\nprint_two_again(\"Zed\", \"Shaw\")\nprint_one(\"First!\")\nprint_none()",
      "execution_count": null,
      "outputs": []
    },
    {
      "metadata": {
        "trusted": false
      },
      "cell_type": "code",
      "source": "",
      "execution_count": null,
      "outputs": []
    },
    {
      "metadata": {
        "trusted": false
      },
      "cell_type": "code",
      "source": "def print_two(*args): \n    arg1, arg2, arg3 = args\n    #print(f\"arg1: {arg1}, arg2: {arg2}, arg3: {arg3}\")\n    print(args)",
      "execution_count": null,
      "outputs": []
    },
    {
      "metadata": {
        "trusted": false
      },
      "cell_type": "code",
      "source": "print_two(\"Zed\", \"Shaw\",\"hello\")\n",
      "execution_count": null,
      "outputs": []
    },
    {
      "metadata": {
        "trusted": false
      },
      "cell_type": "code",
      "source": "def break_words(stuff):\n    \"\"\"This function will break up words for us.\"\"\"\n    words = stuff.split(' ')\n    return words\n\n\ndef sort_words(words):\n    \"\"\"Sorts the words.\"\"\"\n    return sorted(words)\n\n\ndef print_first_word(words):\n    \"\"\"Prints the first word after popping it off.\"\"\"\n    word = words.pop(0)\n    print(word)\n\n\ndef print_last_word(words):\n    \"\"\"Prints the last word after popping it of.\"\"\"\n    word = words.pop(-1)\n    print(word)\n\n\ndef sort_sentence(sentence):\n    \"\"\"Takes in a full sentence and returns the sorted words.\"\"\"\n    words = break_words(sentence)\n    return (sort_words(words))\n\n\ndef print_first_and_last(sentence):\n    \"\"\"Prints the first and last words of a sentence.\"\"\"\n    words = break_words(sentence)\n    print_first_word(words)\n    print_last_word(words)\n\n\ndef print_first_and_last_sorted(sentence):\n    \"\"\"Sorts the words then prints the first and last one.\"\"\"\n    words = sort_sentence(sentence)\n    print_first_word(words)\n    print_last_word(words)",
      "execution_count": null,
      "outputs": []
    },
    {
      "metadata": {
        "trusted": false
      },
      "cell_type": "code",
      "source": "listofwords=break_words(\"Can you break this for me\")",
      "execution_count": null,
      "outputs": []
    },
    {
      "metadata": {
        "trusted": false
      },
      "cell_type": "code",
      "source": "sort_words(listofwords)",
      "execution_count": null,
      "outputs": []
    },
    {
      "metadata": {
        "trusted": false
      },
      "cell_type": "code",
      "source": "listofwords.pop()",
      "execution_count": null,
      "outputs": []
    },
    {
      "metadata": {
        "trusted": false
      },
      "cell_type": "code",
      "source": "listofwords.pop(-1)",
      "execution_count": null,
      "outputs": []
    },
    {
      "metadata": {
        "trusted": false
      },
      "cell_type": "code",
      "source": "listofwords",
      "execution_count": null,
      "outputs": []
    },
    {
      "metadata": {
        "trusted": false
      },
      "cell_type": "code",
      "source": "listofwords.pop(0)",
      "execution_count": null,
      "outputs": []
    },
    {
      "metadata": {
        "trusted": false
      },
      "cell_type": "code",
      "source": "print(\"You enter a dark room with two doors.\")\nprint(\"Do you go through door #1 or door #2?\")\n\ndoor = input(\"> \")\n\nif door == \"1\":\n    print(\"There's a giant bear here eating a cheese cake.\")\n    print(\"What do you do?\")\n    print(\"1. Take the cake.\")\n    print(\"2. Scream at the bear.\")\n\n    bear = input(\"> \")\n\n    if bear == \"1\":\n        print(\"The bear eats your face off. Good job!\")\n    elif bear == \"2\":\n        print(\"The bear eats your legs off. Good job!\")\n    else:\n        print(f\"Well, doing {bear} is probably better.\")\n        print(\"Bear runs away.\")\n\nelif door == \"2\":\n    print(\"You stare into the endless abyss at Cthulhu's retina.\")\n    print(\"1. Blueberries.\")\n    print(\"2. Yellow jacket clothespins.\")\n    print(\"3. Understanding revolvers yelling melodies.\")\n\n    insanity = input(\"> \")\n\n    if insanity == \"1\" or insanity == \"2\":\n        print(\"Your body survives powered by a mind of jello.\")\n        print(\"Good job!\")\n    else:\n        print(\"The insanity rots your eyes into a pool of muck.\")\n        print(\"Good job!\")\n\nelse:\n    print(\"You stumble around and fall on knife and die. Good job!\")",
      "execution_count": null,
      "outputs": []
    },
    {
      "metadata": {
        "trusted": false
      },
      "cell_type": "code",
      "source": "the_count = [1, 2, 3, 4, 5]\nfruits = ['apples', 'oranges', 'pears', 'apricots']\nchange = [1, 'pennies', 2, 'dimes', 3, 'quarters']\n\n# this first kind of for-loop goes through a list\nfor number in the_count:\n    print(f\"This is count {number}\")\n\n# same as above\nfor fruit in fruits:\n    print(f\"A fruit of type: {fruit}\")\n\n# also we can go through mixed lists too\n# notice we have to use %r since we don't know what's in items\nfor i in change:\n    print(f\"I got {i}\")\n\n# we can also build lists, first start with an empty one\nelements = []\n\n# then use the range function to do 0 to 5 counts\nfor i in range(0, 6):\n    print(f\"Adding {i} to the list.\")\n    # append is a function that lists understand\n    elements.append(i)\n\n# now we can print them out too\nfor i in elements:\n    print(f\"Element was: {i}\")",
      "execution_count": null,
      "outputs": []
    },
    {
      "metadata": {
        "trusted": false
      },
      "cell_type": "code",
      "source": "for xxx in the_count:\n    print(\"This is count\", xxx)",
      "execution_count": null,
      "outputs": []
    },
    {
      "metadata": {
        "trusted": false
      },
      "cell_type": "code",
      "source": "elements = []\n\nfor i in range(0, 6):\n    print(\"Adding\",i, \"to the list.\")\n    # append is a function that lists understand\n    elements.append(i)",
      "execution_count": null,
      "outputs": []
    },
    {
      "metadata": {
        "trusted": false
      },
      "cell_type": "code",
      "source": "elements[-1]",
      "execution_count": null,
      "outputs": []
    },
    {
      "metadata": {
        "trusted": false
      },
      "cell_type": "code",
      "source": "i = 0\nnumbers = []\n\nwhile i < 6:\n    print(f\"At the top i is {i}\")\n    numbers.append(i)\n\n    i = i + 1\n    print(\"Numbers now: \", numbers)\n    print(f\"At the bottom i is {i}\")\n\nprint(\"The numbers: \")\n\nfor num in numbers:\n    print(num)",
      "execution_count": null,
      "outputs": []
    },
    {
      "metadata": {
        "trusted": false
      },
      "cell_type": "code",
      "source": "numbers",
      "execution_count": null,
      "outputs": []
    },
    {
      "metadata": {
        "trusted": false
      },
      "cell_type": "code",
      "source": "i",
      "execution_count": null,
      "outputs": []
    },
    {
      "metadata": {
        "trusted": false
      },
      "cell_type": "code",
      "source": "ten_things = \"Apples Oranges Crows Telephone Light Sugar\"\n\nprint(\"Wait there's not 10 things in that list, let's fix that.\")\n\nstuff = ten_things.split(' ')\n\n\nmore_stuff = [\"Day\", \"Night\", \"Song\", \"Frisbee\",\n              \"Corn\", \"Banana\", \"Girl\", \"Boy\"]\n\nwhile len(stuff) != 10:\n    next_one = more_stuff.pop()\n    print(\"Adding: \", next_one)\n    stuff.append(next_one)\n    print(f\"There's {len(stuff)} items now.\")\n\nprint(\"There we go: \", stuff)\n\nprint(\"Let's do some things with stuff.\")\n\n",
      "execution_count": null,
      "outputs": []
    },
    {
      "metadata": {
        "trusted": false
      },
      "cell_type": "code",
      "source": "# create a mapping of state to abbreviation\nstates = {\n    'Oregon': 'OR',\n    'Florida': 'FL',\n    'California': 'CA',\n    'New York': 'NY',\n    'Michigan': 'MI'\n}\n\n# create a basic set of states and some cities in them\ncities = {'CA': 'San Francisco',\n          'MI': 'Detroit',\n          'FL': 'Jacksonville'}\n\n# add some more cities\ncities['NY'] = 'New York'\ncities['OR'] = 'Portland'\n\n# print out some cities\nprint('-' * 10)\nprint(\"NY State has: \", cities['NY'])\nprint(\"OR State has: \", cities['OR'])\n\n# print some states\nprint('-' * 10)\nprint(\"Michigan's abbreviation is: \", states[\"Michigan\"])\nprint(\"Florida's abbreviation is: \", states['Florida'])\n\n# do it by using the state then cities dict\nprint('-' * 10)\nprint(\"Michigan has: \", cities[states['Michigan']])\nprint(\"Florida has: \", cities[states['Florida']])\n\n# print every state abbreviation\nprint('-' * 10)\nfor state, abbrev in states.items():\n    print(f\"{state} is abbreviated {abbrev}\")\n\n# print every city in state\nprint('-' * 10)\nfor abbrev, city in cities.items():\n    print(f\"{abbrev} has the city {city}\")\n",
      "execution_count": null,
      "outputs": []
    },
    {
      "metadata": {
        "trusted": false
      },
      "cell_type": "code",
      "source": "\n# now do both at the same time\nprint('-' * 10)\nfor xxx, yyy in states.items():\n    print(xxx)\n    print(yyy)\n\n",
      "execution_count": null,
      "outputs": []
    },
    {
      "metadata": {
        "trusted": false
      },
      "cell_type": "code",
      "source": "print('-' * 10)\n# safely get an abbreviation by state that might not be there\nstate = states.get('Texas')\n\nif not state:\n    print(\"Sorry, no Texas.\")\n\n# get a city with a default values\ncity = cities.get('TX', 'Does not Exist')\nprint(f\"The city for the state 'TX' is: {city}\")",
      "execution_count": null,
      "outputs": []
    },
    {
      "metadata": {
        "trusted": false
      },
      "cell_type": "code",
      "source": "states.get('Texas')",
      "execution_count": null,
      "outputs": []
    },
    {
      "metadata": {
        "trusted": false
      },
      "cell_type": "code",
      "source": "def short_function(x): \n    return x * 2",
      "execution_count": null,
      "outputs": []
    },
    {
      "metadata": {
        "trusted": false
      },
      "cell_type": "code",
      "source": "f = lambda x: x * 2",
      "execution_count": null,
      "outputs": []
    },
    {
      "metadata": {
        "trusted": false
      },
      "cell_type": "code",
      "source": "f(6)",
      "execution_count": null,
      "outputs": []
    },
    {
      "metadata": {
        "trusted": false
      },
      "cell_type": "code",
      "source": "short_function(6)",
      "execution_count": null,
      "outputs": []
    },
    {
      "metadata": {
        "trusted": false
      },
      "cell_type": "code",
      "source": "def apply_to_list(some_list, short_function): \n    return [short_function(x) for x in some_list]\n\n",
      "execution_count": null,
      "outputs": []
    },
    {
      "metadata": {
        "trusted": false
      },
      "cell_type": "code",
      "source": "apply_to_list([1,2,3],short_function )",
      "execution_count": null,
      "outputs": []
    },
    {
      "metadata": {
        "trusted": false
      },
      "cell_type": "code",
      "source": "ints = [4, 0, 1, 5, 6] \napply_to_list(ints, lambda x: x * 2)\n\n",
      "execution_count": null,
      "outputs": []
    },
    {
      "metadata": {
        "trusted": false
      },
      "cell_type": "code",
      "source": "# list comprehension\n# lambda - def function on the fly\n# passing a function as argument \n",
      "execution_count": null,
      "outputs": []
    },
    {
      "metadata": {
        "trusted": false
      },
      "cell_type": "code",
      "source": "# List Comprehension: http://www.pythonforbeginners.com/basics/list-comprehensions-in-python\n#[ expression for item in list if conditional ]\n\nx = [i*2 for i in range(10)]\nprint (x)",
      "execution_count": null,
      "outputs": []
    },
    {
      "metadata": {
        "trusted": false
      },
      "cell_type": "code",
      "source": "# https://docs.microsoft.com/en-us/dotnet/csharp/programming-guide/delegates/using-delegates",
      "execution_count": null,
      "outputs": []
    },
    {
      "metadata": {
        "trusted": false
      },
      "cell_type": "code",
      "source": "strings = ['foo', 'card', 'bar', 'aaaa', 'abab']\n",
      "execution_count": null,
      "outputs": []
    },
    {
      "metadata": {
        "trusted": false
      },
      "cell_type": "code",
      "source": "",
      "execution_count": null,
      "outputs": []
    },
    {
      "metadata": {
        "trusted": false
      },
      "cell_type": "code",
      "source": "strings.sort(key=lambda x: len(set(list(x))))\nstrings",
      "execution_count": null,
      "outputs": []
    },
    {
      "metadata": {
        "trusted": false
      },
      "cell_type": "code",
      "source": "len(set(list(strings)))",
      "execution_count": null,
      "outputs": []
    },
    {
      "metadata": {
        "trusted": false
      },
      "cell_type": "code",
      "source": "strings.sort(key=lambda x: len(set(list(x))))\n",
      "execution_count": null,
      "outputs": []
    },
    {
      "metadata": {
        "trusted": false
      },
      "cell_type": "code",
      "source": "strings",
      "execution_count": null,
      "outputs": []
    },
    {
      "metadata": {
        "trusted": false
      },
      "cell_type": "code",
      "source": "strings = ['foo', 'card', 'bar', 'aaaa', 'abab']\n",
      "execution_count": null,
      "outputs": []
    },
    {
      "metadata": {
        "trusted": false
      },
      "cell_type": "code",
      "source": "len(set(list('aaaa')))",
      "execution_count": null,
      "outputs": []
    },
    {
      "metadata": {
        "trusted": false
      },
      "cell_type": "code",
      "source": "#strings.sort(key=)\n#https://www.programiz.com/python-programming/methods/list/sort",
      "execution_count": null,
      "outputs": []
    },
    {
      "metadata": {
        "trusted": false
      },
      "cell_type": "code",
      "source": "\nsome_dict  = {'a': 1, 'b': 2, 'c': 3}\nfor key in some_dict:\n    print(key)",
      "execution_count": null,
      "outputs": []
    },
    {
      "metadata": {
        "trusted": false
      },
      "cell_type": "code",
      "source": "float('1.2345')\nfloat('1.2')",
      "execution_count": null,
      "outputs": []
    },
    {
      "metadata": {
        "trusted": false
      },
      "cell_type": "code",
      "source": "int('1')",
      "execution_count": null,
      "outputs": []
    },
    {
      "metadata": {
        "trusted": false
      },
      "cell_type": "code",
      "source": "def attempt_float(x):\n    try:\n        return float(x)\n    except:\n        return x",
      "execution_count": null,
      "outputs": []
    },
    {
      "metadata": {
        "trusted": false
      },
      "cell_type": "code",
      "source": "attempt_float('aa')",
      "execution_count": null,
      "outputs": []
    },
    {
      "metadata": {
        "trusted": false
      },
      "cell_type": "code",
      "source": "import numpy as np\nnp.random.seed(12345)\nimport matplotlib.pyplot as plt\nplt.rc('figure', figsize=(10, 6))\nnp.set_printoptions(precision=4, suppress=True)\n",
      "execution_count": null,
      "outputs": []
    },
    {
      "metadata": {
        "trusted": false
      },
      "cell_type": "code",
      "source": "import numpy as np\nmy_arr = np.arange(1,10,2)\nmy_list = list(range(10))",
      "execution_count": null,
      "outputs": []
    },
    {
      "metadata": {
        "trusted": false
      },
      "cell_type": "code",
      "source": "my_arr",
      "execution_count": null,
      "outputs": []
    },
    {
      "metadata": {
        "trusted": false
      },
      "cell_type": "code",
      "source": "range(10)",
      "execution_count": null,
      "outputs": []
    },
    {
      "metadata": {
        "trusted": false
      },
      "cell_type": "code",
      "source": "%time for _ in range(10): my_arr2 = my_arr * 2",
      "execution_count": null,
      "outputs": []
    },
    {
      "metadata": {
        "trusted": false
      },
      "cell_type": "code",
      "source": "%time for _ in range(10): my_list2 = [x * 2 for x in my_list]",
      "execution_count": null,
      "outputs": []
    },
    {
      "metadata": {
        "trusted": false
      },
      "cell_type": "code",
      "source": "import numpy as np\n# Generate some random data\ndata = np.random.randn(3, 5)\ndata\n\n#https://docs.scipy.org/doc/numpy/reference/generated/numpy.random.randn.html\n\n",
      "execution_count": null,
      "outputs": []
    },
    {
      "metadata": {
        "trusted": false
      },
      "cell_type": "code",
      "source": "data * 10",
      "execution_count": null,
      "outputs": []
    },
    {
      "metadata": {
        "trusted": false
      },
      "cell_type": "code",
      "source": "data + data\n",
      "execution_count": null,
      "outputs": []
    },
    {
      "metadata": {
        "trusted": false
      },
      "cell_type": "code",
      "source": "data.shape\n",
      "execution_count": null,
      "outputs": []
    },
    {
      "metadata": {
        "trusted": false
      },
      "cell_type": "code",
      "source": "data.dtype\n",
      "execution_count": null,
      "outputs": []
    },
    {
      "metadata": {
        "trusted": false
      },
      "cell_type": "code",
      "source": "import pandas as pd\n",
      "execution_count": null,
      "outputs": []
    },
    {
      "metadata": {
        "trusted": false
      },
      "cell_type": "code",
      "source": "from pandas import Series, DataFrame\n",
      "execution_count": null,
      "outputs": []
    },
    {
      "metadata": {
        "trusted": false
      },
      "cell_type": "code",
      "source": "import numpy as np\nnp.random.seed(12345)\nimport matplotlib.pyplot as plt\nplt.rc('figure', figsize=(10, 6))\nPREVIOUS_MAX_ROWS = pd.options.display.max_rows\npd.options.display.max_rows = 20\nnp.set_printoptions(precision=4, suppress=True)",
      "execution_count": null,
      "outputs": []
    },
    {
      "metadata": {
        "trusted": false
      },
      "cell_type": "code",
      "source": "obj = pd.Series([4, 7, -5, 3])\nobj",
      "execution_count": null,
      "outputs": []
    },
    {
      "metadata": {
        "trusted": false
      },
      "cell_type": "code",
      "source": "obj.values\n",
      "execution_count": null,
      "outputs": []
    },
    {
      "metadata": {
        "trusted": false
      },
      "cell_type": "code",
      "source": "obj2 = pd.Series([4, 7, -5, 3], index=['d', 'b', 'a', 'c'])\nobj2",
      "execution_count": null,
      "outputs": []
    },
    {
      "metadata": {
        "trusted": false
      },
      "cell_type": "code",
      "source": "obj2[['c', 'a', 'd']]\n",
      "execution_count": null,
      "outputs": []
    },
    {
      "metadata": {
        "trusted": false
      },
      "cell_type": "code",
      "source": "obj2[obj2 > 0]\n#select * from obj2 where col > 0;\n# New col true false - and filter",
      "execution_count": null,
      "outputs": []
    },
    {
      "metadata": {
        "trusted": false
      },
      "cell_type": "code",
      "source": "obj2 > 0",
      "execution_count": null,
      "outputs": []
    },
    {
      "metadata": {
        "trusted": false
      },
      "cell_type": "code",
      "source": "sdata = {'Ohio': 35000, 'Texas': 71000, 'Oregon': 16000, 'Utah': 5000}\nobj3 = pd.Series(sdata)\nobj3",
      "execution_count": null,
      "outputs": []
    },
    {
      "metadata": {
        "trusted": false
      },
      "cell_type": "code",
      "source": "import pandas as pd\n\ndata = {'state': ['Ohio', 'Ohio', 'Ohio', 'Nevada', 'Nevada', 'Nevada'],\n        'year': [2000, 2001, 2002, 2001, 2002, 2003],\n        'pop': [1.5, 1.7, 3.6, 2.4, 2.9, 3.2]}\nframe = pd.DataFrame(data)",
      "execution_count": 1,
      "outputs": []
    },
    {
      "metadata": {
        "trusted": false
      },
      "cell_type": "code",
      "source": "frame.dtypes",
      "execution_count": 2,
      "outputs": [
        {
          "data": {
            "text/plain": "pop      float64\nstate     object\nyear       int64\ndtype: object"
          },
          "execution_count": 2,
          "metadata": {},
          "output_type": "execute_result"
        }
      ]
    },
    {
      "metadata": {
        "trusted": false
      },
      "cell_type": "code",
      "source": "frame.head(2)\n",
      "execution_count": 3,
      "outputs": [
        {
          "data": {
            "text/html": "<div>\n<style>\n    .dataframe thead tr:only-child th {\n        text-align: right;\n    }\n\n    .dataframe thead th {\n        text-align: left;\n    }\n\n    .dataframe tbody tr th {\n        vertical-align: top;\n    }\n</style>\n<table border=\"1\" class=\"dataframe\">\n  <thead>\n    <tr style=\"text-align: right;\">\n      <th></th>\n      <th>pop</th>\n      <th>state</th>\n      <th>year</th>\n    </tr>\n  </thead>\n  <tbody>\n    <tr>\n      <th>0</th>\n      <td>1.5</td>\n      <td>Ohio</td>\n      <td>2000</td>\n    </tr>\n    <tr>\n      <th>1</th>\n      <td>1.7</td>\n      <td>Ohio</td>\n      <td>2001</td>\n    </tr>\n  </tbody>\n</table>\n</div>",
            "text/plain": "   pop state  year\n0  1.5  Ohio  2000\n1  1.7  Ohio  2001"
          },
          "execution_count": 3,
          "metadata": {},
          "output_type": "execute_result"
        }
      ]
    },
    {
      "metadata": {
        "trusted": false
      },
      "cell_type": "code",
      "source": "df = pd.read_csv('avgsal.csv')",
      "execution_count": 4,
      "outputs": [
        {
          "ename": "FileNotFoundError",
          "evalue": "File b'avgsal.csv' does not exist",
          "output_type": "error",
          "traceback": [
            "\u001b[0;31m---------------------------------------------------------------------------\u001b[0m",
            "\u001b[0;31mFileNotFoundError\u001b[0m                         Traceback (most recent call last)",
            "\u001b[0;32m<ipython-input-4-df37164ababc>\u001b[0m in \u001b[0;36m<module>\u001b[0;34m()\u001b[0m\n\u001b[0;32m----> 1\u001b[0;31m \u001b[0mdf\u001b[0m \u001b[0;34m=\u001b[0m \u001b[0mpd\u001b[0m\u001b[0;34m.\u001b[0m\u001b[0mread_csv\u001b[0m\u001b[0;34m(\u001b[0m\u001b[0;34m'avgsal.csv'\u001b[0m\u001b[0;34m)\u001b[0m\u001b[0;34m\u001b[0m\u001b[0m\n\u001b[0m",
            "\u001b[0;32m~/anaconda3_501/lib/python3.6/site-packages/pandas/io/parsers.py\u001b[0m in \u001b[0;36mparser_f\u001b[0;34m(filepath_or_buffer, sep, delimiter, header, names, index_col, usecols, squeeze, prefix, mangle_dupe_cols, dtype, engine, converters, true_values, false_values, skipinitialspace, skiprows, nrows, na_values, keep_default_na, na_filter, verbose, skip_blank_lines, parse_dates, infer_datetime_format, keep_date_col, date_parser, dayfirst, iterator, chunksize, compression, thousands, decimal, lineterminator, quotechar, quoting, escapechar, comment, encoding, dialect, tupleize_cols, error_bad_lines, warn_bad_lines, skipfooter, skip_footer, doublequote, delim_whitespace, as_recarray, compact_ints, use_unsigned, low_memory, buffer_lines, memory_map, float_precision)\u001b[0m\n\u001b[1;32m    653\u001b[0m                     skip_blank_lines=skip_blank_lines)\n\u001b[1;32m    654\u001b[0m \u001b[0;34m\u001b[0m\u001b[0m\n\u001b[0;32m--> 655\u001b[0;31m         \u001b[0;32mreturn\u001b[0m \u001b[0m_read\u001b[0m\u001b[0;34m(\u001b[0m\u001b[0mfilepath_or_buffer\u001b[0m\u001b[0;34m,\u001b[0m \u001b[0mkwds\u001b[0m\u001b[0;34m)\u001b[0m\u001b[0;34m\u001b[0m\u001b[0m\n\u001b[0m\u001b[1;32m    656\u001b[0m \u001b[0;34m\u001b[0m\u001b[0m\n\u001b[1;32m    657\u001b[0m     \u001b[0mparser_f\u001b[0m\u001b[0;34m.\u001b[0m\u001b[0m__name__\u001b[0m \u001b[0;34m=\u001b[0m \u001b[0mname\u001b[0m\u001b[0;34m\u001b[0m\u001b[0m\n",
            "\u001b[0;32m~/anaconda3_501/lib/python3.6/site-packages/pandas/io/parsers.py\u001b[0m in \u001b[0;36m_read\u001b[0;34m(filepath_or_buffer, kwds)\u001b[0m\n\u001b[1;32m    403\u001b[0m \u001b[0;34m\u001b[0m\u001b[0m\n\u001b[1;32m    404\u001b[0m     \u001b[0;31m# Create the parser.\u001b[0m\u001b[0;34m\u001b[0m\u001b[0;34m\u001b[0m\u001b[0m\n\u001b[0;32m--> 405\u001b[0;31m     \u001b[0mparser\u001b[0m \u001b[0;34m=\u001b[0m \u001b[0mTextFileReader\u001b[0m\u001b[0;34m(\u001b[0m\u001b[0mfilepath_or_buffer\u001b[0m\u001b[0;34m,\u001b[0m \u001b[0;34m**\u001b[0m\u001b[0mkwds\u001b[0m\u001b[0;34m)\u001b[0m\u001b[0;34m\u001b[0m\u001b[0m\n\u001b[0m\u001b[1;32m    406\u001b[0m \u001b[0;34m\u001b[0m\u001b[0m\n\u001b[1;32m    407\u001b[0m     \u001b[0;32mif\u001b[0m \u001b[0mchunksize\u001b[0m \u001b[0;32mor\u001b[0m \u001b[0miterator\u001b[0m\u001b[0;34m:\u001b[0m\u001b[0;34m\u001b[0m\u001b[0m\n",
            "\u001b[0;32m~/anaconda3_501/lib/python3.6/site-packages/pandas/io/parsers.py\u001b[0m in \u001b[0;36m__init__\u001b[0;34m(self, f, engine, **kwds)\u001b[0m\n\u001b[1;32m    762\u001b[0m             \u001b[0mself\u001b[0m\u001b[0;34m.\u001b[0m\u001b[0moptions\u001b[0m\u001b[0;34m[\u001b[0m\u001b[0;34m'has_index_names'\u001b[0m\u001b[0;34m]\u001b[0m \u001b[0;34m=\u001b[0m \u001b[0mkwds\u001b[0m\u001b[0;34m[\u001b[0m\u001b[0;34m'has_index_names'\u001b[0m\u001b[0;34m]\u001b[0m\u001b[0;34m\u001b[0m\u001b[0m\n\u001b[1;32m    763\u001b[0m \u001b[0;34m\u001b[0m\u001b[0m\n\u001b[0;32m--> 764\u001b[0;31m         \u001b[0mself\u001b[0m\u001b[0;34m.\u001b[0m\u001b[0m_make_engine\u001b[0m\u001b[0;34m(\u001b[0m\u001b[0mself\u001b[0m\u001b[0;34m.\u001b[0m\u001b[0mengine\u001b[0m\u001b[0;34m)\u001b[0m\u001b[0;34m\u001b[0m\u001b[0m\n\u001b[0m\u001b[1;32m    765\u001b[0m \u001b[0;34m\u001b[0m\u001b[0m\n\u001b[1;32m    766\u001b[0m     \u001b[0;32mdef\u001b[0m \u001b[0mclose\u001b[0m\u001b[0;34m(\u001b[0m\u001b[0mself\u001b[0m\u001b[0;34m)\u001b[0m\u001b[0;34m:\u001b[0m\u001b[0;34m\u001b[0m\u001b[0m\n",
            "\u001b[0;32m~/anaconda3_501/lib/python3.6/site-packages/pandas/io/parsers.py\u001b[0m in \u001b[0;36m_make_engine\u001b[0;34m(self, engine)\u001b[0m\n\u001b[1;32m    983\u001b[0m     \u001b[0;32mdef\u001b[0m \u001b[0m_make_engine\u001b[0m\u001b[0;34m(\u001b[0m\u001b[0mself\u001b[0m\u001b[0;34m,\u001b[0m \u001b[0mengine\u001b[0m\u001b[0;34m=\u001b[0m\u001b[0;34m'c'\u001b[0m\u001b[0;34m)\u001b[0m\u001b[0;34m:\u001b[0m\u001b[0;34m\u001b[0m\u001b[0m\n\u001b[1;32m    984\u001b[0m         \u001b[0;32mif\u001b[0m \u001b[0mengine\u001b[0m \u001b[0;34m==\u001b[0m \u001b[0;34m'c'\u001b[0m\u001b[0;34m:\u001b[0m\u001b[0;34m\u001b[0m\u001b[0m\n\u001b[0;32m--> 985\u001b[0;31m             \u001b[0mself\u001b[0m\u001b[0;34m.\u001b[0m\u001b[0m_engine\u001b[0m \u001b[0;34m=\u001b[0m \u001b[0mCParserWrapper\u001b[0m\u001b[0;34m(\u001b[0m\u001b[0mself\u001b[0m\u001b[0;34m.\u001b[0m\u001b[0mf\u001b[0m\u001b[0;34m,\u001b[0m \u001b[0;34m**\u001b[0m\u001b[0mself\u001b[0m\u001b[0;34m.\u001b[0m\u001b[0moptions\u001b[0m\u001b[0;34m)\u001b[0m\u001b[0;34m\u001b[0m\u001b[0m\n\u001b[0m\u001b[1;32m    986\u001b[0m         \u001b[0;32melse\u001b[0m\u001b[0;34m:\u001b[0m\u001b[0;34m\u001b[0m\u001b[0m\n\u001b[1;32m    987\u001b[0m             \u001b[0;32mif\u001b[0m \u001b[0mengine\u001b[0m \u001b[0;34m==\u001b[0m \u001b[0;34m'python'\u001b[0m\u001b[0;34m:\u001b[0m\u001b[0;34m\u001b[0m\u001b[0m\n",
            "\u001b[0;32m~/anaconda3_501/lib/python3.6/site-packages/pandas/io/parsers.py\u001b[0m in \u001b[0;36m__init__\u001b[0;34m(self, src, **kwds)\u001b[0m\n\u001b[1;32m   1603\u001b[0m         \u001b[0mkwds\u001b[0m\u001b[0;34m[\u001b[0m\u001b[0;34m'allow_leading_cols'\u001b[0m\u001b[0;34m]\u001b[0m \u001b[0;34m=\u001b[0m \u001b[0mself\u001b[0m\u001b[0;34m.\u001b[0m\u001b[0mindex_col\u001b[0m \u001b[0;32mis\u001b[0m \u001b[0;32mnot\u001b[0m \u001b[0;32mFalse\u001b[0m\u001b[0;34m\u001b[0m\u001b[0m\n\u001b[1;32m   1604\u001b[0m \u001b[0;34m\u001b[0m\u001b[0m\n\u001b[0;32m-> 1605\u001b[0;31m         \u001b[0mself\u001b[0m\u001b[0;34m.\u001b[0m\u001b[0m_reader\u001b[0m \u001b[0;34m=\u001b[0m \u001b[0mparsers\u001b[0m\u001b[0;34m.\u001b[0m\u001b[0mTextReader\u001b[0m\u001b[0;34m(\u001b[0m\u001b[0msrc\u001b[0m\u001b[0;34m,\u001b[0m \u001b[0;34m**\u001b[0m\u001b[0mkwds\u001b[0m\u001b[0;34m)\u001b[0m\u001b[0;34m\u001b[0m\u001b[0m\n\u001b[0m\u001b[1;32m   1606\u001b[0m \u001b[0;34m\u001b[0m\u001b[0m\n\u001b[1;32m   1607\u001b[0m         \u001b[0;31m# XXX\u001b[0m\u001b[0;34m\u001b[0m\u001b[0;34m\u001b[0m\u001b[0m\n",
            "\u001b[0;32mpandas/_libs/parsers.pyx\u001b[0m in \u001b[0;36mpandas._libs.parsers.TextReader.__cinit__ (pandas/_libs/parsers.c:4209)\u001b[0;34m()\u001b[0m\n",
            "\u001b[0;32mpandas/_libs/parsers.pyx\u001b[0m in \u001b[0;36mpandas._libs.parsers.TextReader._setup_parser_source (pandas/_libs/parsers.c:8873)\u001b[0;34m()\u001b[0m\n",
            "\u001b[0;31mFileNotFoundError\u001b[0m: File b'avgsal.csv' does not exist"
          ]
        }
      ]
    },
    {
      "metadata": {
        "trusted": false
      },
      "cell_type": "code",
      "source": "df.dtypes",
      "execution_count": 5,
      "outputs": [
        {
          "ename": "NameError",
          "evalue": "name 'df' is not defined",
          "output_type": "error",
          "traceback": [
            "\u001b[0;31m---------------------------------------------------------------------------\u001b[0m",
            "\u001b[0;31mNameError\u001b[0m                                 Traceback (most recent call last)",
            "\u001b[0;32m<ipython-input-5-5cc0934cc03c>\u001b[0m in \u001b[0;36m<module>\u001b[0;34m()\u001b[0m\n\u001b[0;32m----> 1\u001b[0;31m \u001b[0mdf\u001b[0m\u001b[0;34m.\u001b[0m\u001b[0mdtypes\u001b[0m\u001b[0;34m\u001b[0m\u001b[0m\n\u001b[0m",
            "\u001b[0;31mNameError\u001b[0m: name 'df' is not defined"
          ]
        }
      ]
    },
    {
      "metadata": {
        "trusted": false
      },
      "cell_type": "code",
      "source": "pd.DataFrame(data, columns=['year', 'state', 'pop'])\n",
      "execution_count": null,
      "outputs": []
    },
    {
      "metadata": {
        "trusted": false
      },
      "cell_type": "code",
      "source": "frame2 = pd.DataFrame(data, columns=['year', 'state', 'pop', 'debt'],\n                      index=['one', 'two', 'three', 'four',\n                             'five', 'six'])\nframe2\n",
      "execution_count": null,
      "outputs": []
    },
    {
      "metadata": {
        "trusted": false
      },
      "cell_type": "code",
      "source": "frame2.columns",
      "execution_count": null,
      "outputs": []
    },
    {
      "metadata": {
        "trusted": false
      },
      "cell_type": "code",
      "source": "frame2.index",
      "execution_count": null,
      "outputs": []
    },
    {
      "metadata": {
        "trusted": false
      },
      "cell_type": "code",
      "source": "frame2['state']\n# select state from frame2",
      "execution_count": null,
      "outputs": []
    },
    {
      "metadata": {
        "trusted": false
      },
      "cell_type": "code",
      "source": "frame2.state\n",
      "execution_count": null,
      "outputs": []
    },
    {
      "metadata": {
        "trusted": false
      },
      "cell_type": "code",
      "source": "frame2.loc[['three']]\n",
      "execution_count": null,
      "outputs": []
    },
    {
      "metadata": {
        "trusted": false
      },
      "cell_type": "code",
      "source": "frame2 [frame2.index == 'three']",
      "execution_count": null,
      "outputs": []
    },
    {
      "metadata": {
        "trusted": false
      },
      "cell_type": "code",
      "source": "frame2['debt'] = 16.5\n",
      "execution_count": null,
      "outputs": []
    },
    {
      "metadata": {
        "trusted": false
      },
      "cell_type": "code",
      "source": "frame2",
      "execution_count": null,
      "outputs": []
    },
    {
      "metadata": {
        "trusted": false
      },
      "cell_type": "code",
      "source": "frame2['debt'] = np.arange(6)\nframe2",
      "execution_count": null,
      "outputs": []
    },
    {
      "metadata": {
        "trusted": false
      },
      "cell_type": "code",
      "source": "np.arange(6.)",
      "execution_count": null,
      "outputs": []
    },
    {
      "metadata": {
        "trusted": false
      },
      "cell_type": "code",
      "source": "np.arange(6)",
      "execution_count": null,
      "outputs": []
    },
    {
      "metadata": {
        "trusted": false
      },
      "cell_type": "code",
      "source": "val = pd.Series([-1.2, -1.5, -1.7], index=['two', 'four', 'five'])\n",
      "execution_count": null,
      "outputs": []
    },
    {
      "metadata": {
        "trusted": false
      },
      "cell_type": "code",
      "source": "val",
      "execution_count": null,
      "outputs": []
    },
    {
      "metadata": {
        "trusted": false
      },
      "cell_type": "code",
      "source": "frame2['debt'] = val\nframe2",
      "execution_count": null,
      "outputs": []
    },
    {
      "metadata": {
        "trusted": false
      },
      "cell_type": "code",
      "source": "frame2['eastern'] = frame2.state == 'Ohio'\nframe2",
      "execution_count": null,
      "outputs": []
    },
    {
      "metadata": {
        "trusted": false
      },
      "cell_type": "code",
      "source": "del frame2['eastern']\nframe2",
      "execution_count": null,
      "outputs": []
    },
    {
      "metadata": {
        "trusted": false
      },
      "cell_type": "code",
      "source": "pop = {'Nevada': {2001: 2.4, 2002: 2.9},\n       'Ohio': {2000: 1.5, 2001: 1.7, 2002: 3.6}}",
      "execution_count": null,
      "outputs": []
    },
    {
      "metadata": {
        "trusted": false
      },
      "cell_type": "code",
      "source": "frame3 = pd.DataFrame(pop)\nframe3",
      "execution_count": null,
      "outputs": []
    },
    {
      "metadata": {
        "trusted": false
      },
      "cell_type": "code",
      "source": "frame3.T\n",
      "execution_count": null,
      "outputs": []
    },
    {
      "metadata": {
        "trusted": false
      },
      "cell_type": "code",
      "source": "pd.DataFrame(pop, index=[2001, 2002, 2003])\n",
      "execution_count": null,
      "outputs": []
    },
    {
      "metadata": {
        "trusted": false
      },
      "cell_type": "code",
      "source": "frame3['Ohio'][:-1]",
      "execution_count": null,
      "outputs": []
    },
    {
      "metadata": {
        "trusted": false
      },
      "cell_type": "code",
      "source": "pdata = {'Ohio': frame3['Ohio'][:-1],\n         'Nevada': frame3['Nevada'][:2]}\npd.DataFrame(pdata)",
      "execution_count": null,
      "outputs": []
    },
    {
      "metadata": {
        "trusted": false
      },
      "cell_type": "code",
      "source": "frame3.index.name = 'year'; frame3.columns.name = 'state'\nframe3",
      "execution_count": null,
      "outputs": []
    },
    {
      "metadata": {
        "trusted": false
      },
      "cell_type": "code",
      "source": "frame3.values\n",
      "execution_count": null,
      "outputs": []
    },
    {
      "metadata": {
        "trusted": false
      },
      "cell_type": "code",
      "source": "pd.read_excel('salary.xlsx')",
      "execution_count": null,
      "outputs": []
    },
    {
      "metadata": {
        "trusted": false
      },
      "cell_type": "code",
      "source": "pd.read_excel('Book2.xlsx', sheetname ='Sheet1')",
      "execution_count": null,
      "outputs": []
    },
    {
      "metadata": {
        "trusted": false
      },
      "cell_type": "code",
      "source": "obj = pd.Series(range(3), index=['a', 'b', 'c'])\nindex = obj.index\nindex\nindex[1:]",
      "execution_count": null,
      "outputs": []
    },
    {
      "metadata": {
        "trusted": false
      },
      "cell_type": "code",
      "source": "obj",
      "execution_count": null,
      "outputs": []
    },
    {
      "metadata": {
        "trusted": false
      },
      "cell_type": "code",
      "source": "frame3.columns\n",
      "execution_count": null,
      "outputs": []
    },
    {
      "metadata": {
        "trusted": false
      },
      "cell_type": "code",
      "source": "frame3",
      "execution_count": null,
      "outputs": []
    },
    {
      "metadata": {
        "trusted": false
      },
      "cell_type": "code",
      "source": "'Ohio' in frame3.columns\n",
      "execution_count": null,
      "outputs": []
    },
    {
      "metadata": {
        "trusted": false
      },
      "cell_type": "code",
      "source": "2003 in frame3.index\n",
      "execution_count": null,
      "outputs": []
    },
    {
      "metadata": {
        "trusted": false
      },
      "cell_type": "code",
      "source": "obj = pd.Series([4.5, 7.2, -5.3, 3.6], index=['d', 'b', 'a', 'c'])\nobj",
      "execution_count": null,
      "outputs": []
    },
    {
      "metadata": {
        "trusted": false
      },
      "cell_type": "code",
      "source": "obj2 = obj.reindex(['a', 'b', 'c', 'd', 'e'])\nobj2",
      "execution_count": null,
      "outputs": []
    },
    {
      "metadata": {
        "trusted": false
      },
      "cell_type": "code",
      "source": "obj3 = pd.Series(['blue', 'purple', 'yellow'], index=[0, 2, 4])\n",
      "execution_count": null,
      "outputs": []
    },
    {
      "metadata": {
        "trusted": false
      },
      "cell_type": "code",
      "source": "obj3",
      "execution_count": null,
      "outputs": []
    },
    {
      "metadata": {
        "trusted": false
      },
      "cell_type": "code",
      "source": "range(6)",
      "execution_count": null,
      "outputs": []
    },
    {
      "metadata": {
        "trusted": false
      },
      "cell_type": "code",
      "source": "obj3.reindex(range(6), method='ffill')\n",
      "execution_count": null,
      "outputs": []
    },
    {
      "metadata": {
        "trusted": false
      },
      "cell_type": "code",
      "source": "obj = pd.Series(np.arange(5.), index=['a', 'b', 'c', 'd', 'e'])\nobj\nnew_obj = obj.drop('c')\nnew_obj",
      "execution_count": null,
      "outputs": []
    },
    {
      "metadata": {
        "trusted": false
      },
      "cell_type": "code",
      "source": "obj",
      "execution_count": null,
      "outputs": []
    },
    {
      "metadata": {
        "trusted": false
      },
      "cell_type": "code",
      "source": "obj = pd.Series(np.arange(4.), index=['a', 'b', 'c', 'd'])\n",
      "execution_count": null,
      "outputs": []
    },
    {
      "metadata": {
        "trusted": false
      },
      "cell_type": "code",
      "source": "obj",
      "execution_count": null,
      "outputs": []
    },
    {
      "metadata": {
        "trusted": false
      },
      "cell_type": "code",
      "source": "obj[1: 3]\n",
      "execution_count": null,
      "outputs": []
    },
    {
      "metadata": {
        "trusted": false
      },
      "cell_type": "code",
      "source": "data = pd.DataFrame(np.arange(16).reshape((4, 4)),\n                    index=['Ohio', 'Colorado', 'Utah', 'New York'],\n                    columns=['one', 'two', 'three', 'four'])\ndata\ndata['two']\ndata #[['three', 'one']]",
      "execution_count": null,
      "outputs": []
    },
    {
      "metadata": {
        "trusted": false
      },
      "cell_type": "code",
      "source": "data.loc['Colorado', ['two', 'three']]\n",
      "execution_count": null,
      "outputs": []
    },
    {
      "metadata": {
        "trusted": false
      },
      "cell_type": "code",
      "source": "data.iloc[2, [3, 0, 1]]\n",
      "execution_count": null,
      "outputs": []
    },
    {
      "metadata": {
        "trusted": false
      },
      "cell_type": "code",
      "source": "data.loc[:'Utah', 'two']\n",
      "execution_count": null,
      "outputs": []
    },
    {
      "metadata": {
        "trusted": false
      },
      "cell_type": "code",
      "source": "df = pd.read_excel('Book2.xlsx', sheetname ='Sheet1')",
      "execution_count": null,
      "outputs": []
    },
    {
      "metadata": {
        "trusted": false
      },
      "cell_type": "code",
      "source": "df.loc[:5,:'Enroll']",
      "execution_count": null,
      "outputs": []
    },
    {
      "metadata": {
        "scrolled": true,
        "trusted": false
      },
      "cell_type": "code",
      "source": "df.loc[:,'City.1':'Avg Salary'].dropna(how='all')",
      "execution_count": null,
      "outputs": []
    },
    {
      "metadata": {
        "trusted": false
      },
      "cell_type": "code",
      "source": "df.loc[:,:'Enroll'].dropna(thresh=7) ",
      "execution_count": null,
      "outputs": []
    },
    {
      "metadata": {
        "trusted": false
      },
      "cell_type": "code",
      "source": "",
      "execution_count": null,
      "outputs": []
    },
    {
      "metadata": {
        "trusted": false
      },
      "cell_type": "code",
      "source": "",
      "execution_count": null,
      "outputs": []
    },
    {
      "metadata": {
        "trusted": false
      },
      "cell_type": "code",
      "source": "",
      "execution_count": null,
      "outputs": []
    },
    {
      "metadata": {
        "trusted": false
      },
      "cell_type": "code",
      "source": "import pandas as pd\ndf = pd.read_excel('PandasPython.xlsx', sheetname='Yemi')\ndf1 = df[df['Unnamed: 0'] != 'Total'].dropna(how='all')\nnamesfordf= {'Unnamed: 0': 'letters', 'Unnamed: 1': 'numbers'}\ndf1.rename(columns=namesfordf, inplace = True)\ndf1.reset_index(drop=True, inplace = True)",
      "execution_count": null,
      "outputs": []
    },
    {
      "metadata": {
        "trusted": false
      },
      "cell_type": "code",
      "source": "df1.to_pickle('cleanedexce.p')",
      "execution_count": null,
      "outputs": []
    },
    {
      "metadata": {
        "trusted": false
      },
      "cell_type": "code",
      "source": "import numpy as np\nframe = pd.DataFrame(np.random.randn(4, 3), columns=list('bde'),\n                     index=['Utah', 'Ohio', 'Texas', 'Oregon'])\n\nframe= np.abs(frame)",
      "execution_count": null,
      "outputs": []
    },
    {
      "metadata": {
        "trusted": false
      },
      "cell_type": "code",
      "source": "frame",
      "execution_count": null,
      "outputs": []
    },
    {
      "metadata": {
        "trusted": false
      },
      "cell_type": "code",
      "source": "#f = lambda x: x.max() \nframe.apply(lambda x: x.max(), axis='columns')",
      "execution_count": null,
      "outputs": []
    },
    {
      "metadata": {
        "trusted": false
      },
      "cell_type": "code",
      "source": "df",
      "execution_count": null,
      "outputs": []
    },
    {
      "metadata": {
        "trusted": false
      },
      "cell_type": "code",
      "source": "import numpy as np\ndf['Unnamed: 0'].apply(lambda x: np.nan if x == 'Total' else x)",
      "execution_count": null,
      "outputs": []
    },
    {
      "metadata": {
        "trusted": false
      },
      "cell_type": "code",
      "source": "df\n#ReturnThis if x == 'Total' else ReturnThat",
      "execution_count": null,
      "outputs": []
    },
    {
      "metadata": {
        "trusted": false
      },
      "cell_type": "code",
      "source": "df.applymap(lambda x: np.nan if x == 'Total' else x).dropna()",
      "execution_count": null,
      "outputs": []
    },
    {
      "metadata": {
        "trusted": false
      },
      "cell_type": "code",
      "source": "pd.read_csv('https://raw.githubusercontent.com/wesm/pydata-book/2nd-edition/examples/macrodata.csv').describe()",
      "execution_count": null,
      "outputs": []
    },
    {
      "metadata": {
        "trusted": false
      },
      "cell_type": "code",
      "source": "pd.read_pickle('cleanedexce.p')",
      "execution_count": null,
      "outputs": []
    },
    {
      "metadata": {
        "trusted": false
      },
      "cell_type": "code",
      "source": "df1 = pd.DataFrame({'key': ['b', 'b', 'a', 'c', 'a', 'a', 'b'],\n                    'data1': range(7)})\ndf2 = pd.DataFrame({'key': ['a', 'b', 'd'],\n                    'data2': range(3)})\n",
      "execution_count": null,
      "outputs": []
    },
    {
      "metadata": {
        "trusted": false
      },
      "cell_type": "code",
      "source": "pd.merge(df1, df2)\n",
      "execution_count": null,
      "outputs": []
    },
    {
      "metadata": {
        "trusted": false
      },
      "cell_type": "code",
      "source": "df1",
      "execution_count": null,
      "outputs": []
    },
    {
      "metadata": {
        "trusted": false
      },
      "cell_type": "code",
      "source": "df2",
      "execution_count": null,
      "outputs": []
    },
    {
      "metadata": {
        "trusted": false
      },
      "cell_type": "code",
      "source": "",
      "execution_count": null,
      "outputs": []
    },
    {
      "metadata": {
        "trusted": false
      },
      "cell_type": "code",
      "source": "df = pd.read_excel('Book2.xlsx', sheetname ='Sheet1')\navgsal = df.loc[:,'City.1':'Avg Salary'].dropna(how='all')\natt = df.loc[:,:'Enroll'].dropna(thresh=7)\ndf11 = pd.merge(att, avgsal, left_on='City', right_on='City.1')",
      "execution_count": null,
      "outputs": []
    },
    {
      "metadata": {
        "trusted": false
      },
      "cell_type": "code",
      "source": "",
      "execution_count": null,
      "outputs": []
    },
    {
      "metadata": {
        "trusted": false
      },
      "cell_type": "code",
      "source": "avgsal",
      "execution_count": null,
      "outputs": []
    },
    {
      "metadata": {
        "trusted": false
      },
      "cell_type": "code",
      "source": "",
      "execution_count": null,
      "outputs": []
    },
    {
      "metadata": {
        "trusted": false
      },
      "cell_type": "code",
      "source": "s1 = pd.Series([0, 1], index=['a', 'b'])\ns2 = pd.Series([2, 3, 4], index=['c', 'd', 'e'])\ns3 = pd.Series([5, 6], index=['f', 'g'])",
      "execution_count": null,
      "outputs": []
    },
    {
      "metadata": {
        "trusted": false
      },
      "cell_type": "code",
      "source": "s1",
      "execution_count": null,
      "outputs": []
    },
    {
      "metadata": {
        "trusted": false
      },
      "cell_type": "code",
      "source": "pd.concat([s1, s2, s3])\n# Select * from s1 union select * from s2 union select * from s3",
      "execution_count": null,
      "outputs": []
    },
    {
      "metadata": {
        "trusted": false
      },
      "cell_type": "code",
      "source": "data = pd.DataFrame(np.arange(6).reshape((2, 3)),\n                    index=pd.Index(['Ohio', 'Colorado'], name='state'),\n                    columns=pd.Index(['one', 'two', 'three'],\n                    name='number'))\ndata",
      "execution_count": null,
      "outputs": []
    },
    {
      "metadata": {
        "trusted": false
      },
      "cell_type": "code",
      "source": "result = data.stack()\nresult",
      "execution_count": null,
      "outputs": []
    },
    {
      "metadata": {
        "trusted": false
      },
      "cell_type": "code",
      "source": "result.unstack()\n",
      "execution_count": null,
      "outputs": []
    },
    {
      "metadata": {
        "trusted": false
      },
      "cell_type": "code",
      "source": "df = pd.DataFrame({'key': ['foo', 'bar', 'baz'],\n                   'A': [1, 2, 3],\n                   'B': [4, 5, 6],\n                   'C': [7, 8, 9]})\ndf",
      "execution_count": null,
      "outputs": []
    },
    {
      "metadata": {
        "trusted": false
      },
      "cell_type": "code",
      "source": "melted = pd.melt(df, ['key'])\nmelted",
      "execution_count": null,
      "outputs": []
    },
    {
      "metadata": {
        "trusted": false
      },
      "cell_type": "code",
      "source": "reshaped = melted.pivot('key', 'variable', 'value')\nreshaped",
      "execution_count": null,
      "outputs": []
    },
    {
      "metadata": {
        "trusted": false
      },
      "cell_type": "code",
      "source": "import pandas as pd\nimport numpy as np\n\ndf = pd.DataFrame({'key1' : ['a', 'a', 'b', 'b', 'a'],\n                   'key2' : ['one', 'two', 'one', 'two', 'one'],\n                   'data1' : np.random.randn(5),\n                   'data2' : np.random.randn(5)})\ndf",
      "execution_count": 3,
      "outputs": [
        {
          "data": {
            "text/html": "<div>\n<style>\n    .dataframe thead tr:only-child th {\n        text-align: right;\n    }\n\n    .dataframe thead th {\n        text-align: left;\n    }\n\n    .dataframe tbody tr th {\n        vertical-align: top;\n    }\n</style>\n<table border=\"1\" class=\"dataframe\">\n  <thead>\n    <tr style=\"text-align: right;\">\n      <th></th>\n      <th>data1</th>\n      <th>data2</th>\n      <th>key1</th>\n      <th>key2</th>\n    </tr>\n  </thead>\n  <tbody>\n    <tr>\n      <th>0</th>\n      <td>0.141234</td>\n      <td>0.806410</td>\n      <td>a</td>\n      <td>one</td>\n    </tr>\n    <tr>\n      <th>1</th>\n      <td>0.259716</td>\n      <td>1.518363</td>\n      <td>a</td>\n      <td>two</td>\n    </tr>\n    <tr>\n      <th>2</th>\n      <td>0.864866</td>\n      <td>-0.417735</td>\n      <td>b</td>\n      <td>one</td>\n    </tr>\n    <tr>\n      <th>3</th>\n      <td>1.036623</td>\n      <td>-0.004306</td>\n      <td>b</td>\n      <td>two</td>\n    </tr>\n    <tr>\n      <th>4</th>\n      <td>0.370053</td>\n      <td>-0.796332</td>\n      <td>a</td>\n      <td>one</td>\n    </tr>\n  </tbody>\n</table>\n</div>",
            "text/plain": "      data1     data2 key1 key2\n0  0.141234  0.806410    a  one\n1  0.259716  1.518363    a  two\n2  0.864866 -0.417735    b  one\n3  1.036623 -0.004306    b  two\n4  0.370053 -0.796332    a  one"
          },
          "execution_count": 3,
          "metadata": {},
          "output_type": "execute_result"
        }
      ]
    },
    {
      "metadata": {
        "trusted": false
      },
      "cell_type": "code",
      "source": "grouped = df['data1'].groupby(df['key1'])\ngrouped",
      "execution_count": 4,
      "outputs": [
        {
          "data": {
            "text/plain": "<pandas.core.groupby.SeriesGroupBy object at 0x7ff65c1440f0>"
          },
          "execution_count": 4,
          "metadata": {},
          "output_type": "execute_result"
        }
      ]
    },
    {
      "metadata": {
        "trusted": false
      },
      "cell_type": "code",
      "source": "grouped.mean()\n",
      "execution_count": 5,
      "outputs": [
        {
          "data": {
            "text/plain": "key1\na    0.257001\nb    0.950744\nName: data1, dtype: float64"
          },
          "execution_count": 5,
          "metadata": {},
          "output_type": "execute_result"
        }
      ]
    },
    {
      "metadata": {
        "trusted": false
      },
      "cell_type": "code",
      "source": "df11['Agbe'].groupby(df11['City']).max()",
      "execution_count": 6,
      "outputs": [
        {
          "ename": "NameError",
          "evalue": "name 'df11' is not defined",
          "output_type": "error",
          "traceback": [
            "\u001b[0;31m---------------------------------------------------------------------------\u001b[0m",
            "\u001b[0;31mNameError\u001b[0m                                 Traceback (most recent call last)",
            "\u001b[0;32m<ipython-input-6-9523a0f23bb7>\u001b[0m in \u001b[0;36m<module>\u001b[0;34m()\u001b[0m\n\u001b[0;32m----> 1\u001b[0;31m \u001b[0mdf11\u001b[0m\u001b[0;34m[\u001b[0m\u001b[0;34m'Agbe'\u001b[0m\u001b[0;34m]\u001b[0m\u001b[0;34m.\u001b[0m\u001b[0mgroupby\u001b[0m\u001b[0;34m(\u001b[0m\u001b[0mdf11\u001b[0m\u001b[0;34m[\u001b[0m\u001b[0;34m'City'\u001b[0m\u001b[0;34m]\u001b[0m\u001b[0;34m)\u001b[0m\u001b[0;34m.\u001b[0m\u001b[0mmax\u001b[0m\u001b[0;34m(\u001b[0m\u001b[0;34m)\u001b[0m\u001b[0;34m\u001b[0m\u001b[0m\n\u001b[0m",
            "\u001b[0;31mNameError\u001b[0m: name 'df11' is not defined"
          ]
        }
      ]
    },
    {
      "metadata": {
        "trusted": false
      },
      "cell_type": "code",
      "source": "",
      "execution_count": null,
      "outputs": []
    },
    {
      "metadata": {
        "trusted": false
      },
      "cell_type": "code",
      "source": "df",
      "execution_count": 7,
      "outputs": [
        {
          "data": {
            "text/html": "<div>\n<style>\n    .dataframe thead tr:only-child th {\n        text-align: right;\n    }\n\n    .dataframe thead th {\n        text-align: left;\n    }\n\n    .dataframe tbody tr th {\n        vertical-align: top;\n    }\n</style>\n<table border=\"1\" class=\"dataframe\">\n  <thead>\n    <tr style=\"text-align: right;\">\n      <th></th>\n      <th>data1</th>\n      <th>data2</th>\n      <th>key1</th>\n      <th>key2</th>\n    </tr>\n  </thead>\n  <tbody>\n    <tr>\n      <th>0</th>\n      <td>0.141234</td>\n      <td>0.806410</td>\n      <td>a</td>\n      <td>one</td>\n    </tr>\n    <tr>\n      <th>1</th>\n      <td>0.259716</td>\n      <td>1.518363</td>\n      <td>a</td>\n      <td>two</td>\n    </tr>\n    <tr>\n      <th>2</th>\n      <td>0.864866</td>\n      <td>-0.417735</td>\n      <td>b</td>\n      <td>one</td>\n    </tr>\n    <tr>\n      <th>3</th>\n      <td>1.036623</td>\n      <td>-0.004306</td>\n      <td>b</td>\n      <td>two</td>\n    </tr>\n    <tr>\n      <th>4</th>\n      <td>0.370053</td>\n      <td>-0.796332</td>\n      <td>a</td>\n      <td>one</td>\n    </tr>\n  </tbody>\n</table>\n</div>",
            "text/plain": "      data1     data2 key1 key2\n0  0.141234  0.806410    a  one\n1  0.259716  1.518363    a  two\n2  0.864866 -0.417735    b  one\n3  1.036623 -0.004306    b  two\n4  0.370053 -0.796332    a  one"
          },
          "execution_count": 7,
          "metadata": {},
          "output_type": "execute_result"
        }
      ]
    },
    {
      "metadata": {
        "trusted": false
      },
      "cell_type": "code",
      "source": "means = df['data1'].groupby([df['key1'], df['key2']]).mean()\nmeans",
      "execution_count": 8,
      "outputs": [
        {
          "data": {
            "text/plain": "key1  key2\na     one     0.255643\n      two     0.259716\nb     one     0.864866\n      two     1.036623\nName: data1, dtype: float64"
          },
          "execution_count": 8,
          "metadata": {},
          "output_type": "execute_result"
        }
      ]
    },
    {
      "metadata": {
        "trusted": false
      },
      "cell_type": "code",
      "source": "df12 = means.unstack()\n",
      "execution_count": 11,
      "outputs": []
    },
    {
      "metadata": {
        "trusted": false
      },
      "cell_type": "code",
      "source": "df12",
      "execution_count": 12,
      "outputs": [
        {
          "data": {
            "text/html": "<div>\n<style>\n    .dataframe thead tr:only-child th {\n        text-align: right;\n    }\n\n    .dataframe thead th {\n        text-align: left;\n    }\n\n    .dataframe tbody tr th {\n        vertical-align: top;\n    }\n</style>\n<table border=\"1\" class=\"dataframe\">\n  <thead>\n    <tr style=\"text-align: right;\">\n      <th>key2</th>\n      <th>one</th>\n      <th>two</th>\n    </tr>\n    <tr>\n      <th>key1</th>\n      <th></th>\n      <th></th>\n    </tr>\n  </thead>\n  <tbody>\n    <tr>\n      <th>a</th>\n      <td>0.255643</td>\n      <td>0.259716</td>\n    </tr>\n    <tr>\n      <th>b</th>\n      <td>0.864866</td>\n      <td>1.036623</td>\n    </tr>\n  </tbody>\n</table>\n</div>",
            "text/plain": "key2       one       two\nkey1                    \na     0.255643  0.259716\nb     0.864866  1.036623"
          },
          "execution_count": 12,
          "metadata": {},
          "output_type": "execute_result"
        }
      ]
    },
    {
      "metadata": {
        "trusted": false
      },
      "cell_type": "code",
      "source": "writer = pd.ExcelWriter('df12.xlsx')\ndf12.to_excel(writer,'Sheet1')\nwriter.save()",
      "execution_count": 14,
      "outputs": []
    },
    {
      "metadata": {
        "trusted": false
      },
      "cell_type": "code",
      "source": "#https://pandas.pydata.org/pandas-docs/stable/style.html",
      "execution_count": 15,
      "outputs": []
    },
    {
      "metadata": {
        "trusted": false
      },
      "cell_type": "code",
      "source": "",
      "execution_count": null,
      "outputs": []
    }
  ],
  "metadata": {
    "kernelspec": {
      "name": "python36",
      "display_name": "Python 3.6",
      "language": "python"
    },
    "language_info": {
      "mimetype": "text/x-python",
      "nbconvert_exporter": "python",
      "name": "python",
      "pygments_lexer": "ipython3",
      "version": "3.6.3",
      "file_extension": ".py",
      "codemirror_mode": {
        "version": 3,
        "name": "ipython"
      }
    }
  },
  "nbformat": 4,
  "nbformat_minor": 2
}