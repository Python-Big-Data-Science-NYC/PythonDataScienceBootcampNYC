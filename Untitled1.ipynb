{
 "cells": [
  {
   "cell_type": "code",
   "execution_count": 1,
   "metadata": {},
   "outputs": [],
   "source": [
    "fahrenheit_to_kelvin <- function(temp_F) {\n",
    "temp_K <- ((temp_F - 32) * (5 / 9)) + 273.15\n",
    "  return(temp_K)\n",
    "}"
   ]
  },
  {
   "cell_type": "code",
   "execution_count": 2,
   "metadata": {},
   "outputs": [
    {
     "data": {
      "text/html": [
       "310.927777777778"
      ],
      "text/latex": [
       "310.927777777778"
      ],
      "text/markdown": [
       "310.927777777778"
      ],
      "text/plain": [
       "[1] 310.9278"
      ]
     },
     "metadata": {},
     "output_type": "display_data"
    }
   ],
   "source": [
    "fahrenheit_to_kelvin(100)"
   ]
  },
  {
   "cell_type": "markdown",
   "metadata": {},
   "source": [
    "def fahrenheit_to_kelvin(temp_F): \n",
    "    temp_K <- ((temp_F - 32) * (5 / 9)) + 273.15\n",
    "    return(temp_K)\n"
   ]
  }
 ],
 "metadata": {
  "kernelspec": {
   "display_name": "R",
   "language": "R",
   "name": "r"
  },
  "language_info": {
   "codemirror_mode": "r",
   "file_extension": ".r",
   "mimetype": "text/x-r-source",
   "name": "R",
   "pygments_lexer": "r",
   "version": "3.4.1"
  }
 },
 "nbformat": 4,
 "nbformat_minor": 2
}
