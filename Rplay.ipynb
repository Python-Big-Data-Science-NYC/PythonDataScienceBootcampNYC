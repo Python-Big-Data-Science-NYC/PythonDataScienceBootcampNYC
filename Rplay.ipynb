{
 "cells": [
  {
   "cell_type": "code",
   "execution_count": 5,
   "metadata": {},
   "outputs": [
    {
     "name": "stdout",
     "output_type": "stream",
     "text": [
      "[1] \"The year is 4\"\n",
      "[1] \"The year is 5\"\n",
      "[1] \"The year is 6\"\n",
      "[1] \"The year is 7\"\n",
      "[1] \"The year is 8\"\n",
      "[1] \"The year is 9\"\n",
      "[1] \"The year is 10\"\n"
     ]
    }
   ],
   "source": [
    "for (i in 4:10){\n",
    "\n",
    "print(paste(\"The year is\", i))\n",
    "}"
   ]
  },
  {
   "cell_type": "code",
   "execution_count": 6,
   "metadata": {},
   "outputs": [],
   "source": [
    "foo <- c(12, 22, 33)\n",
    "names(foo) <- c(\"tic\", \"tac\", \"toe\")"
   ]
  },
  {
   "cell_type": "code",
   "execution_count": null,
   "metadata": {},
   "outputs": [],
   "source": []
  }
 ],
 "metadata": {
  "kernelspec": {
   "display_name": "R",
   "language": "R",
   "name": "r"
  },
  "language_info": {
   "codemirror_mode": "r",
   "file_extension": ".r",
   "mimetype": "text/x-r-source",
   "name": "R",
   "pygments_lexer": "r",
   "version": "3.4.1"
  }
 },
 "nbformat": 4,
 "nbformat_minor": 2
}
