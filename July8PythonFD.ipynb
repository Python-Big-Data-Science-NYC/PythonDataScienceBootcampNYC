{
 "cells": [
  {
   "cell_type": "code",
   "execution_count": 1,
   "metadata": {},
   "outputs": [
    {
     "name": "stdout",
     "output_type": "stream",
     "text": [
      "Hello World!\n",
      "Hello Again\n",
      "I like typing this.\n",
      "This is fun.\n",
      "Yay! Printing.\n",
      "I'd much rather you 'not'.\n",
      "I \"said\" do not touch this.\n"
     ]
    }
   ],
   "source": [
    "print(\"Hello World!\")\n",
    "print(\"Hello Again\")\n",
    "print(\"I like typing this.\")\n",
    "print(\"This is fun.\")\n",
    "print('Yay! Printing.')\n",
    "print(\"I'd much rather you 'not'.\")\n",
    "print('I \"said\" do not touch this.')"
   ]
  },
  {
   "cell_type": "code",
   "execution_count": 2,
   "metadata": {},
   "outputs": [
    {
     "name": "stdout",
     "output_type": "stream",
     "text": [
      "I could have code like this.\n",
      "This will run.\n"
     ]
    }
   ],
   "source": [
    "# A comment, this is so you can read your program later.\n",
    "# Anything after the # is ignored by pyhton.\n",
    "\n",
    "print(\"I could have code like this.\")  # and the comment after is ignored\n",
    "\n",
    "# You can also use a comment to \"disable\" or comment out a piece of code:\n",
    "# print (\"This won't run.\")\n",
    "\n",
    "print(\"This will run.\")"
   ]
  },
  {
   "cell_type": "code",
   "execution_count": 3,
   "metadata": {},
   "outputs": [
    {
     "data": {
      "text/plain": [
       "'\\nblock comments\\nanytihng inside the block\\n'"
      ]
     },
     "execution_count": 3,
     "metadata": {},
     "output_type": "execute_result"
    }
   ],
   "source": [
    "'''\n",
    "block comments\n",
    "anytihng inside the block\n",
    "'''"
   ]
  },
  {
   "cell_type": "code",
   "execution_count": 4,
   "metadata": {},
   "outputs": [
    {
     "data": {
      "text/plain": [
       "'  \\nhi\\nhi\\nhi\\n'"
      ]
     },
     "execution_count": 4,
     "metadata": {},
     "output_type": "execute_result"
    }
   ],
   "source": [
    "# comments\n",
    "'''  \n",
    "hi\n",
    "hi\n",
    "hi\n",
    "'''\n"
   ]
  },
  {
   "cell_type": "code",
   "execution_count": 5,
   "metadata": {},
   "outputs": [],
   "source": [
    "#hi\n",
    "#hi\n",
    "#hi\n"
   ]
  },
  {
   "cell_type": "code",
   "execution_count": null,
   "metadata": {},
   "outputs": [],
   "source": [
    "# hii\n",
    "# hih\n",
    "# hi\n",
    "# hi"
   ]
  },
  {
   "cell_type": "code",
   "execution_count": 6,
   "metadata": {},
   "outputs": [],
   "source": [
    "# hi\n",
    "# hi\n",
    "# hu hi\n",
    "\n",
    "# hihi\n",
    "\n"
   ]
  },
  {
   "cell_type": "code",
   "execution_count": 13,
   "metadata": {},
   "outputs": [
    {
     "name": "stdout",
     "output_type": "stream",
     "text": [
      "I will now count my chickens: Hens 30.0\n",
      "Rosters 100 - 25 * 3 % 4\n",
      "Now I will count the eggs:\n",
      "7\n",
      "Is it true that 3 + 2 < 5 - 7?\n",
      "False\n",
      "What is 3 + 2? 5\n",
      "What is 5 - 7? -2\n",
      "Oh, that's why it's False.\n",
      "How about some more.\n",
      "It is greater? True\n",
      "It is greater or equal? True\n",
      "It is less or equal? False\n"
     ]
    }
   ],
   "source": [
    "print(\"I will now count my chickens:\", \"Hens\", 25 + 30 / 6)\n",
    "\n",
    "print(\"Rosters\", \"100 - 25 * 3 % 4\")\n",
    "\n",
    "print(\"Now I will count the eggs:\")\n",
    "\n",
    "print(round(3 + 2 + 1 - 5 + 4 % 2 - 1 / 4 + 6))\n",
    "\n",
    "print(\"Is it true that 3 + 2 < 5 - 7?\")\n",
    "\n",
    "print(3 + 2 < 5 - 7)\n",
    "\n",
    "print(\"What is 3 + 2?\", 3 + 2)\n",
    "\n",
    "print(\"What is 5 - 7?\", 5 - 7)\n",
    "\n",
    "print(\"Oh, that's why it's False.\")\n",
    "\n",
    "print(\"How about some more.\")\n",
    "\n",
    "print(\"It is greater?\", 5 > -2)\n",
    "print(\"It is greater or equal?\", 5 >= -2)\n",
    "print(\"It is less or equal?\", 5 <= -2)"
   ]
  },
  {
   "cell_type": "code",
   "execution_count": 12,
   "metadata": {},
   "outputs": [
    {
     "data": {
      "text/plain": [
       "False"
      ]
     },
     "execution_count": 12,
     "metadata": {},
     "output_type": "execute_result"
    }
   ],
   "source": [
    "5>9\n",
    "5<2"
   ]
  },
  {
   "cell_type": "code",
   "execution_count": 14,
   "metadata": {},
   "outputs": [
    {
     "name": "stdout",
     "output_type": "stream",
     "text": [
      "There are 100 cars available.\n",
      "There are only 30 drivers available.\n",
      "There will be 70 empty cars today\n",
      "We can transport 120.0 people today.\n",
      "We have 90 to carpool today.\n",
      "We need to put about 3.0 in each car.\n"
     ]
    }
   ],
   "source": [
    "cars = 100\n",
    "space_in_a_car = 4.0\n",
    "drivers = 30\n",
    "passengers = 90\n",
    "cars_not_driven = cars - drivers\n",
    "cars_driven = drivers\n",
    "carpool_capacity = cars_driven * space_in_a_car\n",
    "average_passengers_per_car = passengers / cars_driven\n",
    "\n",
    "print(\"There are\", cars, \"cars available.\")\n",
    "print(\"There are only\", drivers, \"drivers available.\")\n",
    "print(\"There will be\", cars_not_driven, \"empty cars today\")\n",
    "print(\"We can transport\", carpool_capacity, \"people today.\")\n",
    "print(\"We have\", passengers, \"to carpool today.\")\n",
    "print(\"We need to put about\", average_passengers_per_car, \"in each car.\")"
   ]
  },
  {
   "cell_type": "code",
   "execution_count": 15,
   "metadata": {},
   "outputs": [
    {
     "name": "stdout",
     "output_type": "stream",
     "text": [
      "There are cars available.\n"
     ]
    }
   ],
   "source": [
    "print(\"There are \"+\"cars available.\")\n"
   ]
  },
  {
   "cell_type": "code",
   "execution_count": 16,
   "metadata": {},
   "outputs": [
    {
     "name": "stdout",
     "output_type": "stream",
     "text": [
      "Let's talk about Zed A. Shaw.\n",
      "He's 74 inches tall.\n",
      "He's 180 pounds heavy.\n",
      "Actually that's not too heavy.\n",
      "He's got Blue eyes and Brown hair.\n",
      "His teeth are usually White depending on the coffee.\n",
      "If I add 35, 74, and 180 I get 289.\n"
     ]
    }
   ],
   "source": [
    "my_name = 'Zed A. Shaw'\n",
    "my_age = 35  # not a lie\n",
    "my_height = 74  # inches\n",
    "my_weight = 180  # lbs\n",
    "my_eyes = 'Blue'\n",
    "my_teeth = 'White'\n",
    "my_hair = 'Brown'\n",
    "\n",
    "print(f\"Let's talk about {my_name}.\")\n",
    "\n",
    "\n",
    "print(f\"He's {my_height} inches tall.\")\n",
    "print(f\"He's {my_weight} pounds heavy.\")\n",
    "print(\"Actually that's not too heavy.\")\n",
    "print(f\"He's got {my_eyes} eyes and {my_hair} hair.\")\n",
    "print(f\"His teeth are usually {my_teeth} depending on the coffee.\")\n",
    "\n",
    "# this line is tricky, try to get it exactly right\n",
    "total = my_age + my_height + my_weight\n",
    "print(f\"Let's talk about {my_name}.\")\n",
    "print(f\"If I add {my_age}, {my_height}, and {my_weight} I get {total}.\")"
   ]
  },
  {
   "cell_type": "code",
   "execution_count": 18,
   "metadata": {},
   "outputs": [
    {
     "name": "stdout",
     "output_type": "stream",
     "text": [
      "Let's talk about Zed A. Shaw .\n"
     ]
    }
   ],
   "source": [
    "print(f\"Let's talk about {my_name}.\")\n",
    "\n",
    "print(\"Let's talk about\", my_name,\".\")\n"
   ]
  },
  {
   "cell_type": "code",
   "execution_count": 19,
   "metadata": {},
   "outputs": [
    {
     "name": "stdout",
     "output_type": "stream",
     "text": [
      "Let's talk about {my_name}.\n"
     ]
    }
   ],
   "source": [
    "print(\"Let's talk about {my_name}.\")\n"
   ]
  },
  {
   "cell_type": "code",
   "execution_count": 21,
   "metadata": {},
   "outputs": [
    {
     "data": {
      "text/plain": [
       "'hellojoshi'"
      ]
     },
     "execution_count": 21,
     "metadata": {},
     "output_type": "execute_result"
    }
   ],
   "source": [
    "x= \"hello\"\n",
    "y=\"joshi\"\n",
    "x+y"
   ]
  },
  {
   "cell_type": "code",
   "execution_count": 22,
   "metadata": {},
   "outputs": [
    {
     "name": "stdout",
     "output_type": "stream",
     "text": [
      "hello joshi\n"
     ]
    }
   ],
   "source": [
    "print(x,y)"
   ]
  },
  {
   "cell_type": "code",
   "execution_count": 23,
   "metadata": {},
   "outputs": [
    {
     "name": "stdout",
     "output_type": "stream",
     "text": [
      "hellojoshi\n"
     ]
    }
   ],
   "source": [
    "print(x+y)"
   ]
  },
  {
   "cell_type": "code",
   "execution_count": 29,
   "metadata": {},
   "outputs": [
    {
     "name": "stdout",
     "output_type": "stream",
     "text": [
      "Mary had a little lamb.\n",
      "Its fleece was white as xxx\n",
      "And everywhere that Mary went.\n",
      "..........\n",
      "Cheese Burger\n"
     ]
    }
   ],
   "source": [
    "print(\"Mary had a little lamb.\")\n",
    "print(\"Its fleece was white as\",'xxx')\n",
    "print(\"And everywhere that Mary went.\")\n",
    "print(\".\" * 10)  # what'd that do?\n",
    "\n",
    "end1 = \"C\"\n",
    "end2 = \"h\"\n",
    "end3 = \"e\"\n",
    "end4 = \"e\"\n",
    "end5 = \"s\"\n",
    "end6 = \"e\"\n",
    "end7 = \"B\"\n",
    "end8 = \"u\"\n",
    "end9 = \"r\"\n",
    "end10 = \"g\"\n",
    "end11 = \"e\"\n",
    "end12 = \"r\"\n",
    "\n",
    "print(end1 + end2 + end3 + end4 + end5 + end6, end=' ')\n",
    "print(end7 + end8 + end9 + end10 + end11 + end12)"
   ]
  },
  {
   "cell_type": "code",
   "execution_count": 31,
   "metadata": {},
   "outputs": [
    {
     "name": "stdout",
     "output_type": "stream",
     "text": [
      "Here are the days: Mon Tue Wed Thu Fri Sat Sun\n",
      "Here are the months:  Jan\n",
      "Feb\n",
      "Mar\n",
      "Apr\n",
      "May\n",
      "Jun\n",
      "Jul\n",
      "Aug\n",
      "\n",
      "There's something going on here.\n",
      "With the three double-quotes.\n",
      "\n",
      "\n",
      "\n",
      "\n",
      "\n",
      "\n",
      "We'll be able to type as much as we like.\n",
      "Even 4 lines if we want, or 5, or 6.\n",
      "\n"
     ]
    }
   ],
   "source": [
    "# Here's some new strange stuff, remember type it exactly.\n",
    "\n",
    "days = \"Mon Tue Wed Thu Fri Sat Sun\"\n",
    "months = \"Jan\\nFeb\\nMar\\nApr\\nMay\\nJun\\nJul\\nAug\"\n",
    "\n",
    "print(\"Here are the days:\", days)\n",
    "print(\"Here are the months: \", months)\n",
    "\n",
    "print(\"\"\"\n",
    "There's something going on here.\n",
    "With the three double-quotes.\n",
    "We'll be able to type as much as we like.\n",
    "Even 4 lines if we want, or 5, or 6.\n",
    "\"\"\")"
   ]
  },
  {
   "cell_type": "code",
   "execution_count": 36,
   "metadata": {},
   "outputs": [
    {
     "name": "stdout",
     "output_type": "stream",
     "text": [
      "How old are you?\n",
      "88\n",
      "How tall are you?\n",
      "88\n",
      "How much do you weight?\n",
      "88\n",
      "So, you're 88 old 88 tall and 88 heavy.\n"
     ]
    }
   ],
   "source": [
    "print(\"How old are you?\")\n",
    "age = input()\n",
    "print(\"How tall are you?\")\n",
    "height = input()\n",
    "print(\"How much do you weight?\")\n",
    "weight = input()\n",
    "\n",
    "print(\"So, you're\", age, \"old\", height, \"tall and\", weight, \"heavy.\")"
   ]
  },
  {
   "cell_type": "code",
   "execution_count": 34,
   "metadata": {},
   "outputs": [
    {
     "data": {
      "text/plain": [
       "'jj'"
      ]
     },
     "execution_count": 34,
     "metadata": {},
     "output_type": "execute_result"
    }
   ],
   "source": [
    "age"
   ]
  },
  {
   "cell_type": "code",
   "execution_count": 64,
   "metadata": {},
   "outputs": [
    {
     "name": "stdout",
     "output_type": "stream",
     "text": [
      "arg1: Zed, arg2: Shaw\n",
      "arg1: Zed arg2: Shaw\n",
      "arg1: First!\n",
      "I got nothin'.\n"
     ]
    }
   ],
   "source": [
    "# this one is like your scripts with argv\n",
    "def print_two(*args):\n",
    "    arg1, arg2 = args\n",
    "    print(f\"arg1: {arg1}, arg2: {arg2}\")\n",
    "\n",
    "\n",
    "# ok, that *args is actually pointless, we can just do this\n",
    "def print_two_again(arg1, arg2):\n",
    "    print(\"arg1:\", arg1, \"arg2:\",arg2)\n",
    "\n",
    "\n",
    "# this just takes one argument\n",
    "def print_one(arg1):\n",
    "    print(f\"arg1: {arg1}\")\n",
    "\n",
    "\n",
    "# this one takes no arguments\n",
    "def print_none():\n",
    "    print(\"I got nothin'.\")\n",
    "\n",
    "\n",
    "print_two(\"Zed\", \"Shaw\")\n",
    "print_two_again(\"Zed\", \"Shaw\")\n",
    "print_one(\"First!\")\n",
    "print_none()"
   ]
  },
  {
   "cell_type": "code",
   "execution_count": 55,
   "metadata": {},
   "outputs": [],
   "source": [
    "def print_two_again(xxx, yyy):\n",
    "    print(\"arg1:\", xxx, \"arg2:\",yyy)\n",
    "    return (xxx+yyy)\n",
    "    \n"
   ]
  },
  {
   "cell_type": "code",
   "execution_count": 66,
   "metadata": {},
   "outputs": [
    {
     "ename": "ValueError",
     "evalue": "too many values to unpack (expected 2)",
     "output_type": "error",
     "traceback": [
      "\u001b[0;31m---------------------------------------------------------------------------\u001b[0m",
      "\u001b[0;31mValueError\u001b[0m                                Traceback (most recent call last)",
      "\u001b[0;32m<ipython-input-66-bf8f29583515>\u001b[0m in \u001b[0;36m<module>\u001b[0;34m()\u001b[0m\n\u001b[0;32m----> 1\u001b[0;31m \u001b[0mprint_two\u001b[0m\u001b[0;34m(\u001b[0m\u001b[0;36m3\u001b[0m\u001b[0;34m,\u001b[0m\u001b[0;36m6\u001b[0m\u001b[0;34m,\u001b[0m\u001b[0;36m9\u001b[0m\u001b[0;34m)\u001b[0m\u001b[0;34m\u001b[0m\u001b[0m\n\u001b[0m",
      "\u001b[0;32m<ipython-input-64-03ab065d16ff>\u001b[0m in \u001b[0;36mprint_two\u001b[0;34m(*args)\u001b[0m\n\u001b[1;32m      1\u001b[0m \u001b[0;31m# this one is like your scripts with argv\u001b[0m\u001b[0;34m\u001b[0m\u001b[0;34m\u001b[0m\u001b[0m\n\u001b[1;32m      2\u001b[0m \u001b[0;32mdef\u001b[0m \u001b[0mprint_two\u001b[0m\u001b[0;34m(\u001b[0m\u001b[0;34m*\u001b[0m\u001b[0margs\u001b[0m\u001b[0;34m)\u001b[0m\u001b[0;34m:\u001b[0m\u001b[0;34m\u001b[0m\u001b[0m\n\u001b[0;32m----> 3\u001b[0;31m     \u001b[0marg1\u001b[0m\u001b[0;34m,\u001b[0m \u001b[0marg2\u001b[0m \u001b[0;34m=\u001b[0m \u001b[0margs\u001b[0m\u001b[0;34m\u001b[0m\u001b[0m\n\u001b[0m\u001b[1;32m      4\u001b[0m     \u001b[0mprint\u001b[0m\u001b[0;34m(\u001b[0m\u001b[0;34mf\"arg1: {arg1}, arg2: {arg2}\"\u001b[0m\u001b[0;34m)\u001b[0m\u001b[0;34m\u001b[0m\u001b[0m\n\u001b[1;32m      5\u001b[0m \u001b[0;34m\u001b[0m\u001b[0m\n",
      "\u001b[0;31mValueError\u001b[0m: too many values to unpack (expected 2)"
     ]
    }
   ],
   "source": [
    "print_two(3,6,9)"
   ]
  },
  {
   "cell_type": "code",
   "execution_count": 56,
   "metadata": {},
   "outputs": [
    {
     "name": "stdout",
     "output_type": "stream",
     "text": [
      "arg1: 1 arg2: 1\n"
     ]
    },
    {
     "data": {
      "text/plain": [
       "2"
      ]
     },
     "execution_count": 56,
     "metadata": {},
     "output_type": "execute_result"
    }
   ],
   "source": [
    "print_two_again(1,1)"
   ]
  },
  {
   "cell_type": "code",
   "execution_count": 57,
   "metadata": {},
   "outputs": [],
   "source": [
    "# this one takes no arguments\n",
    "def print_none():\n",
    "    print(\"I got nothin'.\")"
   ]
  },
  {
   "cell_type": "code",
   "execution_count": 60,
   "metadata": {},
   "outputs": [
    {
     "name": "stdout",
     "output_type": "stream",
     "text": [
      "I got nothin'.\n"
     ]
    }
   ],
   "source": [
    "print_none()"
   ]
  },
  {
   "cell_type": "code",
   "execution_count": 67,
   "metadata": {},
   "outputs": [
    {
     "name": "stdout",
     "output_type": "stream",
     "text": [
      "We can just give the function numbers directly:\n",
      "You have 20 cheeses!\n",
      "You have 30 boxes of crackers!\n",
      "Man that's enought for a party!\n",
      "Get a blanket.\n",
      "\n",
      "OR, we can use variables from our script:\n",
      "You have 10 cheeses!\n",
      "You have 50 boxes of crackers!\n",
      "Man that's enought for a party!\n",
      "Get a blanket.\n",
      "\n",
      "We can even do math inside too:\n",
      "You have 30 cheeses!\n",
      "You have 11 boxes of crackers!\n",
      "Man that's enought for a party!\n",
      "Get a blanket.\n",
      "\n",
      "And we can combine the two, variables and math:\n",
      "You have 110 cheeses!\n",
      "You have 1050 boxes of crackers!\n",
      "Man that's enought for a party!\n",
      "Get a blanket.\n",
      "\n"
     ]
    }
   ],
   "source": [
    "def cheese_and_crackers(cheese_count, boxes_of_crackers):\n",
    "    print(f\"You have {cheese_count} cheeses!\")\n",
    "    print(f\"You have {boxes_of_crackers} boxes of crackers!\")\n",
    "    print(\"Man that's enought for a party!\")\n",
    "    print(\"Get a blanket.\\n\")\n",
    "    cheese_count= 100\n",
    "    boxes_of_crackers= 300\n",
    "    \n",
    "\n",
    "\n",
    "print(\"We can just give the function numbers directly:\")\n",
    "cheese_and_crackers(20, 30)\n",
    "\n",
    "print(\"OR, we can use variables from our script:\")\n",
    "amount_of_cheese = 10\n",
    "amount_of_crackers = 50\n",
    "\n",
    "cheese_and_crackers(amount_of_cheese, amount_of_crackers)\n",
    "\n",
    "print(\"We can even do math inside too:\")\n",
    "cheese_and_crackers(10 + 20, 5 + 6)\n",
    "\n",
    "print(\"And we can combine the two, variables and math:\")\n",
    "cheese_and_crackers(amount_of_cheese + 100, amount_of_crackers + 1000)"
   ]
  },
  {
   "cell_type": "code",
   "execution_count": 68,
   "metadata": {},
   "outputs": [
    {
     "name": "stdout",
     "output_type": "stream",
     "text": [
      "You have 30 cheeses!\n",
      "You have 11 boxes of crackers!\n",
      "Man that's enought for a party!\n",
      "Get a blanket.\n",
      "\n"
     ]
    }
   ],
   "source": [
    "cheese_and_crackers(10 + 20, 5 + 6)\n"
   ]
  },
  {
   "cell_type": "code",
   "execution_count": 69,
   "metadata": {},
   "outputs": [
    {
     "name": "stdout",
     "output_type": "stream",
     "text": [
      "You have 10 cheeses!\n",
      "You have 50 boxes of crackers!\n",
      "Man that's enought for a party!\n",
      "Get a blanket.\n",
      "\n"
     ]
    }
   ],
   "source": [
    "amount_of_cheese = 10\n",
    "amount_of_crackers = 50\n",
    "\n",
    "cheese_and_crackers(amount_of_cheese, amount_of_crackers)"
   ]
  },
  {
   "cell_type": "code",
   "execution_count": 70,
   "metadata": {},
   "outputs": [
    {
     "name": "stdout",
     "output_type": "stream",
     "text": [
      "Let's practice everything.\n",
      "You'd need to know 'bout escapes with \\ that do:\n",
      "\n",
      " newlines and \t tabs.\n",
      "--------------\n",
      "\n",
      "\tThe lovely world\n",
      "with logic so firmly planted\n",
      "cannot discern \n",
      " the needs of love\n",
      "nor comprehend passion from intuition\n",
      "and requires an explanation\n",
      "\n",
      "\t\twhere there is none.\n",
      "\n",
      "--------------\n",
      "This should be five: 5\n",
      "With a starting point of: 10000\n",
      "We'd have 5000000 beans, 5000.0 jars, and 50.0 crates.\n",
      "We can also do that this way:\n",
      "We'd have 500000.0 beans, 500.0 jars, and 5.0 crates.\n"
     ]
    }
   ],
   "source": [
    "print(\"Let's practice everything.\")\n",
    "print('You\\'d need to know \\'bout escapes with \\\\ that do:')\n",
    "print('\\n newlines and \\t tabs.')\n",
    "\n",
    "poem = \"\"\"\n",
    "\\tThe lovely world\n",
    "with logic so firmly planted\n",
    "cannot discern \\n the needs of love\n",
    "nor comprehend passion from intuition\n",
    "and requires an explanation\n",
    "\\n\\t\\twhere there is none.\n",
    "\"\"\"\n",
    "\n",
    "print(\"--------------\")\n",
    "print(poem)\n",
    "print(\"--------------\")\n",
    "\n",
    "five = 10 - 2 + 3 - 6\n",
    "print(f\"This should be five: {five}\")\n",
    "\n",
    "\n",
    "def secret_formula(started):\n",
    "    jelly_beans = started * 500\n",
    "    jars = jelly_beans / 1000\n",
    "    crates = jars / 100\n",
    "    started=10\n",
    "    return jelly_beans, jars, crates\n",
    "\n",
    "\n",
    "start_point = 10000\n",
    "beans, jars, crates = secret_formula(start_point)\n",
    "\n",
    "# remember that this is another way to format string\n",
    "print(\"With a starting point of: {}\".format(start_point))\n",
    "# it's just like with an f\"\" string\n",
    "print(f\"We'd have {beans} beans, {jars} jars, and {crates} crates.\")\n",
    "\n",
    "start_point = start_point / 10\n",
    "\n",
    "print(\"We can also do that this way:\")\n",
    "formula = secret_formula(start_point)\n",
    "# this is an easy way to apply a list to a format string\n",
    "print(\"We'd have {} beans, {} jars, and {} crates.\".format(*formula))\n"
   ]
  },
  {
   "cell_type": "code",
   "execution_count": 74,
   "metadata": {},
   "outputs": [],
   "source": [
    "xxx, aaa, ggg = secret_formula(start_point)\n"
   ]
  },
  {
   "cell_type": "code",
   "execution_count": 78,
   "metadata": {},
   "outputs": [
    {
     "data": {
      "text/plain": [
       "5.0"
      ]
     },
     "execution_count": 78,
     "metadata": {},
     "output_type": "execute_result"
    }
   ],
   "source": [
    "formula[2]"
   ]
  },
  {
   "cell_type": "code",
   "execution_count": 79,
   "metadata": {},
   "outputs": [],
   "source": [
    "x =['joshi', 'shiv', 'NY']"
   ]
  },
  {
   "cell_type": "code",
   "execution_count": 80,
   "metadata": {},
   "outputs": [
    {
     "data": {
      "text/plain": [
       "'joshi'"
      ]
     },
     "execution_count": 80,
     "metadata": {},
     "output_type": "execute_result"
    }
   ],
   "source": [
    "x[0]"
   ]
  },
  {
   "cell_type": "code",
   "execution_count": 81,
   "metadata": {},
   "outputs": [
    {
     "data": {
      "text/plain": [
       "3"
      ]
     },
     "execution_count": 81,
     "metadata": {},
     "output_type": "execute_result"
    }
   ],
   "source": [
    "len(x)"
   ]
  },
  {
   "cell_type": "code",
   "execution_count": 82,
   "metadata": {},
   "outputs": [],
   "source": [
    "def break_words(stuff):\n",
    "    \"\"\"This function will break up words for us.\"\"\"\n",
    "    words = stuff.split(' ')\n",
    "    return words\n",
    "\n",
    "\n",
    "def sort_words(words):\n",
    "    \"\"\"Sorts the words.\"\"\"\n",
    "    return sorted(words)\n",
    "\n",
    "\n",
    "def print_first_word(words):\n",
    "    \"\"\"Prints the first word after popping it off.\"\"\"\n",
    "    word = words.pop(0)\n",
    "    print(word)\n",
    "\n",
    "\n",
    "def print_last_word(words):\n",
    "    \"\"\"Prints the last word after popping it of.\"\"\"\n",
    "    word = words.pop(-1)\n",
    "    print(word)\n",
    "\n",
    "\n",
    "def sort_sentence(sentence):\n",
    "    \"\"\"Takes in a full sentence and returns the sorted words.\"\"\"\n",
    "    words = break_words(sentence)\n",
    "    return (sort_words(words))\n",
    "\n",
    "\n",
    "def print_first_and_last(sentence):\n",
    "    \"\"\"Prints the first and last words of a sentence.\"\"\"\n",
    "    words = break_words(sentence)\n",
    "    print_first_word(words)\n",
    "    print_last_word(words)\n",
    "\n",
    "\n",
    "def print_first_and_last_sorted(sentence):\n",
    "    \"\"\"Sorts the words then prints the first and last one.\"\"\"\n",
    "    words = sort_sentence(sentence)\n",
    "    print_first_word(words)\n",
    "    print_last_word(words)"
   ]
  },
  {
   "cell_type": "code",
   "execution_count": 89,
   "metadata": {},
   "outputs": [],
   "source": [
    "x = break_words('You are in NY, how are you')"
   ]
  },
  {
   "cell_type": "code",
   "execution_count": 90,
   "metadata": {},
   "outputs": [],
   "source": [
    "#break_words(10)"
   ]
  },
  {
   "cell_type": "code",
   "execution_count": 91,
   "metadata": {},
   "outputs": [
    {
     "data": {
      "text/plain": [
       "['You', 'are', 'in', 'NY,', 'how', 'are', 'you']"
      ]
     },
     "execution_count": 91,
     "metadata": {},
     "output_type": "execute_result"
    }
   ],
   "source": [
    "x"
   ]
  },
  {
   "cell_type": "code",
   "execution_count": 93,
   "metadata": {},
   "outputs": [],
   "source": [
    "x=[1,3,4,5,6]"
   ]
  },
  {
   "cell_type": "code",
   "execution_count": 94,
   "metadata": {},
   "outputs": [
    {
     "data": {
      "text/plain": [
       "[1, 3, 4, 5, 6]"
      ]
     },
     "execution_count": 94,
     "metadata": {},
     "output_type": "execute_result"
    }
   ],
   "source": [
    "sorted(x)"
   ]
  },
  {
   "cell_type": "code",
   "execution_count": 97,
   "metadata": {},
   "outputs": [
    {
     "data": {
      "text/plain": [
       "[' ',\n",
       " ' ',\n",
       " ' ',\n",
       " ' ',\n",
       " '1',\n",
       " '2',\n",
       " 'H',\n",
       " 'a',\n",
       " 'e',\n",
       " 'h',\n",
       " 'i',\n",
       " 'o',\n",
       " 'o',\n",
       " 'r',\n",
       " 'u',\n",
       " 'w',\n",
       " 'y']"
      ]
     },
     "execution_count": 97,
     "metadata": {},
     "output_type": "execute_result"
    }
   ],
   "source": [
    "sorted('Hi how are you 12')"
   ]
  },
  {
   "cell_type": "code",
   "execution_count": 99,
   "metadata": {},
   "outputs": [
    {
     "data": {
      "text/plain": [
       "[1, 3, 4, 5, 6]"
      ]
     },
     "execution_count": 99,
     "metadata": {},
     "output_type": "execute_result"
    }
   ],
   "source": [
    "x\n"
   ]
  },
  {
   "cell_type": "code",
   "execution_count": 100,
   "metadata": {},
   "outputs": [
    {
     "data": {
      "text/plain": [
       "6"
      ]
     },
     "execution_count": 100,
     "metadata": {},
     "output_type": "execute_result"
    }
   ],
   "source": [
    "x.pop()"
   ]
  },
  {
   "cell_type": "code",
   "execution_count": 101,
   "metadata": {},
   "outputs": [
    {
     "data": {
      "text/plain": [
       "[1, 3, 4, 5]"
      ]
     },
     "execution_count": 101,
     "metadata": {},
     "output_type": "execute_result"
    }
   ],
   "source": [
    "x"
   ]
  },
  {
   "cell_type": "code",
   "execution_count": 102,
   "metadata": {},
   "outputs": [
    {
     "data": {
      "text/plain": [
       "1"
      ]
     },
     "execution_count": 102,
     "metadata": {},
     "output_type": "execute_result"
    }
   ],
   "source": [
    "x.pop(0)"
   ]
  },
  {
   "cell_type": "code",
   "execution_count": 103,
   "metadata": {},
   "outputs": [
    {
     "data": {
      "text/plain": [
       "[3, 4, 5]"
      ]
     },
     "execution_count": 103,
     "metadata": {},
     "output_type": "execute_result"
    }
   ],
   "source": [
    "x"
   ]
  },
  {
   "cell_type": "code",
   "execution_count": 105,
   "metadata": {},
   "outputs": [
    {
     "data": {
      "text/plain": [
       "5"
      ]
     },
     "execution_count": 105,
     "metadata": {},
     "output_type": "execute_result"
    }
   ],
   "source": [
    "x.pop(-1)"
   ]
  },
  {
   "cell_type": "code",
   "execution_count": 106,
   "metadata": {},
   "outputs": [
    {
     "name": "stdout",
     "output_type": "stream",
     "text": [
      "Too many cats! The world is doomed!\n",
      "The world is dry!\n",
      "People are greater than or equal to dogs.\n",
      "People are less than or equal to dogs.\n",
      "People are dogs.\n"
     ]
    }
   ],
   "source": [
    "people = 20\n",
    "cats = 30\n",
    "dogs = 15\n",
    "\n",
    "if people < cats:\n",
    "    print(\"Too many cats! The world is doomed!\")\n",
    "\n",
    "if people > cats:\n",
    "    print(\"Not many cats! The world is saved!\")\n",
    "\n",
    "if people < dogs:\n",
    "    print(\"The world is drooled on!\")\n",
    "\n",
    "if people > dogs:\n",
    "    print(\"The world is dry!\")\n",
    "\n",
    "dogs += 5\n",
    "\n",
    "if people >= dogs:\n",
    "    print(\"People are greater than or equal to dogs.\")\n",
    "\n",
    "if people <= dogs:\n",
    "    print(\"People are less than or equal to dogs.\")\n",
    "\n",
    "if people == dogs:\n",
    "    print(\"People are dogs.\")"
   ]
  },
  {
   "cell_type": "code",
   "execution_count": 107,
   "metadata": {},
   "outputs": [],
   "source": [
    "dogs *= 5\n"
   ]
  },
  {
   "cell_type": "code",
   "execution_count": 108,
   "metadata": {},
   "outputs": [
    {
     "data": {
      "text/plain": [
       "100"
      ]
     },
     "execution_count": 108,
     "metadata": {},
     "output_type": "execute_result"
    }
   ],
   "source": [
    "dogs"
   ]
  },
  {
   "cell_type": "code",
   "execution_count": 109,
   "metadata": {},
   "outputs": [
    {
     "data": {
      "text/plain": [
       "True"
      ]
     },
     "execution_count": 109,
     "metadata": {},
     "output_type": "execute_result"
    }
   ],
   "source": [
    "10 == 10"
   ]
  },
  {
   "cell_type": "code",
   "execution_count": 110,
   "metadata": {},
   "outputs": [
    {
     "name": "stdout",
     "output_type": "stream",
     "text": [
      "We should take the cars.\n",
      "Maybe we could take the trucks.\n",
      "Alright, let's just take the trucks.\n"
     ]
    }
   ],
   "source": [
    "people = 30\n",
    "cars = 40\n",
    "trucks = 15\n",
    "\n",
    "if cars > people:\n",
    "    print(\"We should take the cars.\")\n",
    "elif cars <= people:\n",
    "    print(\"We should not take the cars.\")\n",
    "else:\n",
    "    print(\"We can't decide.\")\n",
    "\n",
    "if trucks > cars:\n",
    "    print(\"That's too many trucks.\")\n",
    "elif trucks < cars:\n",
    "    print(\"Maybe we could take the trucks.\")\n",
    "else:\n",
    "    print(\"We still can't decide.\")\n",
    "\n",
    "if people > trucks:\n",
    "    print(\"Alright, let's just take the trucks.\")\n",
    "else:\n",
    "    print(\"Fine, let's stay home then.\")"
   ]
  },
  {
   "cell_type": "code",
   "execution_count": 114,
   "metadata": {},
   "outputs": [
    {
     "name": "stdout",
     "output_type": "stream",
     "text": [
      "You enter a dark room with two doors.\n",
      "Do you go through door #1 or door #2?\n",
      "> 1\n",
      "There's a giant bear here eating a cheese cake.\n",
      "What do you do?\n",
      "1. Take the cake.\n",
      "2. Scream at the bear.\n",
      "> 1\n",
      "The bear eats your face off. Good job!\n"
     ]
    }
   ],
   "source": [
    "print(\"You enter a dark room with two doors.\")\n",
    "print(\"Do you go through door #1 or door #2?\")\n",
    "\n",
    "door = input(\"> \")\n",
    "\n",
    "if door == \"1\":\n",
    "    print(\"There's a giant bear here eating a cheese cake.\")\n",
    "    print(\"What do you do?\")\n",
    "    print(\"1. Take the cake.\")\n",
    "    print(\"2. Scream at the bear.\")\n",
    "\n",
    "    bear = input(\"> \")\n",
    "\n",
    "    if bear == \"1\":\n",
    "        print(\"The bear eats your face off. Good job!\")\n",
    "    elif bear == \"2\":\n",
    "        print(\"The bear eats your legs off. Good job!\")\n",
    "    else:\n",
    "        print(f\"Well, doing {bear} is probably better.\")\n",
    "        print(\"Bear runs away.\")\n",
    "\n",
    "elif door == \"2\":\n",
    "    print(\"You stare into the endless abyss at Cthulhu's retina.\")\n",
    "    print(\"1. Blueberries.\")\n",
    "    print(\"2. Yellow jacket clothespins.\")\n",
    "    print(\"3. Understanding revolvers yelling melodies.\")\n",
    "\n",
    "    insanity = input(\"> \")\n",
    "\n",
    "    if insanity == \"1\" or insanity == \"2\":\n",
    "        print(\"Your body survives powered by a mind of jello.\")\n",
    "        print(\"Good job!\")\n",
    "    else:\n",
    "        print(\"The insanity rots your eyes into a pool of muck.\")\n",
    "        print(\"Good job!\")\n",
    "\n",
    "else:\n",
    "    print(\"You stumble around and fall on knife and die. Good job!\")"
   ]
  },
  {
   "cell_type": "code",
   "execution_count": 115,
   "metadata": {},
   "outputs": [
    {
     "name": "stdout",
     "output_type": "stream",
     "text": [
      "This is count 1\n",
      "This is count 2\n",
      "This is count 3\n",
      "This is count 4\n",
      "This is count 5\n",
      "A fruit of type: apples\n",
      "A fruit of type: oranges\n",
      "A fruit of type: pears\n",
      "A fruit of type: apricots\n",
      "I got 1\n",
      "I got pennies\n",
      "I got 2\n",
      "I got dimes\n",
      "I got 3\n",
      "I got quarters\n",
      "Adding 0 to the list.\n",
      "Adding 1 to the list.\n",
      "Adding 2 to the list.\n",
      "Adding 3 to the list.\n",
      "Adding 4 to the list.\n",
      "Adding 5 to the list.\n",
      "Element was: 0\n",
      "Element was: 1\n",
      "Element was: 2\n",
      "Element was: 3\n",
      "Element was: 4\n",
      "Element was: 5\n"
     ]
    }
   ],
   "source": [
    "fruits = ['apples', 'oranges', 'pears', 'apricots']\n",
    "change = [1, 'pennies', 2, 'dimes', 3, 'quarters']\n",
    "\n",
    "# this first kind of for-loop goes through a list\n",
    "for number in the_count:\n",
    "    print(f\"This is count {number}\")\n",
    "\n",
    "# same as above\n",
    "for fruit in fruits:\n",
    "    print(f\"A fruit of type: {fruit}\")\n",
    "\n",
    "# also we can go through mixed lists too\n",
    "# notice we have to use %r since we don't know what's in items\n",
    "for i in change:\n",
    "    print(f\"I got {i}\")\n",
    "\n",
    "# we can also build lists, first start with an empty one\n",
    "elements = []\n",
    "\n",
    "# then use the range function to do 0 to 5 counts\n",
    "for i in range(0, 6):\n",
    "    print(f\"Adding {i} to the list.\")\n",
    "    # append is a function that lists understand\n",
    "    elements.append(i)\n",
    "\n",
    "# now we can print them out too\n",
    "for i in elements:\n",
    "    print(f\"Element was: {i}\")"
   ]
  },
  {
   "cell_type": "code",
   "execution_count": 132,
   "metadata": {},
   "outputs": [
    {
     "name": "stdout",
     "output_type": "stream",
     "text": [
      "5\n"
     ]
    }
   ],
   "source": [
    "the_count = [1, 2, 3, 4, 5]\n",
    "\n",
    "for wedontcare in the_count:\n",
    "    if wedontcare> 4:\n",
    "        print(wedontcare)\n"
   ]
  },
  {
   "cell_type": "code",
   "execution_count": 133,
   "metadata": {},
   "outputs": [
    {
     "name": "stdout",
     "output_type": "stream",
     "text": [
      "5\n"
     ]
    }
   ],
   "source": [
    "xxx=1\n",
    "if xxx> 4:\n",
    "    print(xxx)\n",
    "aaa=2\n",
    "if aaa> 4:\n",
    "    print(aaa)\n",
    "aaa=3\n",
    "if aaa> 4:\n",
    "    print(aaa)\n",
    "aaa=4\n",
    "if aaa> 4:\n",
    "    print(aaa)\n",
    "aaa=5\n",
    "if aaa> 4:\n",
    "    print(aaa)\n",
    "\n"
   ]
  },
  {
   "cell_type": "code",
   "execution_count": 138,
   "metadata": {},
   "outputs": [
    {
     "name": "stdout",
     "output_type": "stream",
     "text": [
      "Adding 4 to the list.\n",
      "Adding 6 to the list.\n",
      "Adding 8 to the list.\n"
     ]
    }
   ],
   "source": [
    "elements = []\n",
    "\n",
    "# then use the range function to do 0 to 5 counts\n",
    "for i in range(4, 10, 2):\n",
    "    print(f\"Adding {i} to the list.\")\n",
    "    # append is a function that lists understand\n",
    "    elements.append(i)\n"
   ]
  },
  {
   "cell_type": "code",
   "execution_count": 135,
   "metadata": {},
   "outputs": [
    {
     "data": {
      "text/plain": [
       "[0, 1, 2, 3, 4, 5]"
      ]
     },
     "execution_count": 135,
     "metadata": {},
     "output_type": "execute_result"
    }
   ],
   "source": [
    "elements"
   ]
  },
  {
   "cell_type": "code",
   "execution_count": 139,
   "metadata": {},
   "outputs": [
    {
     "name": "stdout",
     "output_type": "stream",
     "text": [
      "Wait there's not 10 things in that list, let's fix that.\n",
      "Adding:  Boy\n",
      "There's 7 items now.\n",
      "Adding:  Girl\n",
      "There's 8 items now.\n",
      "Adding:  Banana\n",
      "There's 9 items now.\n",
      "Adding:  Corn\n",
      "There's 10 items now.\n",
      "There we go:  ['Apples', 'Oranges', 'Crows', 'Telephone', 'Light', 'Sugar', 'Boy', 'Girl', 'Banana', 'Corn']\n",
      "Let's do some things with stuff.\n",
      "Oranges\n",
      "Corn\n",
      "Corn\n",
      "Apples Oranges Crows Telephone Light Sugar Boy Girl Banana\n",
      "Telephone#Light\n"
     ]
    }
   ],
   "source": [
    "ten_things = \"Apples Oranges Crows Telephone Light Sugar\"\n",
    "\n",
    "print(\"Wait there's not 10 things in that list, let's fix that.\")\n",
    "\n",
    "stuff = ten_things.split(' ')\n",
    "more_stuff = [\"Day\", \"Night\", \"Song\", \"Frisbee\",\n",
    "              \"Corn\", \"Banana\", \"Girl\", \"Boy\"]\n",
    "\n",
    "while len(stuff) != 10:\n",
    "    next_one = more_stuff.pop()\n",
    "    print(\"Adding: \", next_one)\n",
    "    stuff.append(next_one)\n",
    "    print(f\"There's {len(stuff)} items now.\")\n",
    "\n",
    "print(\"There we go: \", stuff)\n",
    "\n",
    "print(\"Let's do some things with stuff.\")\n",
    "\n",
    "print(stuff[1])\n",
    "print(stuff[-1])  # whoa! fancy\n",
    "print(stuff.pop())\n",
    "print(' '.join(stuff))  # what= cool!\n",
    "print('#'.join(stuff[3:5]))  # super stellar!"
   ]
  },
  {
   "cell_type": "code",
   "execution_count": 140,
   "metadata": {},
   "outputs": [
    {
     "data": {
      "text/plain": [
       "['Apples',\n",
       " 'Oranges',\n",
       " 'Crows',\n",
       " 'Telephone',\n",
       " 'Light',\n",
       " 'Sugar',\n",
       " 'Boy',\n",
       " 'Girl',\n",
       " 'Banana']"
      ]
     },
     "execution_count": 140,
     "metadata": {},
     "output_type": "execute_result"
    }
   ],
   "source": [
    "stuff"
   ]
  },
  {
   "cell_type": "code",
   "execution_count": 143,
   "metadata": {},
   "outputs": [
    {
     "name": "stdout",
     "output_type": "stream",
     "text": [
      "Apples,Oranges,Crows,Telephone,Light,Sugar,Boy,Girl,Banana\n"
     ]
    }
   ],
   "source": [
    "print(','.join(stuff)) "
   ]
  },
  {
   "cell_type": "code",
   "execution_count": 142,
   "metadata": {},
   "outputs": [
    {
     "data": {
      "text/plain": [
       "['Apples',\n",
       " 'Oranges',\n",
       " 'Crows',\n",
       " 'Telephone',\n",
       " 'Light',\n",
       " 'Sugar',\n",
       " 'Boy',\n",
       " 'Girl',\n",
       " 'Banana']"
      ]
     },
     "execution_count": 142,
     "metadata": {},
     "output_type": "execute_result"
    }
   ],
   "source": [
    "stuff"
   ]
  },
  {
   "cell_type": "code",
   "execution_count": 150,
   "metadata": {},
   "outputs": [
    {
     "name": "stdout",
     "output_type": "stream",
     "text": [
      "----------\n",
      "NY State has:  New York\n",
      "OR State has:  Portland\n",
      "----------\n",
      "Michigan's abbreviation is:  MI\n",
      "Florida's abbreviation is:  FL\n",
      "----------\n",
      "Michigan has:  Grand Rapids\n",
      "Florida has:  Jacksonville\n",
      "----------\n",
      "Oregon is abbreviated OR\n",
      "Florida is abbreviated FL\n",
      "California is abbreviated CA\n",
      "New York is abbreviated NY\n",
      "Michigan is abbreviated MI\n",
      "----------\n",
      "CA has the city San Francisco\n",
      "MI has the city Grand Rapids\n",
      "FL has the city Jacksonville\n",
      "NY has the city New York\n",
      "OR has the city Portland\n",
      "----------\n",
      "Oregon state is abbreviated OR\n",
      "and has city Portland\n",
      "Florida state is abbreviated FL\n",
      "and has city Jacksonville\n",
      "California state is abbreviated CA\n",
      "and has city San Francisco\n",
      "New York state is abbreviated NY\n",
      "and has city New York\n",
      "Michigan state is abbreviated MI\n",
      "and has city Grand Rapids\n",
      "----------\n",
      "Sorry, no Texas.\n",
      "The city for the state 'TX' is: Does not Exist\n"
     ]
    }
   ],
   "source": [
    "# create a mapping of state to abbreviation\n",
    "states = {\n",
    "    'Oregon': 'OR',\n",
    "    'Florida': 'FL',\n",
    "    'California': 'CA',\n",
    "    'New York': 'NY',\n",
    "    'Michigan': 'MI'\n",
    "}\n",
    "\n",
    "# create a basic set of states and some cities in them\n",
    "cities = {'CA': 'San Francisco',\n",
    "          'MI': 'Detroit',\n",
    "          'MI': 'Grand Rapids',\n",
    "          'FL': 'Jacksonville'}\n",
    "\n",
    "# add some more cities\n",
    "cities['NY'] = 'New York'\n",
    "cities['OR'] = 'Portland'\n",
    "\n",
    "# print out some cities\n",
    "print('-' * 10)\n",
    "print(\"NY State has: \", cities['NY'])\n",
    "print(\"OR State has: \", cities['OR'])\n",
    "\n",
    "# print some states\n",
    "print('-' * 10)\n",
    "print(\"Michigan's abbreviation is: \", states[\"Michigan\"])\n",
    "print(\"Florida's abbreviation is: \", states['Florida'])\n",
    "\n",
    "# do it by using the state then cities dict\n",
    "print('-' * 10)\n",
    "print(\"Michigan has: \", cities[states['Michigan']])\n",
    "print(\"Florida has: \", cities[states['Florida']])\n",
    "\n",
    "# print every state abbreviation\n",
    "print('-' * 10)\n",
    "for state, abbrev in states.items():\n",
    "    print(f\"{state} is abbreviated {abbrev}\")\n",
    "\n",
    "# print every city in state\n",
    "print('-' * 10)\n",
    "for abbrev, city in cities.items():\n",
    "    print(f\"{abbrev} has the city {city}\")\n",
    "\n",
    "# now do both at the same time\n",
    "print('-' * 10)\n",
    "for state, abbrev in states.items():\n",
    "    print(f\"{state} state is abbreviated {abbrev}\")\n",
    "    print(f\"and has city {cities[abbrev]}\")\n",
    "\n",
    "print('-' * 10)\n",
    "# safely get an abbreviation by state that might not be there\n",
    "state = states.get('Texas')\n",
    "\n",
    "if not state:\n",
    "    print(\"Sorry, no Texas.\")\n",
    "\n",
    "# get a city with a default values\n",
    "city = cities.get('TX', 'Does not Exist')\n",
    "print(f\"The city for the state 'TX' is: {city}\")"
   ]
  },
  {
   "cell_type": "code",
   "execution_count": 151,
   "metadata": {},
   "outputs": [
    {
     "data": {
      "text/plain": [
       "'New York'"
      ]
     },
     "execution_count": 151,
     "metadata": {},
     "output_type": "execute_result"
    }
   ],
   "source": [
    "cities['NY']"
   ]
  },
  {
   "cell_type": "code",
   "execution_count": 152,
   "metadata": {},
   "outputs": [
    {
     "data": {
      "text/plain": [
       "'Grand Rapids'"
      ]
     },
     "execution_count": 152,
     "metadata": {},
     "output_type": "execute_result"
    }
   ],
   "source": [
    "cities[states['Michigan']]"
   ]
  },
  {
   "cell_type": "code",
   "execution_count": 153,
   "metadata": {},
   "outputs": [
    {
     "data": {
      "text/plain": [
       "'MI'"
      ]
     },
     "execution_count": 153,
     "metadata": {},
     "output_type": "execute_result"
    }
   ],
   "source": [
    "states['Michigan']"
   ]
  },
  {
   "cell_type": "code",
   "execution_count": 155,
   "metadata": {},
   "outputs": [
    {
     "name": "stdout",
     "output_type": "stream",
     "text": [
      "Oregon is abbreviated OR\n",
      "Florida is abbreviated FL\n",
      "California is abbreviated CA\n",
      "New York is abbreviated NY\n",
      "Michigan is abbreviated MI\n"
     ]
    }
   ],
   "source": [
    "states = {\n",
    "    'Oregon': 'OR',\n",
    "    'Florida': 'FL',\n",
    "    'California': 'CA',\n",
    "    'New York': 'NY',\n",
    "    'Michigan': 'MI'\n",
    "}\n",
    "for xxx, yyy in states.items():\n",
    "    print(f\"{xxx} is abbreviated {yyy}\")"
   ]
  },
  {
   "cell_type": "code",
   "execution_count": 154,
   "metadata": {},
   "outputs": [
    {
     "name": "stdout",
     "output_type": "stream",
     "text": [
      "Oregon is abbreviated OR\n",
      "Florida is abbreviated FL\n",
      "California is abbreviated CA\n",
      "New York is abbreviated NY\n",
      "Michigan is abbreviated MI\n"
     ]
    }
   ],
   "source": []
  },
  {
   "cell_type": "code",
   "execution_count": 156,
   "metadata": {},
   "outputs": [
    {
     "name": "stdout",
     "output_type": "stream",
     "text": [
      "Oregon state is abbreviated OR\n",
      "and has city Portland\n",
      "Florida state is abbreviated FL\n",
      "and has city Jacksonville\n",
      "California state is abbreviated CA\n",
      "and has city San Francisco\n",
      "New York state is abbreviated NY\n",
      "and has city New York\n",
      "Michigan state is abbreviated MI\n",
      "and has city Grand Rapids\n"
     ]
    }
   ],
   "source": [
    "for state, abbrev in states.items():\n",
    "    print(f\"{state} state is abbreviated {abbrev}\")\n",
    "    print(f\"and has city {cities[abbrev]}\")"
   ]
  },
  {
   "cell_type": "code",
   "execution_count": 157,
   "metadata": {},
   "outputs": [],
   "source": [
    "import numpy as np\n",
    "np.random.seed(12345)\n",
    "np.set_printoptions(precision=4, suppress=True)"
   ]
  },
  {
   "cell_type": "code",
   "execution_count": 159,
   "metadata": {},
   "outputs": [
    {
     "data": {
      "text/plain": [
       "{0: 0.2817461528302025,\n",
       " 1: 0.7690225676118387,\n",
       " 2: 1.2464347363862822,\n",
       " 3: 1.0071893575830049,\n",
       " 4: -1.2962211091122635,\n",
       " 5: 0.274991633432124,\n",
       " 6: 0.22891287893531592}"
      ]
     },
     "execution_count": 159,
     "metadata": {},
     "output_type": "execute_result"
    }
   ],
   "source": [
    "import numpy as np\n",
    "data = {i : np.random.randn() for i in range(7)}\n",
    "data"
   ]
  },
  {
   "cell_type": "code",
   "execution_count": 160,
   "metadata": {},
   "outputs": [
    {
     "data": {
      "text/plain": [
       "['foo', 2, (3, 4)]"
      ]
     },
     "execution_count": 160,
     "metadata": {},
     "output_type": "execute_result"
    }
   ],
   "source": [
    "a_list = ['foo', 2, [4, 5]]\n",
    "a_list[2] = (3, 4)\n",
    "a_list"
   ]
  },
  {
   "cell_type": "code",
   "execution_count": 164,
   "metadata": {},
   "outputs": [],
   "source": [
    "a_tuple = (3, 5, (4, 5))\n",
    "#a_tuple[1] = 'four'\n"
   ]
  },
  {
   "cell_type": "code",
   "execution_count": 165,
   "metadata": {},
   "outputs": [],
   "source": [
    "a_tuple = (3, 5, (8, 9))\n"
   ]
  },
  {
   "cell_type": "code",
   "execution_count": 179,
   "metadata": {},
   "outputs": [
    {
     "data": {
      "text/plain": [
       "float"
      ]
     },
     "execution_count": 179,
     "metadata": {},
     "output_type": "execute_result"
    }
   ],
   "source": [
    "s = '3.94159'\n",
    "fval = float(s)\n",
    "type(fval)\n"
   ]
  },
  {
   "cell_type": "code",
   "execution_count": 180,
   "metadata": {},
   "outputs": [
    {
     "data": {
      "text/plain": [
       "3"
      ]
     },
     "execution_count": 180,
     "metadata": {},
     "output_type": "execute_result"
    }
   ],
   "source": [
    "int(fval)\n"
   ]
  },
  {
   "cell_type": "code",
   "execution_count": 174,
   "metadata": {},
   "outputs": [
    {
     "data": {
      "text/plain": [
       "8"
      ]
     },
     "execution_count": 174,
     "metadata": {},
     "output_type": "execute_result"
    }
   ],
   "source": [
    "s = '3'\n",
    "int(s)+5"
   ]
  },
  {
   "cell_type": "code",
   "execution_count": 183,
   "metadata": {},
   "outputs": [
    {
     "data": {
      "text/plain": [
       "False"
      ]
     },
     "execution_count": 183,
     "metadata": {},
     "output_type": "execute_result"
    }
   ],
   "source": [
    "bool(0)\n"
   ]
  },
  {
   "cell_type": "code",
   "execution_count": 184,
   "metadata": {},
   "outputs": [
    {
     "name": "stderr",
     "output_type": "stream",
     "text": [
      "/home/nbuser/anaconda3_501/lib/python3.6/site-packages/matplotlib/font_manager.py:281: UserWarning: Matplotlib is building the font cache using fc-list. This may take a moment.\n",
      "  'Matplotlib is building the font cache using fc-list. '\n"
     ]
    }
   ],
   "source": [
    "import numpy as np\n",
    "import pandas as pd\n",
    "np.random.seed(12345)\n",
    "import matplotlib.pyplot as plt\n",
    "plt.rc('figure', figsize=(10, 6))\n",
    "np.set_printoptions(precision=4, suppress=True)"
   ]
  },
  {
   "cell_type": "code",
   "execution_count": 185,
   "metadata": {},
   "outputs": [
    {
     "data": {
      "text/html": [
       "<div>\n",
       "<style>\n",
       "    .dataframe thead tr:only-child th {\n",
       "        text-align: right;\n",
       "    }\n",
       "\n",
       "    .dataframe thead th {\n",
       "        text-align: left;\n",
       "    }\n",
       "\n",
       "    .dataframe tbody tr th {\n",
       "        vertical-align: top;\n",
       "    }\n",
       "</style>\n",
       "<table border=\"1\" class=\"dataframe\">\n",
       "  <thead>\n",
       "    <tr style=\"text-align: right;\">\n",
       "      <th></th>\n",
       "      <th>a</th>\n",
       "      <th>b</th>\n",
       "      <th>c</th>\n",
       "      <th>d</th>\n",
       "      <th>message</th>\n",
       "    </tr>\n",
       "  </thead>\n",
       "  <tbody>\n",
       "    <tr>\n",
       "      <th>0</th>\n",
       "      <td>1</td>\n",
       "      <td>2</td>\n",
       "      <td>3</td>\n",
       "      <td>4</td>\n",
       "      <td>hello</td>\n",
       "    </tr>\n",
       "    <tr>\n",
       "      <th>1</th>\n",
       "      <td>5</td>\n",
       "      <td>6</td>\n",
       "      <td>7</td>\n",
       "      <td>8</td>\n",
       "      <td>world</td>\n",
       "    </tr>\n",
       "    <tr>\n",
       "      <th>2</th>\n",
       "      <td>9</td>\n",
       "      <td>10</td>\n",
       "      <td>11</td>\n",
       "      <td>12</td>\n",
       "      <td>foo</td>\n",
       "    </tr>\n",
       "  </tbody>\n",
       "</table>\n",
       "</div>"
      ],
      "text/plain": [
       "   a   b   c   d message\n",
       "0  1   2   3   4   hello\n",
       "1  5   6   7   8   world\n",
       "2  9  10  11  12     foo"
      ]
     },
     "execution_count": 185,
     "metadata": {},
     "output_type": "execute_result"
    }
   ],
   "source": [
    "df = pd.read_csv('https://raw.githubusercontent.com/wesm/pydata-book/2nd-edition/examples/ex1.csv')\n",
    "df"
   ]
  },
  {
   "cell_type": "code",
   "execution_count": 186,
   "metadata": {},
   "outputs": [
    {
     "data": {
      "text/plain": [
       "a           int64\n",
       "b           int64\n",
       "c           int64\n",
       "d           int64\n",
       "message    object\n",
       "dtype: object"
      ]
     },
     "execution_count": 186,
     "metadata": {},
     "output_type": "execute_result"
    }
   ],
   "source": [
    "df.dtypes"
   ]
  },
  {
   "cell_type": "code",
   "execution_count": 187,
   "metadata": {},
   "outputs": [],
   "source": [
    "df['message'] = df['message'].astype(str)"
   ]
  },
  {
   "cell_type": "code",
   "execution_count": 188,
   "metadata": {},
   "outputs": [
    {
     "data": {
      "text/plain": [
       "a           int64\n",
       "b           int64\n",
       "c           int64\n",
       "d           int64\n",
       "message    object\n",
       "dtype: object"
      ]
     },
     "execution_count": 188,
     "metadata": {},
     "output_type": "execute_result"
    }
   ],
   "source": [
    "df.dtypes"
   ]
  },
  {
   "cell_type": "code",
   "execution_count": 193,
   "metadata": {},
   "outputs": [
    {
     "data": {
      "text/html": [
       "<div>\n",
       "<style>\n",
       "    .dataframe thead tr:only-child th {\n",
       "        text-align: right;\n",
       "    }\n",
       "\n",
       "    .dataframe thead th {\n",
       "        text-align: left;\n",
       "    }\n",
       "\n",
       "    .dataframe tbody tr th {\n",
       "        vertical-align: top;\n",
       "    }\n",
       "</style>\n",
       "<table border=\"1\" class=\"dataframe\">\n",
       "  <thead>\n",
       "    <tr style=\"text-align: right;\">\n",
       "      <th></th>\n",
       "      <th>a</th>\n",
       "      <th>b</th>\n",
       "      <th>c</th>\n",
       "      <th>d</th>\n",
       "      <th>message</th>\n",
       "    </tr>\n",
       "  </thead>\n",
       "  <tbody>\n",
       "    <tr>\n",
       "      <th>0</th>\n",
       "      <td>1</td>\n",
       "      <td>2</td>\n",
       "      <td>3</td>\n",
       "      <td>4</td>\n",
       "      <td>hello</td>\n",
       "    </tr>\n",
       "    <tr>\n",
       "      <th>1</th>\n",
       "      <td>5</td>\n",
       "      <td>6</td>\n",
       "      <td>7</td>\n",
       "      <td>8</td>\n",
       "      <td>world</td>\n",
       "    </tr>\n",
       "    <tr>\n",
       "      <th>2</th>\n",
       "      <td>9</td>\n",
       "      <td>10</td>\n",
       "      <td>11</td>\n",
       "      <td>12</td>\n",
       "      <td>foo</td>\n",
       "    </tr>\n",
       "  </tbody>\n",
       "</table>\n",
       "</div>"
      ],
      "text/plain": [
       "   a   b   c   d message\n",
       "0  1   2   3   4   hello\n",
       "1  5   6   7   8   world\n",
       "2  9  10  11  12     foo"
      ]
     },
     "execution_count": 193,
     "metadata": {},
     "output_type": "execute_result"
    }
   ],
   "source": [
    "df = pd.read_csv('https://raw.githubusercontent.com/wesm/pydata-book/2nd-edition/examples/ex2.csv', names=['a', 'b', 'c', 'd', 'message'])\n",
    "df"
   ]
  },
  {
   "cell_type": "code",
   "execution_count": 196,
   "metadata": {},
   "outputs": [],
   "source": [
    "url = 'https://raw.githubusercontent.com/wesm/pydata-book/2nd-edition/examples/ex2.csv'\n",
    "\n",
    "names = ['a', 'b', 'c', 'd', 'message']\n",
    "data = pd.read_csv(url, names=names, index_col='message')\n",
    "\n",
    "data.to_csv('dataJuly8.csv')\n"
   ]
  },
  {
   "cell_type": "code",
   "execution_count": 197,
   "metadata": {},
   "outputs": [
    {
     "name": "stdout",
     "output_type": "stream",
     "text": [
      "Book2.xlsx\r\n",
      "cleanedexce.p\r\n",
      "data\r\n",
      "dataJuly8.csv\r\n",
      "df12.xlsx\r\n",
      "df1pickle.p\r\n",
      "EDAPythonC8-11_With_Womens Clothing E-Commerce Reviews.ipynb\r\n",
      "joshi.p\r\n",
      "July1PythonPart1.ipynb\r\n",
      "July8PythonFD.ipynb\r\n",
      "june\r\n",
      "myzip.zip\r\n",
      "nullplay.txt\r\n",
      "PandasPython.xlsx\r\n",
      "pricefromgooglefin.ipynb\r\n",
      "README.md\r\n",
      "Regression.ipynb\r\n",
      "Rplay.ipynb\r\n",
      "salary.xlsx\r\n",
      "Untitled.ipynb\r\n",
      "Womens Clothing E-Commerce Reviews.csv.zip\r\n",
      "Women.zip\r\n"
     ]
    }
   ],
   "source": [
    "!ls"
   ]
  },
  {
   "cell_type": "code",
   "execution_count": 198,
   "metadata": {},
   "outputs": [
    {
     "name": "stdout",
     "output_type": "stream",
     "text": [
      "message,a,b,c,d\r\n",
      "hello,1,2,3,4\r\n",
      "world,5,6,7,8\r\n",
      "foo,9,10,11,12\r\n"
     ]
    }
   ],
   "source": [
    "!cat dataJuly8.csv"
   ]
  },
  {
   "cell_type": "code",
   "execution_count": 199,
   "metadata": {},
   "outputs": [
    {
     "data": {
      "text/html": [
       "<div>\n",
       "<style>\n",
       "    .dataframe thead tr:only-child th {\n",
       "        text-align: right;\n",
       "    }\n",
       "\n",
       "    .dataframe thead th {\n",
       "        text-align: left;\n",
       "    }\n",
       "\n",
       "    .dataframe tbody tr th {\n",
       "        vertical-align: top;\n",
       "    }\n",
       "</style>\n",
       "<table border=\"1\" class=\"dataframe\">\n",
       "  <thead>\n",
       "    <tr style=\"text-align: right;\">\n",
       "      <th></th>\n",
       "      <th>a</th>\n",
       "      <th>b</th>\n",
       "      <th>c</th>\n",
       "      <th>d</th>\n",
       "      <th>message</th>\n",
       "    </tr>\n",
       "  </thead>\n",
       "  <tbody>\n",
       "    <tr>\n",
       "      <th>0</th>\n",
       "      <td>1</td>\n",
       "      <td>2</td>\n",
       "      <td>3</td>\n",
       "      <td>4</td>\n",
       "      <td>hello</td>\n",
       "    </tr>\n",
       "    <tr>\n",
       "      <th>1</th>\n",
       "      <td>5</td>\n",
       "      <td>6</td>\n",
       "      <td>7</td>\n",
       "      <td>8</td>\n",
       "      <td>world</td>\n",
       "    </tr>\n",
       "    <tr>\n",
       "      <th>2</th>\n",
       "      <td>9</td>\n",
       "      <td>10</td>\n",
       "      <td>11</td>\n",
       "      <td>12</td>\n",
       "      <td>foo</td>\n",
       "    </tr>\n",
       "  </tbody>\n",
       "</table>\n",
       "</div>"
      ],
      "text/plain": [
       "   a   b   c   d message\n",
       "0  1   2   3   4   hello\n",
       "1  5   6   7   8   world\n",
       "2  9  10  11  12     foo"
      ]
     },
     "execution_count": 199,
     "metadata": {},
     "output_type": "execute_result"
    }
   ],
   "source": [
    "url = 'https://raw.githubusercontent.com/wesm/pydata-book/2nd-edition/examples/ex1.xlsx'\n",
    "\n",
    "frame = pd.read_excel(url, 'Sheet1')\n",
    "frame"
   ]
  },
  {
   "cell_type": "code",
   "execution_count": 201,
   "metadata": {},
   "outputs": [],
   "source": [
    "writer = pd.ExcelWriter('July8writtenbyPandas.xlsx')\n",
    "frame.to_excel(writer, 'Sheet1')\n",
    "writer.save()"
   ]
  },
  {
   "cell_type": "code",
   "execution_count": 202,
   "metadata": {},
   "outputs": [],
   "source": [
    "MySession = pd.read_excel('July8.xlsx', 'MySession')\n",
    "City = pd.read_excel('July8.xlsx', 'City')\n"
   ]
  },
  {
   "cell_type": "code",
   "execution_count": 204,
   "metadata": {},
   "outputs": [
    {
     "data": {
      "text/html": [
       "<div>\n",
       "<style>\n",
       "    .dataframe thead tr:only-child th {\n",
       "        text-align: right;\n",
       "    }\n",
       "\n",
       "    .dataframe thead th {\n",
       "        text-align: left;\n",
       "    }\n",
       "\n",
       "    .dataframe tbody tr th {\n",
       "        vertical-align: top;\n",
       "    }\n",
       "</style>\n",
       "<table border=\"1\" class=\"dataframe\">\n",
       "  <thead>\n",
       "    <tr style=\"text-align: right;\">\n",
       "      <th></th>\n",
       "      <th>PersonID</th>\n",
       "      <th>Heroname</th>\n",
       "      <th>Age</th>\n",
       "      <th>Assets</th>\n",
       "      <th>Sector</th>\n",
       "    </tr>\n",
       "  </thead>\n",
       "  <tbody>\n",
       "    <tr>\n",
       "      <th>0</th>\n",
       "      <td>1</td>\n",
       "      <td>Spider Man</td>\n",
       "      <td>32</td>\n",
       "      <td>300000</td>\n",
       "      <td>Tech</td>\n",
       "    </tr>\n",
       "    <tr>\n",
       "      <th>1</th>\n",
       "      <td>2</td>\n",
       "      <td>Super Woman</td>\n",
       "      <td>22</td>\n",
       "      <td>4500000</td>\n",
       "      <td>Tech</td>\n",
       "    </tr>\n",
       "    <tr>\n",
       "      <th>2</th>\n",
       "      <td>3</td>\n",
       "      <td>Super Man</td>\n",
       "      <td>64</td>\n",
       "      <td>700000</td>\n",
       "      <td>Tech</td>\n",
       "    </tr>\n",
       "    <tr>\n",
       "      <th>3</th>\n",
       "      <td>4</td>\n",
       "      <td>Bat Man</td>\n",
       "      <td>100</td>\n",
       "      <td>900000</td>\n",
       "      <td>IT</td>\n",
       "    </tr>\n",
       "    <tr>\n",
       "      <th>4</th>\n",
       "      <td>5</td>\n",
       "      <td>X Man</td>\n",
       "      <td>200</td>\n",
       "      <td>140000</td>\n",
       "      <td>Med</td>\n",
       "    </tr>\n",
       "  </tbody>\n",
       "</table>\n",
       "</div>"
      ],
      "text/plain": [
       "   PersonID     Heroname  Age   Assets Sector\n",
       "0         1   Spider Man   32   300000   Tech\n",
       "1         2  Super Woman   22  4500000   Tech\n",
       "2         3    Super Man   64   700000   Tech\n",
       "3         4      Bat Man  100   900000     IT\n",
       "4         5        X Man  200   140000    Med"
      ]
     },
     "execution_count": 204,
     "metadata": {},
     "output_type": "execute_result"
    }
   ],
   "source": [
    "#select * from MySession where sector = 'Tech'"
   ]
  },
  {
   "cell_type": "code",
   "execution_count": 206,
   "metadata": {},
   "outputs": [
    {
     "data": {
      "text/html": [
       "<div>\n",
       "<style>\n",
       "    .dataframe thead tr:only-child th {\n",
       "        text-align: right;\n",
       "    }\n",
       "\n",
       "    .dataframe thead th {\n",
       "        text-align: left;\n",
       "    }\n",
       "\n",
       "    .dataframe tbody tr th {\n",
       "        vertical-align: top;\n",
       "    }\n",
       "</style>\n",
       "<table border=\"1\" class=\"dataframe\">\n",
       "  <thead>\n",
       "    <tr style=\"text-align: right;\">\n",
       "      <th></th>\n",
       "      <th>PersonID</th>\n",
       "      <th>Heroname</th>\n",
       "      <th>Age</th>\n",
       "      <th>Assets</th>\n",
       "      <th>Sector</th>\n",
       "    </tr>\n",
       "  </thead>\n",
       "  <tbody>\n",
       "    <tr>\n",
       "      <th>0</th>\n",
       "      <td>1</td>\n",
       "      <td>Spider Man</td>\n",
       "      <td>32</td>\n",
       "      <td>300000</td>\n",
       "      <td>Tech</td>\n",
       "    </tr>\n",
       "    <tr>\n",
       "      <th>1</th>\n",
       "      <td>2</td>\n",
       "      <td>Super Woman</td>\n",
       "      <td>22</td>\n",
       "      <td>4500000</td>\n",
       "      <td>Tech</td>\n",
       "    </tr>\n",
       "    <tr>\n",
       "      <th>2</th>\n",
       "      <td>3</td>\n",
       "      <td>Super Man</td>\n",
       "      <td>64</td>\n",
       "      <td>700000</td>\n",
       "      <td>Tech</td>\n",
       "    </tr>\n",
       "  </tbody>\n",
       "</table>\n",
       "</div>"
      ],
      "text/plain": [
       "   PersonID     Heroname  Age   Assets Sector\n",
       "0         1   Spider Man   32   300000   Tech\n",
       "1         2  Super Woman   22  4500000   Tech\n",
       "2         3    Super Man   64   700000   Tech"
      ]
     },
     "execution_count": 206,
     "metadata": {},
     "output_type": "execute_result"
    }
   ],
   "source": [
    "MySession [MySession['Sector']=='Tech']"
   ]
  },
  {
   "cell_type": "code",
   "execution_count": 208,
   "metadata": {},
   "outputs": [
    {
     "data": {
      "text/html": [
       "<div>\n",
       "<style>\n",
       "    .dataframe thead tr:only-child th {\n",
       "        text-align: right;\n",
       "    }\n",
       "\n",
       "    .dataframe thead th {\n",
       "        text-align: left;\n",
       "    }\n",
       "\n",
       "    .dataframe tbody tr th {\n",
       "        vertical-align: top;\n",
       "    }\n",
       "</style>\n",
       "<table border=\"1\" class=\"dataframe\">\n",
       "  <thead>\n",
       "    <tr style=\"text-align: right;\">\n",
       "      <th></th>\n",
       "      <th>Heroname</th>\n",
       "      <th>Assets</th>\n",
       "    </tr>\n",
       "  </thead>\n",
       "  <tbody>\n",
       "    <tr>\n",
       "      <th>0</th>\n",
       "      <td>Spider Man</td>\n",
       "      <td>300000</td>\n",
       "    </tr>\n",
       "    <tr>\n",
       "      <th>1</th>\n",
       "      <td>Super Woman</td>\n",
       "      <td>4500000</td>\n",
       "    </tr>\n",
       "    <tr>\n",
       "      <th>2</th>\n",
       "      <td>Super Man</td>\n",
       "      <td>700000</td>\n",
       "    </tr>\n",
       "    <tr>\n",
       "      <th>3</th>\n",
       "      <td>Bat Man</td>\n",
       "      <td>900000</td>\n",
       "    </tr>\n",
       "    <tr>\n",
       "      <th>4</th>\n",
       "      <td>X Man</td>\n",
       "      <td>140000</td>\n",
       "    </tr>\n",
       "  </tbody>\n",
       "</table>\n",
       "</div>"
      ],
      "text/plain": [
       "      Heroname   Assets\n",
       "0   Spider Man   300000\n",
       "1  Super Woman  4500000\n",
       "2    Super Man   700000\n",
       "3      Bat Man   900000\n",
       "4        X Man   140000"
      ]
     },
     "execution_count": 208,
     "metadata": {},
     "output_type": "execute_result"
    }
   ],
   "source": [
    "MySession[['Heroname','Assets']]\n",
    "#Select Heroname, Assets from MySession"
   ]
  },
  {
   "cell_type": "code",
   "execution_count": 210,
   "metadata": {},
   "outputs": [
    {
     "data": {
      "text/html": [
       "<div>\n",
       "<style>\n",
       "    .dataframe thead tr:only-child th {\n",
       "        text-align: right;\n",
       "    }\n",
       "\n",
       "    .dataframe thead th {\n",
       "        text-align: left;\n",
       "    }\n",
       "\n",
       "    .dataframe tbody tr th {\n",
       "        vertical-align: top;\n",
       "    }\n",
       "</style>\n",
       "<table border=\"1\" class=\"dataframe\">\n",
       "  <thead>\n",
       "    <tr style=\"text-align: right;\">\n",
       "      <th></th>\n",
       "      <th>PersonID</th>\n",
       "      <th>Age</th>\n",
       "      <th>Assets</th>\n",
       "    </tr>\n",
       "  </thead>\n",
       "  <tbody>\n",
       "    <tr>\n",
       "      <th>count</th>\n",
       "      <td>5.000000</td>\n",
       "      <td>5.000000</td>\n",
       "      <td>5.000000e+00</td>\n",
       "    </tr>\n",
       "    <tr>\n",
       "      <th>mean</th>\n",
       "      <td>3.000000</td>\n",
       "      <td>83.600000</td>\n",
       "      <td>1.308000e+06</td>\n",
       "    </tr>\n",
       "    <tr>\n",
       "      <th>std</th>\n",
       "      <td>1.581139</td>\n",
       "      <td>71.866543</td>\n",
       "      <td>1.810061e+06</td>\n",
       "    </tr>\n",
       "    <tr>\n",
       "      <th>min</th>\n",
       "      <td>1.000000</td>\n",
       "      <td>22.000000</td>\n",
       "      <td>1.400000e+05</td>\n",
       "    </tr>\n",
       "    <tr>\n",
       "      <th>25%</th>\n",
       "      <td>2.000000</td>\n",
       "      <td>32.000000</td>\n",
       "      <td>3.000000e+05</td>\n",
       "    </tr>\n",
       "    <tr>\n",
       "      <th>50%</th>\n",
       "      <td>3.000000</td>\n",
       "      <td>64.000000</td>\n",
       "      <td>7.000000e+05</td>\n",
       "    </tr>\n",
       "    <tr>\n",
       "      <th>75%</th>\n",
       "      <td>4.000000</td>\n",
       "      <td>100.000000</td>\n",
       "      <td>9.000000e+05</td>\n",
       "    </tr>\n",
       "    <tr>\n",
       "      <th>max</th>\n",
       "      <td>5.000000</td>\n",
       "      <td>200.000000</td>\n",
       "      <td>4.500000e+06</td>\n",
       "    </tr>\n",
       "  </tbody>\n",
       "</table>\n",
       "</div>"
      ],
      "text/plain": [
       "       PersonID         Age        Assets\n",
       "count  5.000000    5.000000  5.000000e+00\n",
       "mean   3.000000   83.600000  1.308000e+06\n",
       "std    1.581139   71.866543  1.810061e+06\n",
       "min    1.000000   22.000000  1.400000e+05\n",
       "25%    2.000000   32.000000  3.000000e+05\n",
       "50%    3.000000   64.000000  7.000000e+05\n",
       "75%    4.000000  100.000000  9.000000e+05\n",
       "max    5.000000  200.000000  4.500000e+06"
      ]
     },
     "execution_count": 210,
     "metadata": {},
     "output_type": "execute_result"
    }
   ],
   "source": [
    "MySession.describe()"
   ]
  },
  {
   "cell_type": "code",
   "execution_count": 219,
   "metadata": {},
   "outputs": [],
   "source": [
    "pd.options.display.float_format = '{:.0f}'.format\n"
   ]
  },
  {
   "cell_type": "code",
   "execution_count": 220,
   "metadata": {},
   "outputs": [
    {
     "data": {
      "text/html": [
       "<div>\n",
       "<style>\n",
       "    .dataframe thead tr:only-child th {\n",
       "        text-align: right;\n",
       "    }\n",
       "\n",
       "    .dataframe thead th {\n",
       "        text-align: left;\n",
       "    }\n",
       "\n",
       "    .dataframe tbody tr th {\n",
       "        vertical-align: top;\n",
       "    }\n",
       "</style>\n",
       "<table border=\"1\" class=\"dataframe\">\n",
       "  <thead>\n",
       "    <tr style=\"text-align: right;\">\n",
       "      <th></th>\n",
       "      <th>PersonID</th>\n",
       "      <th>Age</th>\n",
       "      <th>Assets</th>\n",
       "    </tr>\n",
       "    <tr>\n",
       "      <th>Sector</th>\n",
       "      <th></th>\n",
       "      <th></th>\n",
       "      <th></th>\n",
       "    </tr>\n",
       "  </thead>\n",
       "  <tbody>\n",
       "    <tr>\n",
       "      <th>IT</th>\n",
       "      <td>4</td>\n",
       "      <td>100</td>\n",
       "      <td>900000</td>\n",
       "    </tr>\n",
       "    <tr>\n",
       "      <th>Med</th>\n",
       "      <td>5</td>\n",
       "      <td>200</td>\n",
       "      <td>140000</td>\n",
       "    </tr>\n",
       "    <tr>\n",
       "      <th>Tech</th>\n",
       "      <td>2</td>\n",
       "      <td>39</td>\n",
       "      <td>1833333</td>\n",
       "    </tr>\n",
       "  </tbody>\n",
       "</table>\n",
       "</div>"
      ],
      "text/plain": [
       "        PersonID  Age  Assets\n",
       "Sector                       \n",
       "IT             4  100  900000\n",
       "Med            5  200  140000\n",
       "Tech           2   39 1833333"
      ]
     },
     "execution_count": 220,
     "metadata": {},
     "output_type": "execute_result"
    }
   ],
   "source": [
    "MySession.groupby('Sector').mean()"
   ]
  },
  {
   "cell_type": "code",
   "execution_count": 224,
   "metadata": {},
   "outputs": [
    {
     "data": {
      "text/html": [
       "<div>\n",
       "<style>\n",
       "    .dataframe thead tr:only-child th {\n",
       "        text-align: right;\n",
       "    }\n",
       "\n",
       "    .dataframe thead th {\n",
       "        text-align: left;\n",
       "    }\n",
       "\n",
       "    .dataframe tbody tr th {\n",
       "        vertical-align: top;\n",
       "    }\n",
       "</style>\n",
       "<table border=\"1\" class=\"dataframe\">\n",
       "  <thead>\n",
       "    <tr style=\"text-align: right;\">\n",
       "      <th></th>\n",
       "      <th>PersonID</th>\n",
       "      <th>Heroname</th>\n",
       "      <th>Age</th>\n",
       "      <th>Assets</th>\n",
       "      <th>Sector</th>\n",
       "      <th>Sector2</th>\n",
       "      <th>AvgAssets</th>\n",
       "    </tr>\n",
       "  </thead>\n",
       "  <tbody>\n",
       "    <tr>\n",
       "      <th>0</th>\n",
       "      <td>1</td>\n",
       "      <td>Spider Man</td>\n",
       "      <td>32</td>\n",
       "      <td>300000</td>\n",
       "      <td>Tech</td>\n",
       "      <td>Tech</td>\n",
       "      <td>200</td>\n",
       "    </tr>\n",
       "    <tr>\n",
       "      <th>1</th>\n",
       "      <td>2</td>\n",
       "      <td>Super Woman</td>\n",
       "      <td>22</td>\n",
       "      <td>4500000</td>\n",
       "      <td>Tech</td>\n",
       "      <td>Tech</td>\n",
       "      <td>200</td>\n",
       "    </tr>\n",
       "    <tr>\n",
       "      <th>2</th>\n",
       "      <td>3</td>\n",
       "      <td>Super Man</td>\n",
       "      <td>64</td>\n",
       "      <td>700000</td>\n",
       "      <td>Tech</td>\n",
       "      <td>Tech</td>\n",
       "      <td>200</td>\n",
       "    </tr>\n",
       "    <tr>\n",
       "      <th>3</th>\n",
       "      <td>4</td>\n",
       "      <td>Bat Man</td>\n",
       "      <td>100</td>\n",
       "      <td>900000</td>\n",
       "      <td>IT</td>\n",
       "      <td>IT</td>\n",
       "      <td>100</td>\n",
       "    </tr>\n",
       "    <tr>\n",
       "      <th>4</th>\n",
       "      <td>5</td>\n",
       "      <td>X Man</td>\n",
       "      <td>200</td>\n",
       "      <td>140000</td>\n",
       "      <td>Med</td>\n",
       "      <td>NaN</td>\n",
       "      <td>nan</td>\n",
       "    </tr>\n",
       "  </tbody>\n",
       "</table>\n",
       "</div>"
      ],
      "text/plain": [
       "   PersonID     Heroname  Age   Assets Sector Sector2  AvgAssets\n",
       "0         1   Spider Man   32   300000   Tech    Tech        200\n",
       "1         2  Super Woman   22  4500000   Tech    Tech        200\n",
       "2         3    Super Man   64   700000   Tech    Tech        200\n",
       "3         4      Bat Man  100   900000     IT      IT        100\n",
       "4         5        X Man  200   140000    Med     NaN        nan"
      ]
     },
     "execution_count": 224,
     "metadata": {},
     "output_type": "execute_result"
    }
   ],
   "source": [
    "pd.merge(MySession,City, left_on='Sector', right_on='Sector2', how='left')"
   ]
  },
  {
   "cell_type": "code",
   "execution_count": 226,
   "metadata": {},
   "outputs": [],
   "source": [
    "import numpy as np\n",
    "import pandas as pd\n",
    "PREVIOUS_MAX_ROWS = pd.options.display.max_rows\n",
    "pd.options.display.max_rows = 20\n",
    "np.random.seed(12345)\n",
    "import matplotlib.pyplot as plt\n",
    "import matplotlib\n",
    "plt.rc('figure', figsize=(10, 6))\n",
    "np.set_printoptions(precision=4, suppress=True)"
   ]
  },
  {
   "cell_type": "code",
   "execution_count": 227,
   "metadata": {},
   "outputs": [],
   "source": [
    "import matplotlib.pyplot as plt\n"
   ]
  },
  {
   "cell_type": "code",
   "execution_count": 228,
   "metadata": {},
   "outputs": [
    {
     "data": {
      "text/plain": [
       "[<matplotlib.lines.Line2D at 0x7f84868b6710>]"
      ]
     },
     "execution_count": 228,
     "metadata": {},
     "output_type": "execute_result"
    },
    {
     "data": {
      "image/png": "[encoded data removed]",
      "text/plain": [
       "<matplotlib.figure.Figure at 0x7f84870d1208>"
      ]
     },
     "metadata": {},
     "output_type": "display_data"
    }
   ],
   "source": [
    "import numpy as np\n",
    "data = np.arange(10)\n",
    "data\n",
    "plt.plot(data)"
   ]
  },
  {
   "cell_type": "code",
   "execution_count": 242,
   "metadata": {},
   "outputs": [
    {
     "data": {
      "text/plain": [
       "<matplotlib.axes._subplots.AxesSubplot at 0x7f848438f278>"
      ]
     },
     "execution_count": 242,
     "metadata": {},
     "output_type": "execute_result"
    },
    {
     "data": {
      "image/png": "[encoded data removed]",
      "text/plain": [
       "<matplotlib.figure.Figure at 0x7f84843d8e48>"
      ]
     },
     "metadata": {},
     "output_type": "display_data"
    }
   ],
   "source": []
  },
  {
   "cell_type": "code",
   "execution_count": 239,
   "metadata": {},
   "outputs": [
    {
     "data": {
      "text/html": [
       "<div>\n",
       "<style>\n",
       "    .dataframe thead tr:only-child th {\n",
       "        text-align: right;\n",
       "    }\n",
       "\n",
       "    .dataframe thead th {\n",
       "        text-align: left;\n",
       "    }\n",
       "\n",
       "    .dataframe tbody tr th {\n",
       "        vertical-align: top;\n",
       "    }\n",
       "</style>\n",
       "<table border=\"1\" class=\"dataframe\">\n",
       "  <thead>\n",
       "    <tr style=\"text-align: right;\">\n",
       "      <th></th>\n",
       "      <th>PersonID</th>\n",
       "      <th>Age</th>\n",
       "      <th>Assets</th>\n",
       "      <th>Sector</th>\n",
       "    </tr>\n",
       "    <tr>\n",
       "      <th>Heroname</th>\n",
       "      <th></th>\n",
       "      <th></th>\n",
       "      <th></th>\n",
       "      <th></th>\n",
       "    </tr>\n",
       "  </thead>\n",
       "  <tbody>\n",
       "    <tr>\n",
       "      <th>Spider Man</th>\n",
       "      <td>1</td>\n",
       "      <td>32</td>\n",
       "      <td>300000</td>\n",
       "      <td>Tech</td>\n",
       "    </tr>\n",
       "    <tr>\n",
       "      <th>Super Woman</th>\n",
       "      <td>2</td>\n",
       "      <td>22</td>\n",
       "      <td>4500000</td>\n",
       "      <td>Tech</td>\n",
       "    </tr>\n",
       "    <tr>\n",
       "      <th>Super Man</th>\n",
       "      <td>3</td>\n",
       "      <td>64</td>\n",
       "      <td>700000</td>\n",
       "      <td>Tech</td>\n",
       "    </tr>\n",
       "    <tr>\n",
       "      <th>Bat Man</th>\n",
       "      <td>4</td>\n",
       "      <td>100</td>\n",
       "      <td>900000</td>\n",
       "      <td>IT</td>\n",
       "    </tr>\n",
       "    <tr>\n",
       "      <th>X Man</th>\n",
       "      <td>5</td>\n",
       "      <td>200</td>\n",
       "      <td>140000</td>\n",
       "      <td>Med</td>\n",
       "    </tr>\n",
       "  </tbody>\n",
       "</table>\n",
       "</div>"
      ],
      "text/plain": [
       "             PersonID  Age   Assets Sector\n",
       "Heroname                                  \n",
       "Spider Man          1   32   300000   Tech\n",
       "Super Woman         2   22  4500000   Tech\n",
       "Super Man           3   64   700000   Tech\n",
       "Bat Man             4  100   900000     IT\n",
       "X Man               5  200   140000    Med"
      ]
     },
     "execution_count": 239,
     "metadata": {},
     "output_type": "execute_result"
    }
   ],
   "source": [
    "#MySession\n",
    "MySession.set_index('Heroname', inplace=True)\n",
    "MySession\n"
   ]
  },
  {
   "cell_type": "code",
   "execution_count": 254,
   "metadata": {},
   "outputs": [
    {
     "data": {
      "image/png": "[encoded data removed]",
      "text/plain": [
       "<matplotlib.figure.Figure at 0x7f8485929358>"
      ]
     },
     "metadata": {},
     "output_type": "display_data"
    }
   ],
   "source": [
    "plt = MySession[['Assets','Age']].plot(secondary_y= 'Age',  kind= 'bar')"
   ]
  },
  {
   "cell_type": "code",
   "execution_count": 256,
   "metadata": {},
   "outputs": [
    {
     "ename": "AttributeError",
     "evalue": "'AxesSubplot' object has no attribute 'save'",
     "output_type": "error",
     "traceback": [
      "\u001b[0;31m---------------------------------------------------------------------------\u001b[0m",
      "\u001b[0;31mAttributeError\u001b[0m                            Traceback (most recent call last)",
      "\u001b[0;32m<ipython-input-256-6597d57d6645>\u001b[0m in \u001b[0;36m<module>\u001b[0;34m()\u001b[0m\n\u001b[0;32m----> 1\u001b[0;31m \u001b[0mplt\u001b[0m\u001b[0;34m.\u001b[0m\u001b[0msave\u001b[0m\u001b[0;34m(\u001b[0m\u001b[0;34m'plot.png'\u001b[0m\u001b[0;34m)\u001b[0m\u001b[0;34m\u001b[0m\u001b[0m\n\u001b[0m",
      "\u001b[0;31mAttributeError\u001b[0m: 'AxesSubplot' object has no attribute 'save'"
     ]
    }
   ],
   "source": [
    "plt.save('plot.png')"
   ]
  },
  {
   "cell_type": "code",
   "execution_count": 232,
   "metadata": {},
   "outputs": [
    {
     "data": {
      "image/png": "[encoded data removed]",
      "text/plain": [
       "<matplotlib.figure.Figure at 0x7f8486543f98>"
      ]
     },
     "metadata": {},
     "output_type": "display_data"
    }
   ],
   "source": [
    "fig = plt.figure()\n",
    "\n",
    "ax1 = fig.add_subplot(2, 2, 1)\n"
   ]
  },
  {
   "cell_type": "code",
   "execution_count": 235,
   "metadata": {},
   "outputs": [
    {
     "data": {
      "image/png": "[encoded data removed]",
      "text/plain": [
       "<matplotlib.figure.Figure at 0x7f848585a2b0>"
      ]
     },
     "metadata": {},
     "output_type": "display_data"
    }
   ],
   "source": [
    "fig, axes = plt.subplots(3, 2, sharex=True, sharey=True)\n",
    "for i in range(3):\n",
    "    for j in range(2):\n",
    "        axes[i, j].hist(np.random.randn(500), bins=50, color='k', alpha=0.5)\n",
    "plt.subplots_adjust(wspace=0, hspace=0)"
   ]
  },
  {
   "cell_type": "code",
   "execution_count": 248,
   "metadata": {},
   "outputs": [
    {
     "data": {
      "text/plain": [
       "<matplotlib.figure.Figure at 0x7f8485d03c50>"
      ]
     },
     "execution_count": 248,
     "metadata": {},
     "output_type": "execute_result"
    },
    {
     "data": {
      "text/plain": [
       "<matplotlib.figure.Figure at 0x7f8485d03c50>"
      ]
     },
     "metadata": {},
     "output_type": "display_data"
    }
   ],
   "source": [
    "plt.figure()\n"
   ]
  },
  {
   "cell_type": "code",
   "execution_count": 246,
   "metadata": {},
   "outputs": [
    {
     "data": {
      "text/plain": [
       "[<matplotlib.lines.Line2D at 0x7f8485d22278>]"
      ]
     },
     "execution_count": 246,
     "metadata": {},
     "output_type": "execute_result"
    },
    {
     "data": {
      "image/png": "[encoded data removed]",
      "text/plain": [
       "<matplotlib.figure.Figure at 0x7f84855b4da0>"
      ]
     },
     "metadata": {},
     "output_type": "display_data"
    }
   ],
   "source": [
    "from numpy.random import randn\n",
    "plt.plot(randn(30).cumsum(), 'ko--')"
   ]
  },
  {
   "cell_type": "code",
   "execution_count": 245,
   "metadata": {},
   "outputs": [
    {
     "data": {
      "text/plain": [
       "array([-0.7061,  1.4315,  2.1263,  3.1013,  3.1834,  2.7148,  2.4302,\n",
       "        3.3683,  3.488 ,  4.0268,  3.8469,  4.5788,  4.443 ,  4.6241,\n",
       "        4.652 ,  4.7679,  5.2561,  5.6384,  5.2308,  6.0602,  6.8301,\n",
       "        6.7749,  6.8439,  7.1965,  6.7459,  6.5968,  6.4529,  6.8216,\n",
       "        7.0805,  7.6658])"
      ]
     },
     "execution_count": 245,
     "metadata": {},
     "output_type": "execute_result"
    }
   ],
   "source": [
    "randn(30).cumsum()"
   ]
  },
  {
   "cell_type": "code",
   "execution_count": 247,
   "metadata": {},
   "outputs": [],
   "source": [
    "plt.close('all')\n"
   ]
  },
  {
   "cell_type": "code",
   "execution_count": 249,
   "metadata": {},
   "outputs": [],
   "source": [
    "plt.show()"
   ]
  },
  {
   "cell_type": "code",
   "execution_count": 250,
   "metadata": {},
   "outputs": [
    {
     "data": {
      "text/plain": [
       "<matplotlib.legend.Legend at 0x7f84859db278>"
      ]
     },
     "execution_count": 250,
     "metadata": {},
     "output_type": "execute_result"
    },
    {
     "data": {
      "image/png": "[encoded data removed]",
      "text/plain": [
       "<matplotlib.figure.Figure at 0x7f84859453c8>"
      ]
     },
     "metadata": {},
     "output_type": "display_data"
    }
   ],
   "source": [
    "data = np.random.randn(30).cumsum()\n",
    "plt.plot(data, 'k--', label='Default')\n",
    "plt.plot(data, 'k-', drawstyle='steps-post', label='steps-post')\n",
    "plt.legend(loc='best')"
   ]
  },
  {
   "cell_type": "code",
   "execution_count": 258,
   "metadata": {},
   "outputs": [
    {
     "data": {
      "text/plain": [
       "0     aardvark\n",
       "1    artichoke\n",
       "2          NaN\n",
       "3      avocado\n",
       "dtype: object"
      ]
     },
     "execution_count": 258,
     "metadata": {},
     "output_type": "execute_result"
    }
   ],
   "source": [
    "string_data = pd.Series(['aardvark', 'artichoke', np.nan, 'avocado'])\n",
    "string_data[string_data.notnull()]\n",
    "\n"
   ]
  },
  {
   "cell_type": "code",
   "execution_count": 260,
   "metadata": {},
   "outputs": [
    {
     "data": {
      "text/plain": [
       "0     True\n",
       "1     True\n",
       "2    False\n",
       "3     True\n",
       "dtype: bool"
      ]
     },
     "execution_count": 260,
     "metadata": {},
     "output_type": "execute_result"
    }
   ],
   "source": [
    "string_data.notnull()"
   ]
  },
  {
   "cell_type": "code",
   "execution_count": 261,
   "metadata": {},
   "outputs": [
    {
     "data": {
      "text/plain": [
       "0     aardvark\n",
       "1    artichoke\n",
       "3      avocado\n",
       "dtype: object"
      ]
     },
     "execution_count": 261,
     "metadata": {},
     "output_type": "execute_result"
    }
   ],
   "source": []
  },
  {
   "cell_type": "code",
   "execution_count": 263,
   "metadata": {},
   "outputs": [
    {
     "data": {
      "text/html": [
       "<div>\n",
       "<style>\n",
       "    .dataframe thead tr:only-child th {\n",
       "        text-align: right;\n",
       "    }\n",
       "\n",
       "    .dataframe thead th {\n",
       "        text-align: left;\n",
       "    }\n",
       "\n",
       "    .dataframe tbody tr th {\n",
       "        vertical-align: top;\n",
       "    }\n",
       "</style>\n",
       "<table border=\"1\" class=\"dataframe\">\n",
       "  <thead>\n",
       "    <tr style=\"text-align: right;\">\n",
       "      <th></th>\n",
       "      <th>0</th>\n",
       "      <th>1</th>\n",
       "      <th>2</th>\n",
       "    </tr>\n",
       "  </thead>\n",
       "  <tbody>\n",
       "    <tr>\n",
       "      <th>0</th>\n",
       "      <td>1</td>\n",
       "      <td>6</td>\n",
       "      <td>3</td>\n",
       "    </tr>\n",
       "  </tbody>\n",
       "</table>\n",
       "</div>"
      ],
      "text/plain": [
       "   0  1  2\n",
       "0  1  6  3"
      ]
     },
     "execution_count": 263,
     "metadata": {},
     "output_type": "execute_result"
    }
   ],
   "source": [
    "from numpy import nan as NA\n",
    "\n",
    "data = pd.DataFrame([[1., 6.5, 3.], [1., NA, NA],\n",
    "                     [NA, NA, NA], [NA, 6.5, 3.]])\n",
    "cleaned = data.dropna()\n",
    "cleaned"
   ]
  },
  {
   "cell_type": "code",
   "execution_count": 264,
   "metadata": {},
   "outputs": [
    {
     "data": {
      "text/html": [
       "<div>\n",
       "<style>\n",
       "    .dataframe thead tr:only-child th {\n",
       "        text-align: right;\n",
       "    }\n",
       "\n",
       "    .dataframe thead th {\n",
       "        text-align: left;\n",
       "    }\n",
       "\n",
       "    .dataframe tbody tr th {\n",
       "        vertical-align: top;\n",
       "    }\n",
       "</style>\n",
       "<table border=\"1\" class=\"dataframe\">\n",
       "  <thead>\n",
       "    <tr style=\"text-align: right;\">\n",
       "      <th></th>\n",
       "      <th>0</th>\n",
       "      <th>1</th>\n",
       "      <th>2</th>\n",
       "    </tr>\n",
       "  </thead>\n",
       "  <tbody>\n",
       "    <tr>\n",
       "      <th>0</th>\n",
       "      <td>1</td>\n",
       "      <td>6</td>\n",
       "      <td>3</td>\n",
       "    </tr>\n",
       "    <tr>\n",
       "      <th>1</th>\n",
       "      <td>1</td>\n",
       "      <td>nan</td>\n",
       "      <td>nan</td>\n",
       "    </tr>\n",
       "    <tr>\n",
       "      <th>3</th>\n",
       "      <td>nan</td>\n",
       "      <td>6</td>\n",
       "      <td>3</td>\n",
       "    </tr>\n",
       "  </tbody>\n",
       "</table>\n",
       "</div>"
      ],
      "text/plain": [
       "    0   1   2\n",
       "0   1   6   3\n",
       "1   1 nan nan\n",
       "3 nan   6   3"
      ]
     },
     "execution_count": 264,
     "metadata": {},
     "output_type": "execute_result"
    }
   ],
   "source": [
    "data.dropna(how='all')\n"
   ]
  },
  {
   "cell_type": "code",
   "execution_count": 265,
   "metadata": {},
   "outputs": [],
   "source": [
    "data[4] = NA\n"
   ]
  },
  {
   "cell_type": "code",
   "execution_count": 266,
   "metadata": {},
   "outputs": [
    {
     "data": {
      "text/html": [
       "<div>\n",
       "<style>\n",
       "    .dataframe thead tr:only-child th {\n",
       "        text-align: right;\n",
       "    }\n",
       "\n",
       "    .dataframe thead th {\n",
       "        text-align: left;\n",
       "    }\n",
       "\n",
       "    .dataframe tbody tr th {\n",
       "        vertical-align: top;\n",
       "    }\n",
       "</style>\n",
       "<table border=\"1\" class=\"dataframe\">\n",
       "  <thead>\n",
       "    <tr style=\"text-align: right;\">\n",
       "      <th></th>\n",
       "      <th>0</th>\n",
       "      <th>1</th>\n",
       "      <th>2</th>\n",
       "      <th>4</th>\n",
       "    </tr>\n",
       "  </thead>\n",
       "  <tbody>\n",
       "    <tr>\n",
       "      <th>0</th>\n",
       "      <td>1</td>\n",
       "      <td>6</td>\n",
       "      <td>3</td>\n",
       "      <td>nan</td>\n",
       "    </tr>\n",
       "    <tr>\n",
       "      <th>1</th>\n",
       "      <td>1</td>\n",
       "      <td>nan</td>\n",
       "      <td>nan</td>\n",
       "      <td>nan</td>\n",
       "    </tr>\n",
       "    <tr>\n",
       "      <th>2</th>\n",
       "      <td>nan</td>\n",
       "      <td>nan</td>\n",
       "      <td>nan</td>\n",
       "      <td>nan</td>\n",
       "    </tr>\n",
       "    <tr>\n",
       "      <th>3</th>\n",
       "      <td>nan</td>\n",
       "      <td>6</td>\n",
       "      <td>3</td>\n",
       "      <td>nan</td>\n",
       "    </tr>\n",
       "  </tbody>\n",
       "</table>\n",
       "</div>"
      ],
      "text/plain": [
       "    0   1   2   4\n",
       "0   1   6   3 nan\n",
       "1   1 nan nan nan\n",
       "2 nan nan nan nan\n",
       "3 nan   6   3 nan"
      ]
     },
     "execution_count": 266,
     "metadata": {},
     "output_type": "execute_result"
    }
   ],
   "source": [
    "data"
   ]
  },
  {
   "cell_type": "code",
   "execution_count": 268,
   "metadata": {},
   "outputs": [
    {
     "data": {
      "text/html": [
       "<div>\n",
       "<style>\n",
       "    .dataframe thead tr:only-child th {\n",
       "        text-align: right;\n",
       "    }\n",
       "\n",
       "    .dataframe thead th {\n",
       "        text-align: left;\n",
       "    }\n",
       "\n",
       "    .dataframe tbody tr th {\n",
       "        vertical-align: top;\n",
       "    }\n",
       "</style>\n",
       "<table border=\"1\" class=\"dataframe\">\n",
       "  <thead>\n",
       "    <tr style=\"text-align: right;\">\n",
       "      <th></th>\n",
       "      <th>0</th>\n",
       "      <th>1</th>\n",
       "      <th>2</th>\n",
       "      <th>4</th>\n",
       "    </tr>\n",
       "  </thead>\n",
       "  <tbody>\n",
       "    <tr>\n",
       "      <th>0</th>\n",
       "      <td>1</td>\n",
       "      <td>6</td>\n",
       "      <td>3</td>\n",
       "      <td>nan</td>\n",
       "    </tr>\n",
       "    <tr>\n",
       "      <th>1</th>\n",
       "      <td>1</td>\n",
       "      <td>nan</td>\n",
       "      <td>nan</td>\n",
       "      <td>nan</td>\n",
       "    </tr>\n",
       "    <tr>\n",
       "      <th>3</th>\n",
       "      <td>nan</td>\n",
       "      <td>6</td>\n",
       "      <td>3</td>\n",
       "      <td>nan</td>\n",
       "    </tr>\n",
       "  </tbody>\n",
       "</table>\n",
       "</div>"
      ],
      "text/plain": [
       "    0   1   2   4\n",
       "0   1   6   3 nan\n",
       "1   1 nan nan nan\n",
       "3 nan   6   3 nan"
      ]
     },
     "execution_count": 268,
     "metadata": {},
     "output_type": "execute_result"
    }
   ],
   "source": [
    "data.dropna(how='all')\n"
   ]
  },
  {
   "cell_type": "code",
   "execution_count": 270,
   "metadata": {},
   "outputs": [
    {
     "data": {
      "text/html": [
       "<div>\n",
       "<style>\n",
       "    .dataframe thead tr:only-child th {\n",
       "        text-align: right;\n",
       "    }\n",
       "\n",
       "    .dataframe thead th {\n",
       "        text-align: left;\n",
       "    }\n",
       "\n",
       "    .dataframe tbody tr th {\n",
       "        vertical-align: top;\n",
       "    }\n",
       "</style>\n",
       "<table border=\"1\" class=\"dataframe\">\n",
       "  <thead>\n",
       "    <tr style=\"text-align: right;\">\n",
       "      <th></th>\n",
       "      <th>0</th>\n",
       "      <th>1</th>\n",
       "      <th>2</th>\n",
       "    </tr>\n",
       "  </thead>\n",
       "  <tbody>\n",
       "    <tr>\n",
       "      <th>0</th>\n",
       "      <td>0</td>\n",
       "      <td>nan</td>\n",
       "      <td>nan</td>\n",
       "    </tr>\n",
       "    <tr>\n",
       "      <th>1</th>\n",
       "      <td>1</td>\n",
       "      <td>nan</td>\n",
       "      <td>nan</td>\n",
       "    </tr>\n",
       "    <tr>\n",
       "      <th>2</th>\n",
       "      <td>-0</td>\n",
       "      <td>nan</td>\n",
       "      <td>-0</td>\n",
       "    </tr>\n",
       "    <tr>\n",
       "      <th>3</th>\n",
       "      <td>0</td>\n",
       "      <td>nan</td>\n",
       "      <td>-1</td>\n",
       "    </tr>\n",
       "    <tr>\n",
       "      <th>4</th>\n",
       "      <td>-2</td>\n",
       "      <td>1</td>\n",
       "      <td>1</td>\n",
       "    </tr>\n",
       "    <tr>\n",
       "      <th>5</th>\n",
       "      <td>-0</td>\n",
       "      <td>-0</td>\n",
       "      <td>0</td>\n",
       "    </tr>\n",
       "    <tr>\n",
       "      <th>6</th>\n",
       "      <td>0</td>\n",
       "      <td>1</td>\n",
       "      <td>-1</td>\n",
       "    </tr>\n",
       "  </tbody>\n",
       "</table>\n",
       "</div>"
      ],
      "text/plain": [
       "   0   1   2\n",
       "0  0 nan nan\n",
       "1  1 nan nan\n",
       "2 -0 nan  -0\n",
       "3  0 nan  -1\n",
       "4 -2   1   1\n",
       "5 -0  -0   0\n",
       "6  0   1  -1"
      ]
     },
     "execution_count": 270,
     "metadata": {},
     "output_type": "execute_result"
    }
   ],
   "source": [
    "df = pd.DataFrame(np.random.randn(7, 3))\n",
    "df.iloc[:4, 1] = NA\n",
    "df.iloc[:2, 2] = NA\n",
    "df\n"
   ]
  },
  {
   "cell_type": "code",
   "execution_count": 271,
   "metadata": {},
   "outputs": [
    {
     "data": {
      "text/html": [
       "<div>\n",
       "<style>\n",
       "    .dataframe thead tr:only-child th {\n",
       "        text-align: right;\n",
       "    }\n",
       "\n",
       "    .dataframe thead th {\n",
       "        text-align: left;\n",
       "    }\n",
       "\n",
       "    .dataframe tbody tr th {\n",
       "        vertical-align: top;\n",
       "    }\n",
       "</style>\n",
       "<table border=\"1\" class=\"dataframe\">\n",
       "  <thead>\n",
       "    <tr style=\"text-align: right;\">\n",
       "      <th></th>\n",
       "      <th>0</th>\n",
       "      <th>1</th>\n",
       "      <th>2</th>\n",
       "    </tr>\n",
       "  </thead>\n",
       "  <tbody>\n",
       "    <tr>\n",
       "      <th>2</th>\n",
       "      <td>-0</td>\n",
       "      <td>nan</td>\n",
       "      <td>-0</td>\n",
       "    </tr>\n",
       "    <tr>\n",
       "      <th>3</th>\n",
       "      <td>0</td>\n",
       "      <td>nan</td>\n",
       "      <td>-1</td>\n",
       "    </tr>\n",
       "    <tr>\n",
       "      <th>4</th>\n",
       "      <td>-2</td>\n",
       "      <td>1</td>\n",
       "      <td>1</td>\n",
       "    </tr>\n",
       "    <tr>\n",
       "      <th>5</th>\n",
       "      <td>-0</td>\n",
       "      <td>-0</td>\n",
       "      <td>0</td>\n",
       "    </tr>\n",
       "    <tr>\n",
       "      <th>6</th>\n",
       "      <td>0</td>\n",
       "      <td>1</td>\n",
       "      <td>-1</td>\n",
       "    </tr>\n",
       "  </tbody>\n",
       "</table>\n",
       "</div>"
      ],
      "text/plain": [
       "   0   1  2\n",
       "2 -0 nan -0\n",
       "3  0 nan -1\n",
       "4 -2   1  1\n",
       "5 -0  -0  0\n",
       "6  0   1 -1"
      ]
     },
     "execution_count": 271,
     "metadata": {},
     "output_type": "execute_result"
    }
   ],
   "source": [
    "df.dropna(thresh=2)"
   ]
  },
  {
   "cell_type": "code",
   "execution_count": 272,
   "metadata": {},
   "outputs": [
    {
     "data": {
      "text/html": [
       "<div>\n",
       "<style>\n",
       "    .dataframe thead tr:only-child th {\n",
       "        text-align: right;\n",
       "    }\n",
       "\n",
       "    .dataframe thead th {\n",
       "        text-align: left;\n",
       "    }\n",
       "\n",
       "    .dataframe tbody tr th {\n",
       "        vertical-align: top;\n",
       "    }\n",
       "</style>\n",
       "<table border=\"1\" class=\"dataframe\">\n",
       "  <thead>\n",
       "    <tr style=\"text-align: right;\">\n",
       "      <th></th>\n",
       "      <th>food</th>\n",
       "      <th>ounces</th>\n",
       "    </tr>\n",
       "  </thead>\n",
       "  <tbody>\n",
       "    <tr>\n",
       "      <th>0</th>\n",
       "      <td>bacon</td>\n",
       "      <td>4</td>\n",
       "    </tr>\n",
       "    <tr>\n",
       "      <th>1</th>\n",
       "      <td>pulled pork</td>\n",
       "      <td>3</td>\n",
       "    </tr>\n",
       "    <tr>\n",
       "      <th>2</th>\n",
       "      <td>bacon</td>\n",
       "      <td>12</td>\n",
       "    </tr>\n",
       "    <tr>\n",
       "      <th>3</th>\n",
       "      <td>Pastrami</td>\n",
       "      <td>6</td>\n",
       "    </tr>\n",
       "    <tr>\n",
       "      <th>4</th>\n",
       "      <td>corned beef</td>\n",
       "      <td>8</td>\n",
       "    </tr>\n",
       "    <tr>\n",
       "      <th>5</th>\n",
       "      <td>Bacon</td>\n",
       "      <td>8</td>\n",
       "    </tr>\n",
       "    <tr>\n",
       "      <th>6</th>\n",
       "      <td>pastrami</td>\n",
       "      <td>3</td>\n",
       "    </tr>\n",
       "    <tr>\n",
       "      <th>7</th>\n",
       "      <td>honey ham</td>\n",
       "      <td>5</td>\n",
       "    </tr>\n",
       "    <tr>\n",
       "      <th>8</th>\n",
       "      <td>nova lox</td>\n",
       "      <td>6</td>\n",
       "    </tr>\n",
       "  </tbody>\n",
       "</table>\n",
       "</div>"
      ],
      "text/plain": [
       "          food  ounces\n",
       "0        bacon       4\n",
       "1  pulled pork       3\n",
       "2        bacon      12\n",
       "3     Pastrami       6\n",
       "4  corned beef       8\n",
       "5        Bacon       8\n",
       "6     pastrami       3\n",
       "7    honey ham       5\n",
       "8     nova lox       6"
      ]
     },
     "execution_count": 272,
     "metadata": {},
     "output_type": "execute_result"
    }
   ],
   "source": [
    "data = pd.DataFrame({'food': ['bacon', 'pulled pork', 'bacon',\n",
    "                              'Pastrami', 'corned beef', 'Bacon',\n",
    "                              'pastrami', 'honey ham', 'nova lox'],\n",
    "                     'ounces': [4, 3, 12, 6, 7.5, 8, 3, 5, 6]})\n",
    "data"
   ]
  },
  {
   "cell_type": "code",
   "execution_count": 273,
   "metadata": {},
   "outputs": [],
   "source": [
    "meat_to_animal = {\n",
    "  'bacon': 'pig',\n",
    "  'pulled pork': 'pig',\n",
    "  'pastrami': 'cow',\n",
    "  'corned beef': 'cow',\n",
    "  'honey ham': 'pig',\n",
    "  'nova lox': 'salmon'\n",
    "}"
   ]
  },
  {
   "cell_type": "code",
   "execution_count": 275,
   "metadata": {},
   "outputs": [],
   "source": [
    "lowercased = data['food'].str.lower()\n",
    "lowercased\n",
    "data['animal'] = lowercased.map(meat_to_animal)"
   ]
  },
  {
   "cell_type": "code",
   "execution_count": 276,
   "metadata": {},
   "outputs": [
    {
     "data": {
      "text/plain": [
       "0       pig\n",
       "1       pig\n",
       "2       pig\n",
       "3       cow\n",
       "4       cow\n",
       "5       pig\n",
       "6       cow\n",
       "7       pig\n",
       "8    salmon\n",
       "Name: food, dtype: object"
      ]
     },
     "execution_count": 276,
     "metadata": {},
     "output_type": "execute_result"
    }
   ],
   "source": [
    "data['food'].map(lambda x: meat_to_animal[x.lower()])\n"
   ]
  },
  {
   "cell_type": "code",
   "execution_count": 277,
   "metadata": {},
   "outputs": [
    {
     "data": {
      "text/html": [
       "<div>\n",
       "<style>\n",
       "    .dataframe thead tr:only-child th {\n",
       "        text-align: right;\n",
       "    }\n",
       "\n",
       "    .dataframe thead th {\n",
       "        text-align: left;\n",
       "    }\n",
       "\n",
       "    .dataframe tbody tr th {\n",
       "        vertical-align: top;\n",
       "    }\n",
       "</style>\n",
       "<table border=\"1\" class=\"dataframe\">\n",
       "  <thead>\n",
       "    <tr style=\"text-align: right;\">\n",
       "      <th></th>\n",
       "      <th>food</th>\n",
       "      <th>ounces</th>\n",
       "      <th>animal</th>\n",
       "    </tr>\n",
       "  </thead>\n",
       "  <tbody>\n",
       "    <tr>\n",
       "      <th>0</th>\n",
       "      <td>bacon</td>\n",
       "      <td>4</td>\n",
       "      <td>pig</td>\n",
       "    </tr>\n",
       "    <tr>\n",
       "      <th>1</th>\n",
       "      <td>pulled pork</td>\n",
       "      <td>3</td>\n",
       "      <td>pig</td>\n",
       "    </tr>\n",
       "    <tr>\n",
       "      <th>2</th>\n",
       "      <td>bacon</td>\n",
       "      <td>12</td>\n",
       "      <td>pig</td>\n",
       "    </tr>\n",
       "    <tr>\n",
       "      <th>3</th>\n",
       "      <td>Pastrami</td>\n",
       "      <td>6</td>\n",
       "      <td>cow</td>\n",
       "    </tr>\n",
       "    <tr>\n",
       "      <th>4</th>\n",
       "      <td>corned beef</td>\n",
       "      <td>8</td>\n",
       "      <td>cow</td>\n",
       "    </tr>\n",
       "    <tr>\n",
       "      <th>5</th>\n",
       "      <td>Bacon</td>\n",
       "      <td>8</td>\n",
       "      <td>pig</td>\n",
       "    </tr>\n",
       "    <tr>\n",
       "      <th>6</th>\n",
       "      <td>pastrami</td>\n",
       "      <td>3</td>\n",
       "      <td>cow</td>\n",
       "    </tr>\n",
       "    <tr>\n",
       "      <th>7</th>\n",
       "      <td>honey ham</td>\n",
       "      <td>5</td>\n",
       "      <td>pig</td>\n",
       "    </tr>\n",
       "    <tr>\n",
       "      <th>8</th>\n",
       "      <td>nova lox</td>\n",
       "      <td>6</td>\n",
       "      <td>salmon</td>\n",
       "    </tr>\n",
       "  </tbody>\n",
       "</table>\n",
       "</div>"
      ],
      "text/plain": [
       "          food  ounces  animal\n",
       "0        bacon       4     pig\n",
       "1  pulled pork       3     pig\n",
       "2        bacon      12     pig\n",
       "3     Pastrami       6     cow\n",
       "4  corned beef       8     cow\n",
       "5        Bacon       8     pig\n",
       "6     pastrami       3     cow\n",
       "7    honey ham       5     pig\n",
       "8     nova lox       6  salmon"
      ]
     },
     "execution_count": 277,
     "metadata": {},
     "output_type": "execute_result"
    }
   ],
   "source": [
    "data"
   ]
  },
  {
   "cell_type": "code",
   "execution_count": null,
   "metadata": {},
   "outputs": [],
   "source": []
  }
 ],
 "metadata": {
  "kernelspec": {
   "display_name": "Python 3.6",
   "language": "python",
   "name": "python36"
  },
  "language_info": {
   "codemirror_mode": {
    "name": "ipython",
    "version": 3
   },
   "file_extension": ".py",
   "mimetype": "text/x-python",
   "name": "python",
   "nbconvert_exporter": "python",
   "pygments_lexer": "ipython3",
   "version": "3.6.3"
  }
 },
 "nbformat": 4,
 "nbformat_minor": 2
}
