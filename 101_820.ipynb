{
  "cells": [
    {
      "metadata": {
        "trusted": true
      },
      "cell_type": "code",
      "source": "print(\"Hello World!\")\nprint(\"Hello Again\")\nprint(\"I like typing this.\")\nprint(\"This is fun.\")\nprint('Yay! Printing.')\nprint(\"I'd much rather you 'not'.\")\nprint('I \"said\" do not touch this.')",
      "execution_count": 1,
      "outputs": [
        {
          "output_type": "stream",
          "text": "Hello World!\nHello Again\nI like typing this.\nThis is fun.\nYay! Printing.\nI'd much rather you 'not'.\nI \"said\" do not touch this.\n",
          "name": "stdout"
        }
      ]
    },
    {
      "metadata": {
        "trusted": true
      },
      "cell_type": "code",
      "source": "# Shift enter is the shortcut to run the code\n",
      "execution_count": 2,
      "outputs": []
    },
    {
      "metadata": {
        "trusted": true
      },
      "cell_type": "code",
      "source": "print(\"hello world\")",
      "execution_count": 3,
      "outputs": [
        {
          "output_type": "stream",
          "text": "hello world\n",
          "name": "stdout"
        }
      ]
    },
    {
      "metadata": {
        "trusted": true
      },
      "cell_type": "code",
      "source": "print(\"hello\")",
      "execution_count": 4,
      "outputs": [
        {
          "output_type": "stream",
          "text": "hello\n",
          "name": "stdout"
        }
      ]
    },
    {
      "metadata": {
        "trusted": true
      },
      "cell_type": "code",
      "source": "# A comment, this is so you can read your program later.\n# Anything after the # is ignored by pyhton.\n\nprint(\"I could have code like this.\")  # and the comment after is ignored\n\n# You can also use a comment to \"disable\" or comment out a piece of code:\n# print (\"This won't run.\")\n\nprint(\"This will run.\")",
      "execution_count": 5,
      "outputs": [
        {
          "output_type": "stream",
          "text": "I could have code like this.\nThis will run.\n",
          "name": "stdout"
        }
      ]
    },
    {
      "metadata": {
        "trusted": true
      },
      "cell_type": "code",
      "source": "print(\"I will now count my chickens:\")\n\nprint(\"Hens\", 25 + 30 / 6)\n\nprint(\"Rosters\", 100 - 25 * 3  % 4)\n\nprint(\"Now I will count the eggs:\")\n\nprint(round(3 + 2 + 1 - 5 + 4 % 2 - 1 / 4 + 6))\n\nprint(\"Is it true that 3 + 2 < 5 - 7?\")\n\nprint(3 + 2 < 5 - 7)\n\nprint(\"What is 3 + 2?\", 3 + 2)\nprint(\"What is 5 - 7?\", 5 - 7)\n\nprint(\"Oh, that's why it's False.\")\n\nprint(\"How about some more.\")\n\nprint(\"It is greater?\", 5 > -2)\nprint(\"It is greater or equal?\", 5 >= -2)\nprint(\"It is less or equal?\", 5 <= -2)",
      "execution_count": 19,
      "outputs": [
        {
          "output_type": "stream",
          "text": "I will now count my chickens:\nHens 30.0\nRosters 97\nNow I will count the eggs:\n7\nIs it true that 3 + 2 < 5 - 7?\nFalse\nWhat is 3 + 2? 5\nWhat is 5 - 7? -2\nOh, that's why it's False.\nHow about some more.\nIt is greater? True\nIt is greater or equal? True\nIt is less or equal? False\n",
          "name": "stdout"
        }
      ]
    },
    {
      "metadata": {
        "trusted": true
      },
      "cell_type": "code",
      "source": "x = 10.01",
      "execution_count": 8,
      "outputs": []
    },
    {
      "metadata": {
        "trusted": true
      },
      "cell_type": "code",
      "source": "print(x)\n2*x",
      "execution_count": 13,
      "outputs": [
        {
          "output_type": "stream",
          "text": "10.01\n",
          "name": "stdout"
        },
        {
          "output_type": "execute_result",
          "execution_count": 13,
          "data": {
            "text/plain": "20.02"
          },
          "metadata": {}
        }
      ]
    },
    {
      "metadata": {
        "trusted": true
      },
      "cell_type": "code",
      "source": "3+5/100",
      "execution_count": 14,
      "outputs": [
        {
          "output_type": "execute_result",
          "execution_count": 14,
          "data": {
            "text/plain": "3.05"
          },
          "metadata": {}
        }
      ]
    },
    {
      "metadata": {
        "trusted": true
      },
      "cell_type": "code",
      "source": "5>3",
      "execution_count": 15,
      "outputs": [
        {
          "output_type": "execute_result",
          "execution_count": 15,
          "data": {
            "text/plain": "True"
          },
          "metadata": {}
        }
      ]
    },
    {
      "metadata": {
        "trusted": true
      },
      "cell_type": "code",
      "source": "cars = 100\nspace_in_a_car = 4.0\ndrivers = 30\npassengers = 90\ncars_not_driven = cars - drivers\ncars_driven = drivers\ncarpool_capacity = cars_driven * space_in_a_car\naverage_passengers_per_car = passengers / cars_driven\n\nprint(\"There are\", cars, \"cars available.\")\nprint(\"There are only\", drivers, \"drivers available.\")\nprint(\"There will be\", cars_not_driven, \"empty cars today\")\nprint(\"We can transport\", carpool_capacity, \"people today.\")\nprint(\"We have\", passengers, \"to carpool today.\")\nprint(\"We need to put about\", average_passengers_per_car, \"in each car.\")",
      "execution_count": 20,
      "outputs": [
        {
          "output_type": "stream",
          "text": "There are 100 cars available.\nThere are only 30 drivers available.\nThere will be 70 empty cars today\nWe can transport 120.0 people today.\nWe have 90 to carpool today.\nWe need to put about 3.0 in each car.\n",
          "name": "stdout"
        }
      ]
    },
    {
      "metadata": {
        "trusted": true
      },
      "cell_type": "code",
      "source": "type(space_in_a_car)",
      "execution_count": 21,
      "outputs": [
        {
          "output_type": "execute_result",
          "execution_count": 21,
          "data": {
            "text/plain": "float"
          },
          "metadata": {}
        }
      ]
    },
    {
      "metadata": {
        "trusted": true
      },
      "cell_type": "code",
      "source": "type(cars)",
      "execution_count": 22,
      "outputs": [
        {
          "output_type": "execute_result",
          "execution_count": 22,
          "data": {
            "text/plain": "int"
          },
          "metadata": {}
        }
      ]
    },
    {
      "metadata": {
        "trusted": true
      },
      "cell_type": "code",
      "source": "x=10\nx/3\ntype(x/3)",
      "execution_count": 26,
      "outputs": [
        {
          "output_type": "execute_result",
          "execution_count": 26,
          "data": {
            "text/plain": "float"
          },
          "metadata": {}
        }
      ]
    },
    {
      "metadata": {
        "trusted": true
      },
      "cell_type": "code",
      "source": "my_name = 'Zed A. Shaw'\nmy_age = 35  # not a lie\nmy_height = 74  # inches\nmy_weight = 180  # lbs\nmy_eyes = 'Blue'\nmy_teeth = 'White'\nmy_hair = 'Brown'\n\nprint(\"Let's talk about my age\", str(my_age) + \".\")\n\n\nprint(f\"He's {my_height} inches tall.\")\n\nprint(f\"He's {my_weight} pounds heavy.\")\n\nprint(\"Actually that's not too heavy.\")\n\n\nprint(f\"He's got {my_eyes} eyes and {my_hair} hair.\")\n\nprint(f\"His teeth are usually {my_teeth} depending on the coffee.\")\n\n# this line is tricky, try to get it exactly right\ntotal = my_age + my_height + my_weight\nprint(f\"If I add {my_age}, {my_height}, and {my_weight} I get {total}.\")",
      "execution_count": 33,
      "outputs": [
        {
          "output_type": "stream",
          "text": "Let's talk about my age 35.\nHe's 74 inches tall.\nHe's 180 pounds heavy.\nActually that's not too heavy.\nHe's got Blue eyes and Brown hair.\nHis teeth are usually White depending on the coffee.\nIf I add 35, 74, and 180 I get 289.\n",
          "name": "stdout"
        }
      ]
    },
    {
      "metadata": {
        "trusted": true
      },
      "cell_type": "code",
      "source": "formatter = \"{} {} {} {}\"\n\nprint(formatter.format(1, 2, 3, 4))\nprint(formatter.format(\"one\", \"two\", \"three\", \"four\"))\nprint(formatter.format(True, False, False, True))\nprint(formatter.format(formatter, formatter, formatter, formatter))\nprint(formatter.format(\"Try your\",\n                       \"Own text here\",\n                       \"Maybe a poem\",\"\"\n                       ))",
      "execution_count": 39,
      "outputs": [
        {
          "output_type": "stream",
          "text": "1 2 3 4\none two three four\nTrue False False True\n{} {} {} {} {} {} {} {} {} {} {} {} {} {} {} {}\nTry your Own text here Maybe a poem \n",
          "name": "stdout"
        }
      ]
    },
    {
      "metadata": {
        "trusted": true
      },
      "cell_type": "code",
      "source": "# Here's some new strange stuff, remember type it exactly.\n\ndays = \"Mon Tue Wed Thu Fri Sat Sun\"\nmonths = \"Jan\\nFeb\\nMar\\nApr\\nMay\\nJun\\nJul\\nAug\"\n\nprint(\"Here are the days:\", days)\nprint(\"Here are the months: \", months)\n\nx = \"\"\"There's something going on here. \n      With the three double-quotes.\n      We'll be able to type as much as we like.\n      Even 4 lines if we want, or 5, or 6.\")\"\"\"",
      "execution_count": 43,
      "outputs": [
        {
          "output_type": "stream",
          "text": "Here are the days: Mon Tue Wed Thu Fri Sat Sun\nHere are the months:  Jan\nFeb\nMar\nApr\nMay\nJun\nJul\nAug\n",
          "name": "stdout"
        }
      ]
    },
    {
      "metadata": {
        "trusted": true
      },
      "cell_type": "code",
      "source": "x",
      "execution_count": 44,
      "outputs": [
        {
          "output_type": "execute_result",
          "execution_count": 44,
          "data": {
            "text/plain": "'There\\'s something going on here. \\n      With the three double-quotes.\\n      We\\'ll be able to type as much as we like.\\n      Even 4 lines if we want, or 5, or 6.\")'"
          },
          "metadata": {}
        }
      ]
    },
    {
      "metadata": {
        "trusted": true
      },
      "cell_type": "code",
      "source": "tabby_cat =                 \"\\tI'm tabbed in.\"\npersian_cat = \"I'm split\\non a line.\"\nbackslash_cat = \"I'm \\\\ a \\\\ cat.\"\n\nfat_cat = \"\"\"\nI'll do a list:\n\\t* Cat food\n\\t* Fishes\n\\t* Catnip\\n\\t* Grass\n\"\"\"\n\nprint(tabby_cat)\nprint(persian_cat)\nprint(backslash_cat)\nprint(fat_cat)",
      "execution_count": 58,
      "outputs": [
        {
          "output_type": "stream",
          "text": "\tI'm tabbed in.\nI'm split\non a line.\nI'm \t a \\ cat.\n\nI'll do a list:\n\t* Cat food\n\t* Fishes\n\t* Catnip\n\t* Grass\n\n",
          "name": "stdout"
        }
      ]
    },
    {
      "metadata": {
        "trusted": true
      },
      "cell_type": "code",
      "source": "print(\"How old are you?\", end=' ')\nage = input()\nprint(\"How tall are you?\", end=' ')\nheight = input()\nprint(\"How much do you weight?\", end=' ')\nweight = input()\n\nprint(f\"So, you're {age} old, {height} tall and {weight} heavy.\")",
      "execution_count": 64,
      "outputs": [
        {
          "output_type": "stream",
          "text": "How old are you?\n3\nHow tall are you?\n2\nHow much do you weight?\n2\nSo, you're 3 old, 2 tall and 2 heavy.\n",
          "name": "stdout"
        }
      ]
    },
    {
      "metadata": {
        "trusted": true
      },
      "cell_type": "code",
      "source": "print(\"hi\", end =' ')\nprint(\"you\")",
      "execution_count": 66,
      "outputs": [
        {
          "output_type": "stream",
          "text": "hi you\n",
          "name": "stdout"
        }
      ]
    },
    {
      "metadata": {
        "trusted": true
      },
      "cell_type": "code",
      "source": "age = input(\"How old are you? \")\nheight = input(\"How tall are you? \")\nweight = input(\"How much do you weight? \")\n\nprint(\"So, you're\", age, \"old\", height, \"tall and\",weight, \"heavy.\")",
      "execution_count": 71,
      "outputs": [
        {
          "output_type": "stream",
          "name": "stdout",
          "text": "How old are you? 3q1\nHow tall are you? 21\nHow much do you weight? 1\nSo, you're 3q1 old 21 tall and 1 heavy.\n"
        }
      ]
    },
    {
      "metadata": {
        "trusted": true
      },
      "cell_type": "code",
      "source": "from sys import argv\n\n# read the WYSS section for how to run this\nfirst, second, third = argv\n\n#print(\"The script is called:\", script)\nprint(\"Your first variable is:\", first)\nprint(\"Your second variable is:\", second)\nprint(\"Your third variable is:\", third)",
      "execution_count": 75,
      "outputs": [
        {
          "output_type": "stream",
          "text": "Your first variable is: /home/nbuser/anaconda3_501/lib/python3.6/site-packages/ipykernel/__main__.py\nYour second variable is: -f\nYour third variable is: /home/nbuser/.local/share/jupyter/runtime/kernel-d67ba7f8-9a49-4dd7-943a-c404efad7909.json\n",
          "name": "stdout"
        }
      ]
    },
    {
      "metadata": {
        "trusted": true
      },
      "cell_type": "code",
      "source": "from sys import argv\n\nscript,xxx, filename = argv\n\ntxt = open(filename)\n\nprint(f\"Here's your file {filename}:\")\nprint(txt.read())\n\nprint(\"Type the filename again:\")\nfile_again = input(\"> \")\n\ntxt_again = open(file_again)\n\nprint(txt_again.read())",
      "execution_count": 81,
      "outputs": [
        {
          "output_type": "stream",
          "text": "Here's your file /home/nbuser/.local/share/jupyter/runtime/kernel-d67ba7f8-9a49-4dd7-943a-c404efad7909.json:\n{\n  \"shell_port\": 33635,\n  \"iopub_port\": 39775,\n  \"stdin_port\": 53973,\n  \"control_port\": 41981,\n  \"hb_port\": 42101,\n  \"ip\": \"127.0.0.1\",\n  \"key\": \"82ff33b2-62cfcc48256ac7cddff55d34\",\n  \"transport\": \"tcp\",\n  \"signature_scheme\": \"hmac-sha256\",\n  \"kernel_name\": \"\"\n}\nType the filename again:\n> ex15_sample.txt\nThis is stuff I typed into a file.\nIt is really cool stuff.\nLots and lots of fun to have in here.\n",
          "name": "stdout"
        }
      ]
    },
    {
      "metadata": {
        "trusted": true
      },
      "cell_type": "code",
      "source": "argv\n",
      "execution_count": 79,
      "outputs": [
        {
          "output_type": "execute_result",
          "execution_count": 79,
          "data": {
            "text/plain": "['/home/nbuser/anaconda3_501/lib/python3.6/site-packages/ipykernel/__main__.py',\n '-f',\n '/home/nbuser/.local/share/jupyter/runtime/kernel-d67ba7f8-9a49-4dd7-943a-c404efad7909.json']"
          },
          "metadata": {}
        }
      ]
    },
    {
      "metadata": {
        "trusted": true
      },
      "cell_type": "code",
      "source": "xxx = open('ex15_sample.txt')\n\nprint(xxx.read())",
      "execution_count": 82,
      "outputs": [
        {
          "output_type": "stream",
          "text": "This is stuff I typed into a file.\nIt is really cool stuff.\nLots and lots of fun to have in here.\n",
          "name": "stdout"
        }
      ]
    },
    {
      "metadata": {
        "trusted": true
      },
      "cell_type": "code",
      "source": "def cheese_and_crackers(xxx, yyy):\n    print(f\"You have {xxx} cheeses!\")\n    print(f\"You have {yyy} boxes of crackers!\")\n    print(\"Man that's enought for a party!\")\n    print(\"Get a blanket.\\n\")\n\n\nprint(\"We can just give the function numbers directly:\")\ncheese_and_crackers(20, 30)\n\nprint(\"OR, we can use variables from our script:\")\namount_of_cheese = 10\namount_of_crackers = 50\n\ncheese_and_crackers(amount_of_cheese, amount_of_crackers)\n\nprint(\"We can even do math inside too:\")\ncheese_and_crackers(10 + 20, 5 + 6)\n\nprint(\"And we can combine the two, variables and math:\")\ncheese_and_crackers(amount_of_cheese + 100, amount_of_crackers + 1000)",
      "execution_count": 89,
      "outputs": [
        {
          "output_type": "stream",
          "text": "We can just give the function numbers directly:\nYou have 20 cheeses!\nYou have 30 boxes of crackers!\nMan that's enought for a party!\nGet a blanket.\n\nOR, we can use variables from our script:\nYou have 10 cheeses!\nYou have 50 boxes of crackers!\nMan that's enought for a party!\nGet a blanket.\n\nWe can even do math inside too:\nYou have 30 cheeses!\nYou have 11 boxes of crackers!\nMan that's enought for a party!\nGet a blanket.\n\nAnd we can combine the two, variables and math:\nYou have 110 cheeses!\nYou have 1050 boxes of crackers!\nMan that's enought for a party!\nGet a blanket.\n\n",
          "name": "stdout"
        }
      ]
    },
    {
      "metadata": {
        "trusted": true
      },
      "cell_type": "code",
      "source": "def add(a, b):\n    print(f\"ADDING {a} + {b}\")\n    return a + b\n\n\ndef subtract(a, b):\n    print(f\"SUBTRACTING {a} - {b}\")\n    return a - b\n\n\ndef multiply(a, b):\n    print(f\"MULTIPLYING {a} * {b}\")\n    return a * b\n\n\ndef divide(a, b):\n    print(f\"DIVIDING {a} / {b}\")\n    return a / b\n\n\nprint(\"Let's do some math with just functions!\")\n\nage = add(30, 5)\nheight = subtract(78, 4)\nweight = multiply(90, 2)\niq = divide(100, 2)\n\nprint(f\"Age: {age}, Height: {height}, Weight: {weight}, IQ: {iq}\")\n\n# A puzzle for the extra credit, type it in anyway.\nprint(\"Here is a puzzle.\")\n\nwhat = 35 + 74- 180* 50/2\nprint(\"That becomes: \", what, \"Can you do it by hand?\")",
      "execution_count": 91,
      "outputs": [
        {
          "output_type": "stream",
          "text": "Let's do some math with just functions!\nADDING 30 + 5\nSUBTRACTING 78 - 4\nMULTIPLYING 90 * 2\nDIVIDING 100 / 2\nAge: 35, Height: 74, Weight: 180, IQ: 50.0\nHere is a puzzle.\nThat becomes:  -4391 Can you do it by hand?\n",
          "name": "stdout"
        }
      ]
    },
    {
      "metadata": {
        "trusted": true
      },
      "cell_type": "code",
      "source": "def add(a, b):\n    print(f\"ADDING {a} + {b}\")\n    return a + b\n\n\ndef subtract(a, b):\n    print(f\"SUBTRACTING {a} - {b}\")\n    return a - b\n\n\ndef multiply(a, b):\n    print(f\"MULTIPLYING {a} * {b}\")\n    return a * b\n\n\ndef divide(a, b):\n    print(f\"DIVIDING {a} / {b}\")\n    return a / b\n\n\nprint(\"Let's do some math with just functions!\")\n\nage = add(30, 5)\nheight = subtract(78, 4)\nweight = multiply(90, 2)\niq = divide(100, 2)\n\nprint(f\"Age: {age}, Height: {height}, Weight: {weight}, IQ: {iq}\")\n\n# A puzzle for the extra credit, type it in anyway.\nprint(\"Here is a puzzle.\")\n\nwhat = add(age, subtract(height, multiply(weight, divide(iq, 2))))\nprint(\"That becomes: \", what, \"Can you do it by hand?\")",
      "execution_count": 90,
      "outputs": [
        {
          "output_type": "stream",
          "text": "Let's do some math with just functions!\nADDING 30 + 5\nSUBTRACTING 78 - 4\nMULTIPLYING 90 * 2\nDIVIDING 100 / 2\nAge: 35, Height: 74, Weight: 180, IQ: 50.0\nHere is a puzzle.\nDIVIDING 50.0 / 2\nMULTIPLYING 180 * 25.0\nSUBTRACTING 74 - 4500.0\nADDING 35 + -4426.0\nThat becomes:  -4391.0 Can you do it by hand?\n",
          "name": "stdout"
        }
      ]
    },
    {
      "metadata": {
        "trusted": true
      },
      "cell_type": "code",
      "source": "divide(20000,20)",
      "execution_count": 93,
      "outputs": [
        {
          "output_type": "stream",
          "text": "DIVIDING 20000 / 20\n",
          "name": "stdout"
        },
        {
          "output_type": "execute_result",
          "execution_count": 93,
          "data": {
            "text/plain": "1000.0"
          },
          "metadata": {}
        }
      ]
    },
    {
      "metadata": {
        "trusted": true
      },
      "cell_type": "code",
      "source": "'a'*10",
      "execution_count": 97,
      "outputs": [
        {
          "output_type": "execute_result",
          "execution_count": 97,
          "data": {
            "text/plain": "'aaaaaaaaaa'"
          },
          "metadata": {}
        }
      ]
    },
    {
      "metadata": {
        "trusted": true
      },
      "cell_type": "code",
      "source": "print(\"Let's practice everything.\")\nprint('You\\'d need to know \\'bout escapes with \\\\ that do:')\nprint('\\n newlines and \\t tabs.')\n\npoem = \"\"\"\n\\tThe lovely world\nwith logic so firmly planted\ncannot discern \\n the needs of love\nnor comprehend passion from intuition\nand requires an explanation\n\\n\\t\\twhere there is none.\n\"\"\"\n\nprint(\"--------------\")\nprint(poem)\nprint(\"--------------\")\n\nfive = 10 - 2 + 3 - 6\nprint(f\"This should be five: {five}\")\n\n\ndef secret_formula(xxx):\n    jelly_beans = xxx * 500\n    jars = jelly_beans / 1000\n    crates = jars / 100\n    return jelly_beans, jars, crates\n\n\nstart_point = 10000\nbeans, jars, crates = secret_formula(start_point)\n\n# remember that this is another way to format string\nprint(\"With a starting point of: {}\".format(start_point))\n# it's just like with an f\"\" string\nprint(f\"We'd have {beans} beans, {jars} jars, and {crates} crates.\")\n\nstart_point = start_point / 10\n\nprint(\"We can also do that this way:\")\nformula = secret_formula(start_point)\n# this is an easy way to apply a list to a format string\nprint(\"We'd have {} beans, {} jars, and {} crates.\".format(*formula))",
      "execution_count": 98,
      "outputs": [
        {
          "output_type": "stream",
          "text": "Let's practice everything.\nYou'd need to know 'bout escapes with \\ that do:\n\n newlines and \t tabs.\n--------------\n\n\tThe lovely world\nwith logic so firmly planted\ncannot discern \n the needs of love\nnor comprehend passion from intuition\nand requires an explanation\n\n\t\twhere there is none.\n\n--------------\nThis should be five: 5\nWith a starting point of: 10000\nWe'd have 5000000 beans, 5000.0 jars, and 50.0 crates.\nWe can also do that this way:\nWe'd have 500000.0 beans, 500.0 jars, and 5.0 crates.\n",
          "name": "stdout"
        }
      ]
    },
    {
      "metadata": {
        "trusted": true
      },
      "cell_type": "code",
      "source": "formula",
      "execution_count": 102,
      "outputs": [
        {
          "output_type": "execute_result",
          "execution_count": 102,
          "data": {
            "text/plain": "(500000.0, 500.0, 5.0)"
          },
          "metadata": {}
        }
      ]
    },
    {
      "metadata": {
        "trusted": true
      },
      "cell_type": "code",
      "source": "def break_words(stuff):\n    \"\"\"This function will break up words for us.\"\"\"\n    words = stuff.split(' ')\n    return words\n\n\ndef sort_words(words):\n    \"\"\"Sorts the words.\"\"\"\n    return sorted(words)\n\n\ndef print_first_word(words):\n    \"\"\"Prints the first word after popping it off.\"\"\"\n    word = words.pop(0)\n    print(word)\n\n\ndef print_last_word(words):\n    \"\"\"Prints the last word after popping it of.\"\"\"\n    word = words.pop(-1)\n    print(word)\n\n\ndef sort_sentence(sentence):\n    \"\"\"Takes in a full sentence and returns the sorted words.\"\"\"\n    words = break_words(sentence)\n    return (sort_words(words))\n\n\ndef print_first_and_last(sentence):\n    \"\"\"Prints the first and last words of a sentence.\"\"\"\n    words = break_words(sentence)\n    print_first_word(words)\n    print_last_word(words)\n\n\ndef print_first_and_last_sorted(sentence):\n    \"\"\"Sorts the words then prints the first and last one.\"\"\"\n    words = sort_sentence(sentence)\n    print_first_word(words)\n    print_last_word(words)",
      "execution_count": 103,
      "outputs": []
    },
    {
      "metadata": {
        "trusted": true
      },
      "cell_type": "code",
      "source": "x= \"hello how are you\"",
      "execution_count": 104,
      "outputs": []
    },
    {
      "metadata": {
        "trusted": true
      },
      "cell_type": "code",
      "source": "listofs = x.split(' ')",
      "execution_count": 108,
      "outputs": []
    },
    {
      "metadata": {
        "trusted": true
      },
      "cell_type": "code",
      "source": "x[1]",
      "execution_count": 107,
      "outputs": [
        {
          "output_type": "execute_result",
          "execution_count": 107,
          "data": {
            "text/plain": "'e'"
          },
          "metadata": {}
        }
      ]
    },
    {
      "metadata": {
        "trusted": true
      },
      "cell_type": "code",
      "source": "sorted (listofs)",
      "execution_count": 110,
      "outputs": [
        {
          "output_type": "execute_result",
          "execution_count": 110,
          "data": {
            "text/plain": "['are', 'hello', 'how', 'you']"
          },
          "metadata": {}
        }
      ]
    },
    {
      "metadata": {
        "trusted": true
      },
      "cell_type": "code",
      "source": "listofs.pop()",
      "execution_count": 112,
      "outputs": [
        {
          "output_type": "execute_result",
          "execution_count": 112,
          "data": {
            "text/plain": "'you'"
          },
          "metadata": {}
        }
      ]
    },
    {
      "metadata": {
        "trusted": true
      },
      "cell_type": "code",
      "source": "listofs[-1]",
      "execution_count": 115,
      "outputs": [
        {
          "output_type": "execute_result",
          "execution_count": 115,
          "data": {
            "text/plain": "'are'"
          },
          "metadata": {}
        }
      ]
    },
    {
      "metadata": {
        "trusted": true
      },
      "cell_type": "code",
      "source": "listofs.append('you')\n",
      "execution_count": 117,
      "outputs": []
    },
    {
      "metadata": {
        "trusted": true
      },
      "cell_type": "code",
      "source": "listofs",
      "execution_count": 118,
      "outputs": [
        {
          "output_type": "execute_result",
          "execution_count": 118,
          "data": {
            "text/plain": "['hello', 'how', 'are', 'you']"
          },
          "metadata": {}
        }
      ]
    },
    {
      "metadata": {
        "trusted": true
      },
      "cell_type": "code",
      "source": "sort_words('hello')",
      "execution_count": 122,
      "outputs": [
        {
          "output_type": "execute_result",
          "execution_count": 122,
          "data": {
            "text/plain": "['e', 'h', 'l', 'l', 'o']"
          },
          "metadata": {}
        }
      ]
    },
    {
      "metadata": {
        "trusted": true
      },
      "cell_type": "code",
      "source": "people = 20\ncats = 30\ndogs = 15\n\nif people < cats:\n    print(\"Too many cats! The world is doomed!\")\n\nif people > cats:\n    print(\"Not many cats! The world is saved!\")\n\nif people < dogs:\n    print(\"The world is drooled on!\")\n\nif people > dogs:\n    print(\"The world is dry!\")\n\ndogs += 5\ndog = dog + 5\n\nif people >= dogs:\n    print(\"People are greater than or equal to dogs.\")\n\nif people <= dogs:\n    print(\"People are less than or equal to dogs.\")\n\nif people == dogs:\n    print(\"People are dogs.\")",
      "execution_count": 123,
      "outputs": [
        {
          "output_type": "stream",
          "text": "Too many cats! The world is doomed!\nThe world is dry!\nPeople are greater than or equal to dogs.\nPeople are less than or equal to dogs.\nPeople are dogs.\n",
          "name": "stdout"
        }
      ]
    },
    {
      "metadata": {
        "trusted": true
      },
      "cell_type": "code",
      "source": "people = 30\ncars = 40\ntrucks = 15\n\nif cars > people:\n    print(\"We should take the cars.\")\nelif cars < people:\n    print(\"We should not take the cars.\")\nelse:\n    print(\"We can't decide.\")\n\nif trucks > cars:\n    print(\"That's too many trucks.\")\nelif trucks < cars:\n    print(\"Maybe we could take the trucks.\")\nelse:\n    print(\"We still can't decide.\")\n\nif people > trucks:\n    print(\"Alright, let's just take the trucks.\")\nelse:",
      "execution_count": 124,
      "outputs": [
        {
          "output_type": "error",
          "ename": "SyntaxError",
          "evalue": "unexpected EOF while parsing (<ipython-input-124-009235616dcc>, line 21)",
          "traceback": [
            "\u001b[0;36m  File \u001b[0;32m\"<ipython-input-124-009235616dcc>\"\u001b[0;36m, line \u001b[0;32m21\u001b[0m\n\u001b[0;31m    else:\u001b[0m\n\u001b[0m         ^\u001b[0m\n\u001b[0;31mSyntaxError\u001b[0m\u001b[0;31m:\u001b[0m unexpected EOF while parsing\n"
          ]
        }
      ]
    },
    {
      "metadata": {
        "trusted": true
      },
      "cell_type": "code",
      "source": "print(\"You enter a dark room with two doors.\")\nprint(\"Do you go through door #1 or door #2?\")\n\ndoor = input(\"> \")\n\nif door == \"1\":\n    print(\"There's a giant bear here eating a cheese cake.\")\n    print(\"What do you do?\")\n    print(\"1. Take the cake.\")\n    print(\"2. Scream at the bear.\")\n\n    bear = input(\"> \")\n\n    if bear == \"1\":\n        print(\"The bear eats your face off. Good job!\")\n    elif bear == \"2\":\n        print(\"The bear eats your legs off. Good job!\")\n    else:\n        print(f\"Well, doing {bear} is probably better.\")\n        print(\"Bear runs away.\")\n\nelif door == \"2\":\n    print(\"You stare into the endless abyss at Cthulhu's retina.\")\n    print(\"1. Blueberries.\")\n    print(\"2. Yellow jacket clothespins.\")\n    print(\"3. Understanding revolvers yelling melodies.\")\n\n    insanity = input(\"> \")\n\n    if insanity == \"1\" or insanity == \"2\":\n        print(\"Your body survives powered by a mind of jello.\")\n        print(\"Good job!\")\n    else:\n        print(\"The insanity rots your eyes into a pool of muck.\")\n        print(\"Good job!\")\n\nelse:\n    print(\"You stumble around and fall on knife and die. Good job!\")",
      "execution_count": 127,
      "outputs": [
        {
          "output_type": "stream",
          "text": "You enter a dark room with two doors.\nDo you go through door #1 or door #2?\n> 1\nThere's a giant bear here eating a cheese cake.\nWhat do you do?\n1. Take the cake.\n2. Scream at the bear.\n> jdsnkghsdkgjhs;gkhjdrzg\nWell, doing jdsnkghsdkgjhs;gkhjdrzg is probably better.\nBear runs away.\n",
          "name": "stdout"
        }
      ]
    },
    {
      "metadata": {
        "trusted": true
      },
      "cell_type": "code",
      "source": "the_count = [1, 2, 3, 4, 5]\nfruits = ['apples', 'oranges', 'pears', 'apricots']\nchange = [1, 'pennies', 2, 'dimes', 3, 'quarters']\n\n# this first kind of for-loop goes through a list\nfor number in the_count:\n    print(f\"This is count {number}\")\n\n# same as above\nfor fruit in fruits:\n    print(f\"A fruit of type: {fruit}\")\n\n# also we can go through mixed lists too\n# notice we have to use %r since we don't know what's in items\nfor i in change:\n    print(f\"I got {i}\")\n\n# we can also build lists, first start with an empty one\nelements = []\n\n# then use the range function to do 0 to 5 counts\nfor i in range(0, 6):\n    print(f\"Adding {i} to the list.\")\n    # append is a function that lists understand\n    elements.append(i)\n\n# now we can print them out too\nfor i in elements:\n    print(f\"Element was: {i}\")",
      "execution_count": 128,
      "outputs": [
        {
          "output_type": "stream",
          "text": "This is count 1\nThis is count 2\nThis is count 3\nThis is count 4\nThis is count 5\nA fruit of type: apples\nA fruit of type: oranges\nA fruit of type: pears\nA fruit of type: apricots\nI got 1\nI got pennies\nI got 2\nI got dimes\nI got 3\nI got quarters\nAdding 0 to the list.\nAdding 1 to the list.\nAdding 2 to the list.\nAdding 3 to the list.\nAdding 4 to the list.\nAdding 5 to the list.\nElement was: 0\nElement was: 1\nElement was: 2\nElement was: 3\nElement was: 4\nElement was: 5\n",
          "name": "stdout"
        }
      ]
    },
    {
      "metadata": {
        "trusted": true
      },
      "cell_type": "code",
      "source": "for xxx in the_count:\n    print(xxx%2)\n",
      "execution_count": 135,
      "outputs": [
        {
          "output_type": "stream",
          "text": "1\n0\n1\n0\n1\n",
          "name": "stdout"
        }
      ]
    },
    {
      "metadata": {
        "trusted": true
      },
      "cell_type": "code",
      "source": "list( range(0, 6,2))",
      "execution_count": 134,
      "outputs": [
        {
          "output_type": "execute_result",
          "execution_count": 134,
          "data": {
            "text/plain": "[0, 2, 4]"
          },
          "metadata": {}
        }
      ]
    },
    {
      "metadata": {
        "trusted": true
      },
      "cell_type": "code",
      "source": "[0,1,2,3,4,5]",
      "execution_count": 132,
      "outputs": [
        {
          "output_type": "execute_result",
          "execution_count": 132,
          "data": {
            "text/plain": "[0, 1, 2, 3, 4, 5]"
          },
          "metadata": {}
        }
      ]
    },
    {
      "metadata": {
        "trusted": true
      },
      "cell_type": "code",
      "source": "i = 0\nnumbers = []\n\nwhile i < 6:\n    print(f\"At the top i is {i}\")\n    numbers.append(i)\n\n    i = i + 3\n    print(\"Numbers now: \", numbers)\n    print(f\"At the bottom i is {i}\")\n\nprint(\"The numbers: \")\n\nfor num in numbers:\n    print(num)",
      "execution_count": 138,
      "outputs": [
        {
          "output_type": "stream",
          "text": "At the top i is 0\nNumbers now:  [0]\nAt the bottom i is 3\nAt the top i is 3\nNumbers now:  [0, 3]\nAt the bottom i is 6\nThe numbers: \n0\n3\n",
          "name": "stdout"
        }
      ]
    },
    {
      "metadata": {
        "trusted": true
      },
      "cell_type": "code",
      "source": "ten_things = \"Apples Oranges Crows Telephone Light Sugar\"\n\nprint(\"Wait there's not 10 things in that list, let's fix that.\")\n\nstuff = ten_things.split(' ')\nmore_stuff = [\"Day\", \"Night\", \"Song\", \"Frisbee\",\n              \"Corn\", \"Banana\", \"Girl\", \"Boy\"]\n\nwhile len(stuff) != 10:\n    next_one = more_stuff.pop()\n    print(\"Adding: \", next_one)\n    stuff.append(next_one)\n    print(f\"There's {len(stuff)} items now.\")\n\nprint(\"There we go: \", stuff)\n\nprint(\"Let's do some things with stuff.\")\n\nprint(stuff[1])\nprint(stuff[-1])  # whoa! fancy\nprint(stuff.pop())\nprint(','.join(stuff))  # what= cool!\nprint('#'.join(stuff[3:5]))  # super stellar!",
      "execution_count": 141,
      "outputs": [
        {
          "output_type": "stream",
          "text": "Wait there's not 10 things in that list, let's fix that.\nAdding:  Boy\nThere's 7 items now.\nAdding:  Girl\nThere's 8 items now.\nAdding:  Banana\nThere's 9 items now.\nAdding:  Corn\nThere's 10 items now.\nThere we go:  ['Apples', 'Oranges', 'Crows', 'Telephone', 'Light', 'Sugar', 'Boy', 'Girl', 'Banana', 'Corn']\nLet's do some things with stuff.\nOranges\nCorn\nCorn\nApples,Oranges,Crows,Telephone,Light,Sugar,Boy,Girl,Banana\nTelephone#Light\n",
          "name": "stdout"
        }
      ]
    },
    {
      "metadata": {
        "trusted": true
      },
      "cell_type": "code",
      "source": "stuff",
      "execution_count": 140,
      "outputs": [
        {
          "output_type": "execute_result",
          "execution_count": 140,
          "data": {
            "text/plain": "['Apples',\n 'Oranges',\n 'Crows',\n 'Telephone',\n 'Light',\n 'Sugar',\n 'Boy',\n 'Girl',\n 'Banana']"
          },
          "metadata": {}
        }
      ]
    },
    {
      "metadata": {
        "trusted": true
      },
      "cell_type": "code",
      "source": "# create a mapping of state to abbreviation\nstates = {\n    'Oregon': 'OR',\n    'Florida': 'FL',\n    'California': 'CA',\n    'New York': 'NY',\n    'Michigan': 'MI'\n}\n\n# create a basic set of states and some cities in them\ncities = {'CA': 'San Francisco',\n          'MI': 'Detroit',\n          'FL': 'Jacksonville'}\n\n# add some more cities\ncities['NY'] = 'New York'\ncities['OR'] = 'Portland'\n\n# print out some cities\nprint('-' * 10)\nprint(\"NY State has: \", cities['NY'])\nprint(\"OR State has: \", cities['OR'])\n\n# print some states\nprint('-' * 10)\nprint(\"Michigan's abbreviation is: \", states[\"Michigan\"])\nprint(\"Florida's abbreviation is: \", states['Florida'])\n\n# do it by using the state then cities dict\nprint('-' * 10)\nprint(\"Michigan has: \", cities[states['Michigan']])\nprint(\"Florida has: \", cities[states['Florida']])\n\n# print every state abbreviation\nprint('-' * 10)\nfor state, abbrev in states.items():\n    print(f\"{state} is abbreviated {abbrev}\")\n\n# print every city in state\nprint('-' * 10)\nfor abbrev, city in cities.items():\n    print(f\"{abbrev} has the city {city}\")\n\n# now do both at the same time\nprint('-' * 10)\nfor state, abbrev in states.items():\n    print(f\"{state} state is abbreviated {abbrev}\")\n    print(f\"and has city {cities[abbrev]}\")\n\nprint('-' * 10)\n# safely get an abbreviation by state that might not be there\nstate = states.get('Texas')\n\nif not state:\n    print(\"Sorry, no Texas.\")\n\n# get a city with a default values\ncity = cities.get('TX')\nprint(f\"The city for the state 'TX' is: {city}\")",
      "execution_count": 152,
      "outputs": [
        {
          "output_type": "stream",
          "text": "----------\nNY State has:  New York\nOR State has:  Portland\n----------\nMichigan's abbreviation is:  MI\nFlorida's abbreviation is:  FL\n----------\nMichigan has:  Detroit\nFlorida has:  Jacksonville\n----------\nOregon is abbreviated OR\nFlorida is abbreviated FL\nCalifornia is abbreviated CA\nNew York is abbreviated NY\nMichigan is abbreviated MI\n----------\nCA has the city San Francisco\nMI has the city Detroit\nFL has the city Jacksonville\nNY has the city New York\nOR has the city Portland\n----------\nOregon state is abbreviated OR\nand has city Portland\nFlorida state is abbreviated FL\nand has city Jacksonville\nCalifornia state is abbreviated CA\nand has city San Francisco\nNew York state is abbreviated NY\nand has city New York\nMichigan state is abbreviated MI\nand has city Detroit\n----------\nSorry, no Texas.\nThe city for the state 'TX' is: None\n",
          "name": "stdout"
        }
      ]
    },
    {
      "metadata": {
        "trusted": true
      },
      "cell_type": "code",
      "source": "for xxx, yyy in states.items():\n    print(f\"{xxx} is abbreviated {yyy}\")\n",
      "execution_count": 144,
      "outputs": [
        {
          "output_type": "stream",
          "text": "Oregon is abbreviated OR\nFlorida is abbreviated FL\nCalifornia is abbreviated CA\nNew York is abbreviated NY\nMichigan is abbreviated MI\n",
          "name": "stdout"
        }
      ]
    },
    {
      "metadata": {
        "trusted": true
      },
      "cell_type": "code",
      "source": "type(states)",
      "execution_count": 146,
      "outputs": [
        {
          "output_type": "execute_result",
          "execution_count": 146,
          "data": {
            "text/plain": "dict"
          },
          "metadata": {}
        }
      ]
    },
    {
      "metadata": {
        "trusted": true
      },
      "cell_type": "code",
      "source": "state",
      "execution_count": 147,
      "outputs": []
    },
    {
      "metadata": {
        "trusted": true
      },
      "cell_type": "code",
      "source": "state == None",
      "execution_count": 148,
      "outputs": [
        {
          "output_type": "execute_result",
          "execution_count": 148,
          "data": {
            "text/plain": "True"
          },
          "metadata": {}
        }
      ]
    },
    {
      "metadata": {
        "trusted": true
      },
      "cell_type": "code",
      "source": "\"\"",
      "execution_count": 149,
      "outputs": [
        {
          "output_type": "execute_result",
          "execution_count": 149,
          "data": {
            "text/plain": "''"
          },
          "metadata": {}
        }
      ]
    },
    {
      "metadata": {
        "trusted": true
      },
      "cell_type": "code",
      "source": "0",
      "execution_count": 150,
      "outputs": [
        {
          "output_type": "execute_result",
          "execution_count": 150,
          "data": {
            "text/plain": "0"
          },
          "metadata": {}
        }
      ]
    },
    {
      "metadata": {
        "trusted": true
      },
      "cell_type": "code",
      "source": "city",
      "execution_count": 151,
      "outputs": [
        {
          "output_type": "execute_result",
          "execution_count": 151,
          "data": {
            "text/plain": "'Does not Exist'"
          },
          "metadata": {}
        }
      ]
    },
    {
      "metadata": {
        "trusted": true
      },
      "cell_type": "code",
      "source": "class Song(object):\n    def __init__(self, lyrics):\n        self.lyrics = lyrics\n\n    def sing_me_a_song(self):\n        for line in self.lyrics:\n            print(line)\n\n\nhappy_bday = Song([\"Happy birthday to you\",\n                   \"I don't want to get sued\",\n                   \"So I'll stop right there\"])\n\nbulls_on_parade = Song([\"They rally around the family\",\n                        \"With pockets full of shells\"])\n\nhappy_bday.sing_me_a_song()\n\nbulls_on_parade.sing_me_a_song()",
      "execution_count": 153,
      "outputs": [
        {
          "output_type": "stream",
          "text": "Happy birthday to you\nI don't want to get sued\nSo I'll stop right there\nThey rally around the family\nWith pockets full of shells\n",
          "name": "stdout"
        }
      ]
    },
    {
      "metadata": {
        "trusted": true
      },
      "cell_type": "code",
      "source": "happy_bday = Song('hello')\nhappy_bday.sing_me_a_song()",
      "execution_count": 155,
      "outputs": [
        {
          "output_type": "stream",
          "text": "h\ne\nl\nl\no\n",
          "name": "stdout"
        }
      ]
    },
    {
      "metadata": {
        "trusted": true
      },
      "cell_type": "code",
      "source": "import numpy as np\ndata = {i : np.random.randn() for i in range(7)}\ndata",
      "execution_count": 156,
      "outputs": [
        {
          "output_type": "execute_result",
          "execution_count": 156,
          "data": {
            "text/plain": "{0: 0.6281021298649665,\n 1: 0.4490616461349987,\n 2: 0.6943824867398607,\n 3: 0.33858679827796884,\n 4: 1.2971834118723462,\n 5: -0.25129797160685885,\n 6: 0.6121771604905629}"
          },
          "metadata": {}
        }
      ]
    },
    {
      "metadata": {
        "trusted": true
      },
      "cell_type": "code",
      "source": "data ={}\nfor i in range(7):\n    data[i]=  np.random.randn()\n    \n",
      "execution_count": 158,
      "outputs": []
    },
    {
      "metadata": {
        "trusted": true
      },
      "cell_type": "code",
      "source": "data",
      "execution_count": 159,
      "outputs": [
        {
          "output_type": "execute_result",
          "execution_count": 159,
          "data": {
            "text/plain": "{0: -1.0839519098053954,\n 1: -0.4946831322204298,\n 2: 0.4570782737161315,\n 3: 0.11806769308202279,\n 4: -0.9798342433210548,\n 5: 0.20662063261447264,\n 6: 0.5556458076624691}"
          },
          "metadata": {}
        }
      ]
    },
    {
      "metadata": {
        "trusted": true
      },
      "cell_type": "code",
      "source": "",
      "execution_count": null,
      "outputs": []
    }
  ],
  "metadata": {
    "kernelspec": {
      "name": "python36",
      "display_name": "Python 3.6",
      "language": "python"
    },
    "language_info": {
      "mimetype": "text/x-python",
      "nbconvert_exporter": "python",
      "name": "python",
      "pygments_lexer": "ipython3",
      "version": "3.6.3",
      "file_extension": ".py",
      "codemirror_mode": {
        "version": 3,
        "name": "ipython"
      }
    }
  },
  "nbformat": 4,
  "nbformat_minor": 2
}